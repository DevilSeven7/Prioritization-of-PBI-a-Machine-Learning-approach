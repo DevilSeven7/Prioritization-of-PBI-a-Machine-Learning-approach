{
 "cells": [
  {
   "cell_type": "markdown",
   "metadata": {},
   "source": [
    "![Title](img/title.PNG)"
   ]
  },
  {
   "cell_type": "markdown",
   "metadata": {
    "nbpresent": {
     "id": "18dcca94-9e05-4f55-b9b1-8362fbeb0925"
    },
    "slideshow": {
     "slide_type": "slide"
    }
   },
   "source": [
    "# Index\n",
    "<ol>\n",
    "    <li> <a href='#introduction_to_scrum'>Introduction to Scrum</a> </li>\n",
    "    <ol>\n",
    "        <li> <a href='#problem_overview'>Problem overview</a></li>\n",
    "        <li> <a href='#problem_statement'>Problem statement</a></li>\n",
    "        <li> <a href='#solution_overview'>Solution overview</a></li>\n",
    "    </ol>\n",
    "    <li> <a href='#data_overview'>Data Overview</a></li>\n",
    "    <li> <a href='#statistical_analysis'>Statistical Analysis</a></li>\n",
    "    <ol>\n",
    "        <li><a href='#normalizzation'>Normalization</a></li>\n",
    "        <li><a href='#outlier_detection'>Outliers Detection</a></li>\n",
    "        <li><a href='#correlation'>Correlation</a></li>\n",
    "    </ol>\n",
    "    <li><a href='#modelling'>Modelling</a></li>\n",
    "    <ol>\n",
    "        <li><a href='#train_and_test_sets'>Train and Test sets</a></li>\n",
    "        <li><a href='#features_selection'>Features Selection</a></li>\n",
    "        <li><a href='#perceptron'>Perceptron</a></li>\n",
    "        <li><a href='#multilayer_perceptron'>Multilayer Perceptron</a></li>\n",
    "        <li><a href='#models_evaluation'>Models Evaluation</a></li>\n",
    "        <li><a href='#models_comparison'>Models Comparison</a></li>\n",
    "        <ol>\n",
    "            <li><a href='#conclusions'>Conclusions</a></li>\n",
    "        </ol>\n",
    "    </ol>\n",
    "    <li><a href='#references'>References</a></li>\n",
    "    <li><a href='#appendix'>Appendix-A general approach to explore the dataset and acquiring knowledge</a></li>\n",
    "\n",
    "</ol>\n"
   ]
  },
  {
   "cell_type": "markdown",
   "metadata": {
    "nbpresent": {
     "id": "4b8ed538-ebc9-4d5b-9f85-bc445a5411f1"
    }
   },
   "source": [
    "# Introduction to Scrum <a id='introduction_to_scrum'></a>"
   ]
  },
  {
   "cell_type": "markdown",
   "metadata": {
    "nbpresent": {
     "id": "f089abcc-ef2a-4b5e-8e30-6aa305226425"
    },
    "slideshow": {
     "slide_type": "skip"
    }
   },
   "source": [
    "_Scrum_ is an iterative and incremental __agile software development framework__ for managing product/service development.\n",
    "A key principle of Scrum is the dual recognition that customers will change their minds about what they want or need (often called requirements volatility) and that there will be unpredictable challenges, for which a predictive or planned approach is not suited.\n",
    "With this agile approach, it begins by creating a __product backlog__, a prioritized list of the features needed to develop a successful product. Guided by the product backlog, the team is able to work on the most important or highest -priority items first.\n",
    "The work itself is performed in short, timeboxed iterations, which usually range from a week to a calendar month in length. During each iteration, a self-organizing, cross-functional team does all of the work, such as designing, building, and testing, required to produce completed, working features that could be put into production.\n",
    "Typically the amount of work in the product backlog is much greater than can be completed by a team in one short-duration iteration. So, at the start of each iteration, the team plans which high-priority subset of the product backlog to create in the upcoming iteration. At the end of the iteration, the team reviews the completed features with the stakeholders to get their feedback. Based on the feedback, the product owner and team plan the work for the next iteration.\n",
    "At the end of each iteration, the team should have a _potentially shippable product (or increment of the product)_, one that can be released if appropriate. If releasing after each iteration isn’t appropriate, a set of features from multiple iterations can be released together.\n",
    "Now we'are going to see a brief introduction to scrum roles. Scrum development efforts consist of one or more Scrum teams, each made up of three Scrum roles: __Product Owner__, __ScrumMaster__, and the __development team__.\n",
    "The _Product Owner_ is responsibile for what will be developed and in what order. The ScrumMaster is responsible for guiding the team in creating and following its own process based on the broader Scrum framework. The development team is responsible for determining how to deliver what the product owner has asked for."
   ]
  },
  {
   "cell_type": "markdown",
   "metadata": {
    "nbpresent": {
     "id": "74fa87ea-e5da-46fe-83c4-24ad9c7ad607"
    }
   },
   "source": [
    "## Problem overview <a id='problem_overview'></a>"
   ]
  },
  {
   "cell_type": "markdown",
   "metadata": {
    "nbpresent": {
     "id": "88dc54b8-9340-4713-82ed-e6e972bf1310"
    }
   },
   "source": [
    "To better understand what's the problem, it is necessary to detailing the role of the _Product Owner_, the functionality of the _Product Backlog_ and it is necessary to explain what is __Product Backlog Item__ (PBI). In other words we want to understand the relationship among Product Owner, Product Backlog and PBIs.\n",
    "Let's start with the Product Owner, he is the empowered central point of product leadership. The product owner needs to look in at least two macro directions simultaneously. On one hand, the product owner must understand the needs and priorities of the organizational stakeholders, the customers, and the users well enough to act as their voice. On the other hand, the product owner must communicate to the development team what to build and the order in which to build it. The most important responsibility of Product Owner is __the grooming of the product backlog__. We will focus on this because it is the central activity in which all the other (manage economics, participate in planning and collaborate with stakeholders and development team) converge into central activity. This activity includes some sub-activity that are: creating and refining, estimating, and prioritizing __PBIs__.\n",
    "The PBIs are the element of the product backlog. Usually, they are features or functionalities that will have tangible value to the user or customer, and are often written as user stories. In particular, the syntax that they respect is: \"As a [_type of user_], I want to [_description of functionality_]\".\n",
    "\n",
    "The following is an example of user stories:\n",
    "\n",
    "_\"As a customer service representative, I want to create a ticket for a customer support issue, so that I can record and manage a customer’s request for support.\"_\n",
    "\n",
    "Now, let's find out what the functionality of a product backlog is. It helps:\n",
    "\n",
    "+ the product owner to  break down the project into features and functionalities;\n",
    "+ the development team and the product owner in planning next sprint;\n",
    "+ the product owner to checks the status of the project to manage economic of the project.\n",
    "\n",
    "Finally we have all pieces of the puzzle, so we can go to analyze one of the issues the product owner has, which is the central topic of this notebook: __The Prioritization of PBIs__.\n"
   ]
  },
  {
   "cell_type": "markdown",
   "metadata": {
    "nbpresent": {
     "id": "ae3c2ac8-eaf4-4684-833f-a65800d8721c"
    }
   },
   "source": [
    "## Problem Statement <a id='problem_statement'></a>"
   ]
  },
  {
   "cell_type": "markdown",
   "metadata": {
    "nbpresent": {
     "id": "9728c295-a8b1-4b38-a870-988fe083b14e"
    }
   },
   "source": [
    "The prioritization of the PBIs is an activity in which the product owner assigns a priority to the PBIs, that is the order in which the PBIs have to be done by development team in the next sprints.\n",
    "The prioritization is a prediction based on a __qualitative judgment__ assigned by the product owner that must be considered by several factors. Indeed, to make a good prediction about the priority may takes a lot of time because, for each P.B.I.s, the product owner must take into account at least the point of view of the stakeholders ad the point of view of customers (or users). Now we could break down the point of view of organizational stakeholders and of customers (or users) into basic elements that can be retrieved, more easily, within the organization. In addition, this breakdown will allow you to _analyze_ and _quantify_ the size of the decision that the product owner must take.\n",
    "Let's start with this breakdown, we can divide stakeholders and customers (or users) into point of view of:\n",
    " + Staff involved in scrum;\n",
    " + CEO;\n",
    " + Marketing department;\n",
    " + Customers.\n",
    "\n",
    "As we can see customers has not been decomposed because, usually, the customers represent a single entity that commands a project. It's clear that with this simple high-level decomposition the decision assumes a 4-dimensional aspect. It's not so easy to do a multidimensional analysis to prioritize the PBIs, in addition this analysis is done in a qualitative manner, so without using precise mathematical model. This, not only makes the decision difficult but very often wrong too. In fact, the product owner only after many experience succeed in giving the right priorities. So the problem is, __how can we make a good multidimensional analysis to make a good prioritization ?__  \n"
   ]
  },
  {
   "cell_type": "markdown",
   "metadata": {
    "nbpresent": {
     "id": "41b767a4-8943-4089-9fcb-2ec1376681e6"
    }
   },
   "source": [
    "## Solution Overview <a id='solution_overview'></a>"
   ]
  },
  {
   "cell_type": "markdown",
   "metadata": {
    "nbpresent": {
     "id": "69dceb91-7114-4aa8-91b2-c25aedefd12a"
    }
   },
   "source": [
    "Now that we are all agree about the problem, we could try to give a solutions. Based on what we have been said in the previous paragraph we need some mathematical model to make a good prioritization. We must try to model the thought of the most experienced product owners. The state of the art is represented by some models (examples: https://www.scrumalliance.org/community/articles/2012/january/key-dimensions-of-user-stories, https://michaellant.com/2010/05/21/how-to-easily-prioritize-your-agile-stories/) that use  three or two dimensional space to make a good decision but from our point of view these techniques do not consider many critical aspects that should be present during this decision-making process. As we have seen before using only an high-level decomposition we have found dimension, so we would like to propose another solutions based on machine learning. _Before we begin, it is right to clarify that the solution that we will present is not a completely automatic model that replaces the work of the product owner, but it must be understood as a suggestion from which to start giving good priorities_. Let's start by further decomposing the four point of views seen in the paragraph above.\n",
    "\n",
    "Point of view of staff involved in Scrum  can be divided in:\n",
    "+ Level of understanding;\n",
    "+ Estimated working time;\n",
    "+ Technical complexity;\n",
    "+ Level of dependency with other PBIs;\n",
    "+ Time constraint;\n",
    "+ Level of reusability of PBI;\n",
    "+ Number of PBI priority revisions;\n",
    "+ Number of similar PBIs accomplished.\n",
    "\n",
    "Point of view of CEO can be divide in:\n",
    "+ Return on investment;\n",
    "+ Level of impact on brand or reputation;\n",
    "+ Level of competitive advantage.\n",
    "\n",
    "Point of view of Marketing Department can be divided in:\n",
    "+ Level of importance for the market, collected from social networks;\n",
    "+ Level of importance for the market, collected from interviews.\n",
    "\n",
    "Point of view of customers can be divided in:\n",
    "+ Level of importance for customer 1;\n",
    "\n",
    " ...\n",
    "\n",
    "+ Level of importance for customer $n$.\n",
    "\n",
    "This is the final breakdown that we have found, as we can see the complexity has grown a lot. To address this multidimensional analysis we will try to create a single layer perceptron and a multilayer perceptron, starting from a dataset that contains the decomposing view above, tries to assign a good prioritization of the PBIs. The choice of these models may not be the best, because as we have already said the purpose of this notebook is not to provide the best solution but rather to understand if this approach can produce some results. So all that follows is to be considered as an experimental and explorative analysis."
   ]
  },
  {
   "cell_type": "markdown",
   "metadata": {
    "nbpresent": {
     "id": "e4b0396d-c01a-44de-baae-7556e0e4c3d4"
    }
   },
   "source": [
    "# Data Overview <a id='data_overview'></a>"
   ]
  },
  {
   "cell_type": "markdown",
   "metadata": {
    "nbpresent": {
     "id": "8144e308-eec3-4ba2-a0a5-a520c2e58252"
    }
   },
   "source": [
    "From this section we start exploring the dataset. First of all let's start to explain the dataset used.\n",
    "The dataset is composed by __150 pattern__, __17 features__, and describes the product backlogs of six projects developed in three different time periods, which will be denoted with $t_{i}$, with $i={1,2,3}$.\n",
    "The name of the project are:\n",
    "+ BANK;\n",
    "+ CINEMA;\n",
    "+ COMPANY;\n",
    "+ SCHOOL;\n",
    "+ SUPERMARKET;\n",
    "+ UNIVERISITY.\n",
    "\n",
    "The project(s):\n",
    "\n",
    "+ BANK and CINEMA were completed in period $t_{1}$;\n",
    "+ COMPANY was completed in period $t_{2}$;\n",
    "+ SUPERMARKET, SCHOOL and UNIVERISITY ware completed in period $t_{3}$.\n",
    "\n",
    "Now, I'm going to explain the 17 features which are derived directly from the breakdown of points of view made above.\n",
    "\n",
    "1. __PRODUCT BACKLOG ITEM__: It is a string which syntax respects the same as the users stories and is exactly the content of a PBI.\n",
    "\n",
    "2. __NUMBER OF REVISION FOR THAT PBIs__ : It is derived from _Number of PBI priority revisions_. It is an integer value $x\\geq 0 $ which represents the number of revisions, from the point of view of the priority, that this PBI has undergone.\n",
    "\n",
    "3. __LEVEL OF REUSABILITY__: It is derived from _Level of reusability of PBI_. It is an integer value $1 \\leq x \\geq $ ___number of active projects___, and represents how much this functionality can be reused in other active projects, or it's better to say in other projects of the same $t_{i}$.\n",
    "\n",
    "4. __LEVEL OF UNDERSTENDING__: It is derived from _Level of understanding_. It is an integer value $1 \\leq x \\geq 5$  which have the following meanings:\n",
    "\n",
    "  1 ->The PBI was understood at 0%\n",
    "\n",
    "  2 ->The PBI was understood at 25%\n",
    "\n",
    "  3 ->The PBI was understood at 50%\n",
    "\n",
    "  4 ->The PBI was understood at  75%\n",
    "\n",
    "  5 ->The PBI was understood at  100%\n",
    "\n",
    "5. __WORK TIME__: It is derived from _Estimated working time_ and it is a value $x \\in R$ that represents the effort (person\\months) required to achieve this PBI.\n",
    "\n",
    "6. __TECHINICAL COMPLEXITY__: It is derived from _Technical complexity_ and is an integer value $1 \\leq x \\geq 5$ which indicates the technical complexity for the realization. Below we find the meaning attributed to each single value:\n",
    "\n",
    "  1 -> REALLY LOW, the PBI can also be made by beginner new staff without problems\n",
    "\n",
    "  2 -> LOW, the PBI can be made from beginner new staff\n",
    "\n",
    "  3 -> ON AVERAGE, PBI can be made by staff with some past experience without too much trouble\n",
    "\n",
    "  4 -> HIGH, the PBI can be made by staff with some experience accompanied by an experienced supervisor, or only by experienced staff\n",
    "\n",
    "  5 -> VERY HIGH, the PBI can only be made by experienced staff.\n",
    "\n",
    "7. __TIME CONSTRAINT__: It is derived by _Time constraint_ and it is an integer value $1 \\leq x \\geq 5$ which indicates the urgency that the customers has for the realization of the PBI. In particular :\n",
    "\n",
    "    1-> No urgency\n",
    "\n",
    "    2-> Low urgency\n",
    "\n",
    "    3-> Moderate urgency\n",
    "\n",
    "    4-> High urgency\n",
    "\n",
    "    5-> Very high urgency\n",
    "\n",
    "8. __LEVEL OF DEPENDENCY WITH OTHER PBIs__ : It is derived from _Level of dependency with other PBIs_ and it is an integer value $1 \\leq x \\geq 3$ which indicates the dependency level  that this PBI has with other PBIs that belongs to the same project. In particular:\n",
    "\n",
    "    1-> The PBI have not dependency with other PBIs, so it can be completed autonomously without waiting for other PBIs that have to be completed first\n",
    "\n",
    "    2-> The PBI has some dependency with other PBIs bat it can be completed autonomously in large part  without waiting for other PBIs that have to be completed first\n",
    "\n",
    "    3-> The PBI has a lot of dependency and it can't be completed before other PBIs are completed\n",
    "\n",
    "9. __NUMBER OF SIMILAR PBIs ACCOMPLISHED__: It is derived from _Number of similar PBIs accomplished_ and it is a integer value $0 \\leq x \\geq $ ___number of PBIs accomplished in past projects___. The meaning is easy to understand from the name. Since BANK, and CINEMA were the first projects, it is logical to find that the value of this field for its PBI is equal to 0.\n",
    "\n",
    "10. __RETURN ON INVESTMENT__ (ROI): It is derived from _Return on investment_ and it is an integer value $1 \\leq x \\geq 5$ that indicates the level of gain that the company may have in completing this PBI. Often this value is calculated as _result_ / _invested capital_,  but in the dataset this is coded with 5 possible results:\n",
    "\n",
    "  1->VERY LOW, the PBI has a ROI between 0% and 25%\n",
    "\n",
    "  2->LOW, the PBI has a ROI between 25% and 50%\n",
    "\n",
    "  3->MODERATE, the PBI has a ROI between 50% and 75%\n",
    "\n",
    "  4->HIGH, the PBI has a ROI between 75% and 100%\n",
    "\n",
    "  5->VERY HIGH, the PBI has a ROI is over 100%\n",
    "\n",
    "  The negative ROI is not coded because these functions are assumed to not be implemented. For clarity it is right to specify that ROI is related to the company that produces the PBI and not the customer who asks for it.\n",
    "\n",
    "11. __LEVEL OF IMPACT ON BRAND OR REPUTATION__: It is derived from _Level of impact on brand or reputation_ and it is an integer value $0 \\leq x \\geq 2$ and expresses how much the realization of this PBI is crucial to improving the image of the company that realizes the PBI. In particular:\n",
    "\n",
    "  0-> The PBI is perceived as something normal and therefore does not contribute to increasing the company's reputation and image\n",
    "\n",
    "  1-> The PBI increases the reputation of the company and its image\n",
    "\n",
    "  2-> The PBI is perceived as something innovative and can bring the company's reputation and image to a higher level\n",
    "\n",
    "12. __LEVEL OF COMPETITIVE ADVANTAGE__: It is derived from _Level of competitive advantage_ and it is a integer value $0 \\leq x \\geq 2$ that express how much the realization of this PBI brings a competitive advantage compared to competitors. In particular:\n",
    "\n",
    "    0-> The realization of the PBI does not bring any competitive advantage\n",
    "\n",
    "    1-> The realization of the PBI brings the company a new competence and improves its competitiveness\n",
    "\n",
    "    2-> The realization of the PBI allows you to place yourself among the first in a new market share\n",
    "\n",
    "13. __LEVEL OF  IMPORTANCE FOR MARKET FROM SOCIAL \\ INTERVIEWS__ : It is derived from _Level of importance for the market, collected from social networks \\ interviews_ and it is an integer value $1 \\leq x \\geq 5$ which represents how much this PBI has value for the market according to investigations carried out by the marketing department. In particular:\n",
    "\n",
    "  1-> VERY LOW, the PBI is perceived as something that does not really serve\n",
    "\n",
    "  2-> LOW, the PBI is perceived as something of little value\n",
    "\n",
    "  3-> MODERATE, the PBI is perceived as something already seen and therefore has a well-established value\n",
    "\n",
    "  4-> HIGH, the PBI is perceived as something with a high potential value\n",
    "\n",
    "  5-> VERY HIGH, the PBI is perceived as something innovative with incredibly high value.\n",
    "\n",
    "14. __LEVEL OF IMPORTANCE FOR THE CUSTOMER__: It represent an aggregate value derived from _Level of importance for customer_ $i$ and it is an integer value $0 \\leq x \\geq 2$ which express how much important is this PBI for the all the customers. In particular:\n",
    "\n",
    "  0-> the PBI is a extra-feature , if cost is too much for the customers, it may not be implemented\n",
    "\n",
    "  1-> the PBI is important for the customer but is not the basis of the software\n",
    "\n",
    "  2-> the PBI is part of the basic functionality of the system that the customer wants, so it is crucial\n",
    "\n",
    "15. __PRIORITY__: It is an integer value $1 \\leq x \\geq 5$ which indicates the priority assigned by the Product Owner. Priority is assigned by the Product Owner based on the values of the previous fields. The scale is structured as follows:\n",
    "\n",
    "  1->VERY LOW\n",
    "\n",
    "  2->LOW\n",
    "\n",
    "  3->MODERATE\n",
    "\n",
    "  4->HIGH\n",
    "\n",
    "  5->VERY HIGH\n",
    "\n",
    "16. __PROJECT TYPE__: It is a value that indicates which project the PBI in question belongs to. The values that this field can assume are:\n",
    "\n",
    "  BANK\n",
    "\n",
    "  CINEMA\n",
    "\n",
    "  COMPANY\n",
    "\n",
    "  SCHOOL\n",
    "\n",
    "  SUPERMARKET\n",
    "\n",
    "  UNIVERSITY\n"
   ]
  },
  {
   "cell_type": "markdown",
   "metadata": {
    "nbpresent": {
     "id": "84c657e0-d0cb-430c-ad48-562d4728fff3"
    }
   },
   "source": [
    "Now we have all the elements needed to start, so we pass on the code"
   ]
  },
  {
   "cell_type": "code",
   "execution_count": 2,
   "metadata": {
    "collapsed": true,
    "nbpresent": {
     "id": "5a2555a4-c393-49bf-a589-f026c754ee08"
    }
   },
   "outputs": [],
   "source": [
    "import numpy as np\n",
    "import scipy as sp\n",
    "import pandas as pd\n",
    "import matplotlib.pyplot as plt\n",
    "import seaborn as sns\n",
    "import warnings "
   ]
  },
  {
   "cell_type": "code",
   "execution_count": 3,
   "metadata": {
    "collapsed": true,
    "nbpresent": {
     "id": "c413f3d5-baae-45e4-bf08-51fb189e2b27"
    }
   },
   "outputs": [],
   "source": [
    "warnings.simplefilter('ignore')"
   ]
  },
  {
   "cell_type": "markdown",
   "metadata": {
    "nbpresent": {
     "id": "3c43aa67-5db0-42bb-8c46-4a257b6d10b8"
    }
   },
   "source": [
    "The first thing to do is upload the dataset and give it a look to see if all that we saw in the description corresponds to reality"
   ]
  },
  {
   "cell_type": "code",
   "execution_count": 4,
   "metadata": {
    "nbpresent": {
     "id": "47879e5f-a17a-4a02-a26d-8f6d5ae91061"
    }
   },
   "outputs": [
    {
     "data": {
      "text/html": [
       "<div>\n",
       "<style>\n",
       "    .dataframe thead tr:only-child th {\n",
       "        text-align: right;\n",
       "    }\n",
       "\n",
       "    .dataframe thead th {\n",
       "        text-align: left;\n",
       "    }\n",
       "\n",
       "    .dataframe tbody tr th {\n",
       "        vertical-align: top;\n",
       "    }\n",
       "</style>\n",
       "<table border=\"1\" class=\"dataframe\">\n",
       "  <thead>\n",
       "    <tr style=\"text-align: right;\">\n",
       "      <th></th>\n",
       "      <th>PRODUCT BACKLOG ITEM</th>\n",
       "      <th>NUMBER OF REVISION FOR THAT P.B.I.s</th>\n",
       "      <th>LEVEL OF REUSABILITY</th>\n",
       "      <th>LEVEL OF UNDERSTOOD</th>\n",
       "      <th>WORK TIME</th>\n",
       "      <th>TECHINICAL COMPLEXITY</th>\n",
       "      <th>LEVEL OF DEPENDENCY WITH OTHER P.B.I.s</th>\n",
       "      <th>TIME CONSTRAINT</th>\n",
       "      <th>NUMBER OF SIMILAR PBIs ACCOMPLISHED</th>\n",
       "      <th>RETURN ON INVESTMENT</th>\n",
       "      <th>LEVEL OF IMPACT ON BRAND OR REPUTATION</th>\n",
       "      <th>LEVEL OF COMPETITIVE ADVANTAGE</th>\n",
       "      <th>LEVEL OF  IMPORTANCE FOR MARKET (FROM SOCIAL)</th>\n",
       "      <th>LEVEL OF  IMPORTANCE FOR MARKET (FROM INTERVIEWS)</th>\n",
       "      <th>LEVEL OF IMPORTANCE FOR THE CUSTOMER</th>\n",
       "      <th>PRIORITY</th>\n",
       "      <th>PROJECT TYPE</th>\n",
       "    </tr>\n",
       "  </thead>\n",
       "  <tbody>\n",
       "    <tr>\n",
       "      <th>0</th>\n",
       "      <td>As a account holder, I want to deposit money o...</td>\n",
       "      <td>2.0</td>\n",
       "      <td>1.0</td>\n",
       "      <td>5</td>\n",
       "      <td>1.0</td>\n",
       "      <td>3.0</td>\n",
       "      <td>1.0</td>\n",
       "      <td>1.0</td>\n",
       "      <td>0.0</td>\n",
       "      <td>1.0</td>\n",
       "      <td>0.0</td>\n",
       "      <td>0.0</td>\n",
       "      <td>3.0</td>\n",
       "      <td>3.0</td>\n",
       "      <td>2.0</td>\n",
       "      <td>3.0</td>\n",
       "      <td>BANK</td>\n",
       "    </tr>\n",
       "    <tr>\n",
       "      <th>1</th>\n",
       "      <td>As a account holder, I want to have an adress ...</td>\n",
       "      <td>1.0</td>\n",
       "      <td>1.0</td>\n",
       "      <td>1</td>\n",
       "      <td>0.5</td>\n",
       "      <td>1.0</td>\n",
       "      <td>2.0</td>\n",
       "      <td>4.0</td>\n",
       "      <td>0.0</td>\n",
       "      <td>3.0</td>\n",
       "      <td>0.0</td>\n",
       "      <td>0.0</td>\n",
       "      <td>3.0</td>\n",
       "      <td>1.0</td>\n",
       "      <td>1.0</td>\n",
       "      <td>3.0</td>\n",
       "      <td>BANK</td>\n",
       "    </tr>\n",
       "    <tr>\n",
       "      <th>2</th>\n",
       "      <td>As a account holder, I want to make a wire tra...</td>\n",
       "      <td>5.0</td>\n",
       "      <td>1.0</td>\n",
       "      <td>4</td>\n",
       "      <td>2.0</td>\n",
       "      <td>3.0</td>\n",
       "      <td>3.0</td>\n",
       "      <td>5.0</td>\n",
       "      <td>0.0</td>\n",
       "      <td>1.0</td>\n",
       "      <td>0.0</td>\n",
       "      <td>0.0</td>\n",
       "      <td>4.0</td>\n",
       "      <td>4.0</td>\n",
       "      <td>2.0</td>\n",
       "      <td>5.0</td>\n",
       "      <td>BANK</td>\n",
       "    </tr>\n",
       "  </tbody>\n",
       "</table>\n",
       "</div>"
      ],
      "text/plain": [
       "                                PRODUCT BACKLOG ITEM  \\\n",
       "0  As a account holder, I want to deposit money o...   \n",
       "1  As a account holder, I want to have an adress ...   \n",
       "2  As a account holder, I want to make a wire tra...   \n",
       "\n",
       "   NUMBER OF REVISION FOR THAT P.B.I.s  LEVEL OF REUSABILITY  \\\n",
       "0                                  2.0                   1.0   \n",
       "1                                  1.0                   1.0   \n",
       "2                                  5.0                   1.0   \n",
       "\n",
       "   LEVEL OF UNDERSTOOD  WORK TIME  TECHINICAL COMPLEXITY  \\\n",
       "0                    5        1.0                    3.0   \n",
       "1                    1        0.5                    1.0   \n",
       "2                    4        2.0                    3.0   \n",
       "\n",
       "   LEVEL OF DEPENDENCY WITH OTHER P.B.I.s  TIME CONSTRAINT  \\\n",
       "0                                     1.0              1.0   \n",
       "1                                     2.0              4.0   \n",
       "2                                     3.0              5.0   \n",
       "\n",
       "   NUMBER OF SIMILAR PBIs ACCOMPLISHED  RETURN ON INVESTMENT  \\\n",
       "0                                  0.0                   1.0   \n",
       "1                                  0.0                   3.0   \n",
       "2                                  0.0                   1.0   \n",
       "\n",
       "   LEVEL OF IMPACT ON BRAND OR REPUTATION  LEVEL OF COMPETITIVE ADVANTAGE  \\\n",
       "0                                     0.0                             0.0   \n",
       "1                                     0.0                             0.0   \n",
       "2                                     0.0                             0.0   \n",
       "\n",
       "   LEVEL OF  IMPORTANCE FOR MARKET (FROM SOCIAL)  \\\n",
       "0                                            3.0   \n",
       "1                                            3.0   \n",
       "2                                            4.0   \n",
       "\n",
       "   LEVEL OF  IMPORTANCE FOR MARKET (FROM INTERVIEWS)  \\\n",
       "0                                                3.0   \n",
       "1                                                1.0   \n",
       "2                                                4.0   \n",
       "\n",
       "   LEVEL OF IMPORTANCE FOR THE CUSTOMER  PRIORITY PROJECT TYPE  \n",
       "0                                   2.0       3.0         BANK  \n",
       "1                                   1.0       3.0         BANK  \n",
       "2                                   2.0       5.0         BANK  "
      ]
     },
     "execution_count": 4,
     "metadata": {},
     "output_type": "execute_result"
    }
   ],
   "source": [
    "df = pd.read_csv('dataset_backlog.CSV', sep=';', index_col='Unnamed: 0')\n",
    "df.head(3)"
   ]
  },
  {
   "cell_type": "markdown",
   "metadata": {
    "nbpresent": {
     "id": "93a3afef-5165-4842-92b4-2ac2f2a297e4"
    }
   },
   "source": [
    "---"
   ]
  },
  {
   "cell_type": "markdown",
   "metadata": {
    "nbpresent": {
     "id": "1e9374c4-2f96-4fb7-8217-1d8d706b4c70"
    }
   },
   "source": [
    "# Statistical Analysis <a id='statistical_analysis'><a/>"
   ]
  },
  {
   "cell_type": "markdown",
   "metadata": {
    "nbpresent": {
     "id": "56bfa44e-368e-480e-895e-c428b1aeaa6a"
    }
   },
   "source": [
    "In this section we will __explore__ the dataset to find out if there are __outliers__ and if there are __correlations__ between the features. Before starting with any kind of analysis we need to normalize the dataset since the features have different scales"
   ]
  },
  {
   "cell_type": "markdown",
   "metadata": {
    "nbpresent": {
     "id": "eb3660cc-bc78-4e2b-855a-9c759f41918f"
    }
   },
   "source": [
    "Let's normalize all dataset values so they are included in the range $[1;5]$. To do this we use the following formula for all values of the dataset. Let $x$ in the range $[i;j]$, $\\hat{x} \\in [1;5]$ is the normalized version of $x$ and can be calculated as: \n",
    "\n",
    "$$\\hat{x}= \\frac{(x - oldMin) \\times (newMax - newMin)}{oldMax - oldMin}+ newMin\\ ,$$\n",
    "\n",
    "where $oldMin=i$ and $oldMax=j$ are the minimum and maximum value of the starting range $[i:j]$, while $newMin$ and $newMax$ are the minimum and maximum value of the target range, so $newMin=1$ and $newMax=5$."
   ]
  },
  {
   "cell_type": "code",
   "execution_count": 5,
   "metadata": {
    "collapsed": true,
    "nbpresent": {
     "id": "f5f1d5f3-de92-4414-9b25-36781b23f9d3"
    }
   },
   "outputs": [],
   "source": [
    "def normalizeData(value,oldMin, oldMax, newMin=1, newMax=5):\n",
    "    oldRange = oldMax - oldMin  \n",
    "    newRange = newMax - newMin  \n",
    "    newValue = (((value - oldMin) * newRange) / oldRange) + newMin\n",
    "    return newValue\n"
   ]
  },
  {
   "cell_type": "code",
   "execution_count": 6,
   "metadata": {
    "collapsed": true,
    "nbpresent": {
     "id": "3b75b7d9-9620-4ddc-9443-f251899cba56"
    },
    "scrolled": true
   },
   "outputs": [],
   "source": [
    "number_of_revision = df['NUMBER OF REVISION FOR THAT P.B.I.s']\n",
    "level_of_reusability = df['LEVEL OF REUSABILITY']\n",
    "work_time = df['WORK TIME']\n",
    "level_of_dependency = df['LEVEL OF DEPENDENCY WITH OTHER P.B.I.s']\n",
    "number_of_similar_pbi_accomplished = df['NUMBER OF SIMILAR PBIs ACCOMPLISHED']\n",
    "level_of_impact = df['LEVEL OF IMPACT ON BRAND OR REPUTATION']\n",
    "level_of_competitive_advantage = df['LEVEL OF COMPETITIVE ADVANTAGE']\n",
    "level_of_importance_for_customer = df['LEVEL OF IMPORTANCE FOR THE CUSTOMER']\n",
    "\n",
    "valMax_number_of_revision = number_of_revision.max()\n",
    "valMin_number_of_revision = number_of_revision.min()\n",
    "valMax_level_of_reusability = level_of_reusability.max()\n",
    "valMin_level_of_reusability = level_of_reusability.min()\n",
    "valMax_work_time = work_time.max()\n",
    "valMin_work_time = work_time.min()\n",
    "valMax_level_of_dependency = level_of_dependency.max()\n",
    "valMin_level_of_dependency = level_of_dependency.min()\n",
    "valMax_number_of_similar_pbi_accomplished = number_of_similar_pbi_accomplished.max()\n",
    "valMin_number_of_similar_pbi_accomplished = number_of_similar_pbi_accomplished.min()\n",
    "valMax_level_of_impact = level_of_impact.max()\n",
    "valMin_level_of_impact = level_of_impact.min()\n",
    "valMax_level_of_competitive_advantage = level_of_competitive_advantage.max()\n",
    "valMin_level_of_competitive_advantage = level_of_competitive_advantage.min()\n",
    "valMax_level_of_importance_for_customer = level_of_importance_for_customer.max()\n",
    "valMin_level_of_importance_for_customer = level_of_importance_for_customer.min()\n",
    "for i in range(150):\n",
    "    number_of_revision[i]= normalizeData(number_of_revision[i], valMin_number_of_revision, valMax_number_of_revision)\n",
    "    level_of_reusability[i] = normalizeData(level_of_reusability[i], valMin_level_of_reusability,\n",
    "                                            valMax_level_of_reusability)\n",
    "    work_time[i] = normalizeData(work_time[i], valMin_work_time, valMax_work_time)\n",
    "    level_of_dependency[i] = normalizeData(level_of_dependency[i], valMin_level_of_dependency,\n",
    "                                           valMax_level_of_dependency)\n",
    "    number_of_similar_pbi_accomplished[i] = normalizeData(number_of_similar_pbi_accomplished[i],\n",
    "                                                          valMin_number_of_similar_pbi_accomplished,\n",
    "                                                          valMax_number_of_similar_pbi_accomplished)\n",
    "    level_of_impact[i] = normalizeData(level_of_impact[i], valMin_level_of_impact, valMax_level_of_impact)\n",
    "    level_of_competitive_advantage[i] = normalizeData(level_of_competitive_advantage[i], \n",
    "                                                      valMin_level_of_competitive_advantage, \n",
    "                                                      valMax_level_of_competitive_advantage)\n",
    "    level_of_importance_for_customer[i] = normalizeData(level_of_importance_for_customer[i],\n",
    "                                                       valMin_level_of_importance_for_customer,\n",
    "                                                       valMax_level_of_importance_for_customer)"
   ]
  },
  {
   "cell_type": "markdown",
   "metadata": {
    "nbpresent": {
     "id": "4d981892-4ef5-4ff4-8a8f-c2d24a394db4"
    }
   },
   "source": [
    "## Outliers detection <a id='outlier_detection'></a>"
   ]
  },
  {
   "cell_type": "markdown",
   "metadata": {
    "nbpresent": {
     "id": "1bf7c872-6cc5-4a8a-826e-475cdd37825c"
    }
   },
   "source": [
    "To identify the outlier, we are going to use the boxplot"
   ]
  },
  {
   "cell_type": "code",
   "execution_count": 7,
   "metadata": {
    "nbpresent": {
     "id": "fd15ad96-5d53-4f07-b959-54654bef1829"
    },
    "scrolled": true
   },
   "outputs": [
    {
     "data": {
      "image/png": "[encoded data removed]",
      "text/plain": [
       "<matplotlib.figure.Figure at 0x1860614ed68>"
      ]
     },
     "metadata": {},
     "output_type": "display_data"
    }
   ],
   "source": [
    "%matplotlib inline\n",
    "fig, ax = plt.subplots(figsize=(70,20))\n",
    "sns.boxplot(data=df)\n",
    "sns.plt.show()"
   ]
  },
  {
   "cell_type": "markdown",
   "metadata": {
    "nbpresent": {
     "id": "9e0fedbb-9d1b-4900-824d-d15c8b3dbfcb"
    }
   },
   "source": [
    "As we can see, if we zoom the box plot, there are 5 features that have outliers and 4 of them have a strange form. The features we are talking about are:\n",
    "+ __LEVEL OF REUSABILITY__\n",
    "+ __WORK TIME__\n",
    "+ __NUMBER OF SIMILAR PBIs ACCOMPLISHED__\n",
    "+ __LEVEL OF IMPACT ON BRAND OR REPUTATION__\n",
    "+ __LEVEL OF COMPETITIVE ADVANTAGE__ \n",
    "\n",
    "Now we are going to analyze one for one these features to understand their nature and see if these outliers can be explained"
   ]
  },
  {
   "cell_type": "markdown",
   "metadata": {
    "nbpresent": {
     "id": "dd020ee2-1029-4452-838b-7d4466b673a3"
    }
   },
   "source": [
    "##### LEVEL OF REUSABILITY"
   ]
  },
  {
   "cell_type": "markdown",
   "metadata": {
    "nbpresent": {
     "id": "61bb9c69-059c-435a-84a5-5800f45a72d9"
    }
   },
   "source": [
    "For the analysis, in addition to reporting the box plot,we will use the _histogram_ to better understand the distribution of the points of this feature"
   ]
  },
  {
   "cell_type": "code",
   "execution_count": 8,
   "metadata": {
    "nbpresent": {
     "id": "b5b1d680-1a47-4a9c-80d9-73d67caf4245"
    }
   },
   "outputs": [
    {
     "data": {
      "image/png": "[encoded data removed]",
      "text/plain": [
       "<matplotlib.figure.Figure at 0x18609a48cc0>"
      ]
     },
     "metadata": {},
     "output_type": "display_data"
    }
   ],
   "source": [
    "fig, (ax1, ax2) = plt.subplots(ncols=2, figsize=(20,5))\n",
    "sns.boxplot(x=df['LEVEL OF REUSABILITY'], ax=ax1)\n",
    "sns.distplot(df['LEVEL OF REUSABILITY'], ax=ax2, color='g')\n",
    "sns.plt.show()"
   ]
  },
  {
   "cell_type": "markdown",
   "metadata": {
    "nbpresent": {
     "id": "709f0666-2c57-4e57-8910-d846fe29679f"
    }
   },
   "source": [
    "As we can see from the plot box, the outlier are in point $3.0$ and point $5.0$.\n",
    "Moreover, the strange form of the box plot is well explained by the histogram where it is possible to see that most of this value is $1.0$. So, the lines representing first, second, and third quartiles in the boxplot all fall to value $1.0$. All this indicates that the number of PBIs that can be re-used in other projects is very low.\n",
    "\n",
    "Now let's find out in which projects these outliers are present."
   ]
  },
  {
   "cell_type": "code",
   "execution_count": 9,
   "metadata": {
    "nbpresent": {
     "id": "b76f7877-1f79-45c5-927d-91be23875051"
    }
   },
   "outputs": [
    {
     "data": {
      "image/png": "[encoded data removed]",
      "text/plain": [
       "<matplotlib.figure.Figure at 0x18608194d68>"
      ]
     },
     "metadata": {},
     "output_type": "display_data"
    }
   ],
   "source": [
    "sns.factorplot(x=\"PROJECT TYPE\", data=df[df['LEVEL OF REUSABILITY'] > 1.0], kind=\"count\",\n",
    "              size=6, aspect=1.5)\n",
    "sns.plt.show()"
   ]
  },
  {
   "cell_type": "markdown",
   "metadata": {
    "nbpresent": {
     "id": "7b3f660c-a7ba-407c-9ea3-a0682b4daf29"
    }
   },
   "source": [
    "The _seaborn factorplot_ highlights how outliers are present in 3 over 6 projects. These three projects belong to the period $t_{3}$, which means that in this period the customers the customers required similar PBIs. It is plausible if we look at the __SCHOOL__ and __UNIVERSITY__ projects, which both are part of the educational field. Instead, the presence of the __SUPERMARKET__ project indicates that PBIs with _LEVEL OF REUSABILITY_ high aren't domain specifics but are generic PBIs."
   ]
  },
  {
   "cell_type": "markdown",
   "metadata": {
    "nbpresent": {
     "id": "894f2689-fd67-4bf8-8d0a-b198184e7364"
    }
   },
   "source": [
    "For the other four features we will use a similar method of analysis"
   ]
  },
  {
   "cell_type": "markdown",
   "metadata": {
    "nbpresent": {
     "id": "8cdef700-3c0b-450b-9deb-6fc0c6dbca7a"
    }
   },
   "source": [
    "##### WORK TIME"
   ]
  },
  {
   "cell_type": "code",
   "execution_count": 10,
   "metadata": {
    "nbpresent": {
     "id": "4c02eb8f-6e59-4e3c-8d8d-c152ec77aa90"
    }
   },
   "outputs": [
    {
     "data": {
      "image/png": "[encoded data removed]",
      "text/plain": [
       "<matplotlib.figure.Figure at 0x18607c09f98>"
      ]
     },
     "metadata": {},
     "output_type": "display_data"
    }
   ],
   "source": [
    "fig, (ax1, ax2) = plt.subplots(ncols=2, figsize=(20,5))\n",
    "sns.boxplot(x=df['WORK TIME'], ax=ax1, color='#AB9E47')\n",
    "sns.distplot(df['WORK TIME'], ax=ax2, color='g')\n",
    "sns.plt.show()"
   ]
  },
  {
   "cell_type": "markdown",
   "metadata": {
    "nbpresent": {
     "id": "27a5f03d-21e7-4f65-8727-b27b2e43f82e"
    }
   },
   "source": [
    "In this case we can see that the outliers fall into $x_{i} \\in ]2.5; 5]$, for $i=1..7$. These points indicate  PBIs which require considerable effort to be accomplished. What I want to find out now is whether this type of PBI is present in most projects or is a real anomaly."
   ]
  },
  {
   "cell_type": "code",
   "execution_count": 11,
   "metadata": {
    "nbpresent": {
     "id": "e24c7e35-4af8-4bdb-9afb-aeb4089cb1e2"
    }
   },
   "outputs": [
    {
     "data": {
      "image/png": "[encoded data removed]",
      "text/plain": [
       "<matplotlib.figure.Figure at 0x186084c2c88>"
      ]
     },
     "metadata": {},
     "output_type": "display_data"
    }
   ],
   "source": [
    "sns.factorplot(x=\"PROJECT TYPE\", data=df[df['WORK TIME'] > 2.5], kind=\"count\",\n",
    " size=6, aspect=1.5)\n",
    "sns.plt.show()"
   ]
  },
  {
   "cell_type": "markdown",
   "metadata": {
    "nbpresent": {
     "id": "e4612d2b-9879-4456-aa56-ede334d101c4"
    }
   },
   "source": [
    "The outliers are present in 4 over 6 projects and they belong to different $t_{i}$, so this may not be an anomaly"
   ]
  },
  {
   "cell_type": "markdown",
   "metadata": {
    "nbpresent": {
     "id": "9abd513b-d95a-4446-ad13-8bf508e179e2"
    }
   },
   "source": [
    "##### NUMBER OF SIMILAR PBIs ACCOMPLISHED"
   ]
  },
  {
   "cell_type": "code",
   "execution_count": 12,
   "metadata": {
    "nbpresent": {
     "id": "2cfa146e-10ae-4567-9bef-07728b915e88"
    }
   },
   "outputs": [
    {
     "data": {
      "image/png": "[encoded data removed]",
      "text/plain": [
       "<matplotlib.figure.Figure at 0x186080b8908>"
      ]
     },
     "metadata": {},
     "output_type": "display_data"
    }
   ],
   "source": [
    "fig, (ax1, ax2) = plt.subplots(ncols=2, figsize=(20,5))\n",
    "sns.boxplot(x=df['NUMBER OF SIMILAR PBIs ACCOMPLISHED'], ax=ax1)\n",
    "sns.distplot(df['NUMBER OF SIMILAR PBIs ACCOMPLISHED'], ax=ax2, color='g')\n",
    "sns.plt.show()"
   ]
  },
  {
   "cell_type": "markdown",
   "metadata": {
    "nbpresent": {
     "id": "32d18ad9-1f72-447b-82b5-24db65a23250"
    }
   },
   "source": [
    "Outliers are evident in points $3.0$ and $5.0$. Even in this case most of the values are equal to $1.0$ and this explains the strange form of the boxplot. The meaning, however, is different from the case above. Indeed, from this histogram we can understand that are very rarely the cases where the experience matured on a past PBIs has been used to develop a similar PBI in another $t_ {i}$.\n",
    "\n",
    "Now let's leave the period $ t_ {1} $ in which __BANK__ and __CINEMA__ projects have been developed, since they being at the first projects, it is normal  to not have similar PBIs developed in the past and hence the value of the _NUMBER OF SIMILAR PBIs ACCOMPLISHED_  is $ 1.0 $ after normalization, and let's focus on other projects to see which of these have been used the experience gained from past PBIs."
   ]
  },
  {
   "cell_type": "code",
   "execution_count": 13,
   "metadata": {
    "nbpresent": {
     "id": "c78c2090-12ae-4fd0-bfdf-99e3096ec1cc"
    }
   },
   "outputs": [
    {
     "data": {
      "image/png": "[encoded data removed]",
      "text/plain": [
       "<matplotlib.figure.Figure at 0x18607e767f0>"
      ]
     },
     "metadata": {},
     "output_type": "display_data"
    }
   ],
   "source": [
    "sns.factorplot(x=\"PROJECT TYPE\", data=df[df['NUMBER OF SIMILAR PBIs ACCOMPLISHED'] > 1.0], kind=\"count\",\n",
    "              size=6, aspect=1.5)\n",
    "sns.plt.show()"
   ]
  },
  {
   "cell_type": "markdown",
   "metadata": {
    "nbpresent": {
     "id": "093a4791-666e-48e9-bbef-a2bc8b9ab4b9"
    }
   },
   "source": [
    "As we can see in the factorplot, all other projects appear (different from __BANK__ and __CINEMA__), so these values are not abnormal but are plausible because the projects belonging to $t_ {2}$ and $t_ {3}$ have benefited from the past experience"
   ]
  },
  {
   "cell_type": "markdown",
   "metadata": {
    "nbpresent": {
     "id": "43ad4af2-7485-4846-9e00-b1f015f4bc4b"
    }
   },
   "source": [
    "##### LEVEL OF IMPACT ON BRAND OR REPUTATION"
   ]
  },
  {
   "cell_type": "code",
   "execution_count": 14,
   "metadata": {
    "nbpresent": {
     "id": "e7b6a528-87d8-4c77-bdd5-5f3e81f221ad"
    }
   },
   "outputs": [
    {
     "data": {
      "image/png": "[encoded data removed]",
      "text/plain": [
       "<matplotlib.figure.Figure at 0x18607ebcd68>"
      ]
     },
     "metadata": {},
     "output_type": "display_data"
    }
   ],
   "source": [
    "fig, (ax1, ax2) = plt.subplots(ncols=2, figsize=(20,5))\n",
    "sns.boxplot(x=df['LEVEL OF IMPACT ON BRAND OR REPUTATION'], ax=ax1)\n",
    "sns.distplot(df['LEVEL OF IMPACT ON BRAND OR REPUTATION'], ax=ax2, color='g')\n",
    "sns.plt.show()"
   ]
  },
  {
   "cell_type": "markdown",
   "metadata": {
    "nbpresent": {
     "id": "8da1ddf6-3fe2-42d8-954e-db934e9bea6f"
    }
   },
   "source": [
    "Outliers are present in point $3.0$ and $5.0$. Also in this case, the strange form of the box plot can be understood by using the histogram, in fact, we can see that most of the values are $1.0$.\n",
    "The interpretation that we can give to the histogram, is that the number of PBIs, which have affected the company image and reputation are very low, this is normal because, usually the companies do not have to deal every day with futuristic or incredibly innovative projects."
   ]
  },
  {
   "cell_type": "code",
   "execution_count": 15,
   "metadata": {
    "nbpresent": {
     "id": "e361a6e3-a612-4021-a180-323866f3d9e9"
    }
   },
   "outputs": [
    {
     "data": {
      "image/png": "[encoded data removed]",
      "text/plain": [
       "<matplotlib.figure.Figure at 0x18608a6b4e0>"
      ]
     },
     "metadata": {},
     "output_type": "display_data"
    }
   ],
   "source": [
    "sns.factorplot(x=\"PROJECT TYPE\", data=df[df['LEVEL OF IMPACT ON BRAND OR REPUTATION'] > 1.0], kind=\"count\",\n",
    "              size=6, aspect=1.5)\n",
    "sns.plt.show()"
   ]
  },
  {
   "cell_type": "markdown",
   "metadata": {
    "nbpresent": {
     "id": "9d0098da-44f3-4ac3-88da-a1c7169eb581"
    }
   },
   "source": [
    "One interesting thing that comes out of this factorplot is that the values grather than $1.0$ are present in all projects, this may indicate that the company has succeeded in bringing innovation to every project. So even if the entire project was not innovative, some of the PBIs have improved the company's image. The __BANK__ project wins on all with $15$ PBIs.\n",
    "\n",
    "Now it would be interesting to understand which project is the most innovative considering the number of PBIs and hence its size."
   ]
  },
  {
   "cell_type": "code",
   "execution_count": 16,
   "metadata": {
    "nbpresent": {
     "id": "b4c1af70-1b5e-4bc3-9600-6d9fe93613bd"
    }
   },
   "outputs": [
    {
     "data": {
      "text/html": [
       "<div>\n",
       "<style>\n",
       "    .dataframe thead tr:only-child th {\n",
       "        text-align: right;\n",
       "    }\n",
       "\n",
       "    .dataframe thead th {\n",
       "        text-align: left;\n",
       "    }\n",
       "\n",
       "    .dataframe tbody tr th {\n",
       "        vertical-align: top;\n",
       "    }\n",
       "</style>\n",
       "<table border=\"1\" class=\"dataframe\">\n",
       "  <thead>\n",
       "    <tr style=\"text-align: right;\">\n",
       "      <th></th>\n",
       "      <th></th>\n",
       "      <th>PRODUCT BACKLOG ITEM</th>\n",
       "    </tr>\n",
       "    <tr>\n",
       "      <th>PROJECT TYPE</th>\n",
       "      <th>LEVEL OF IMPACT ON BRAND OR REPUTATION</th>\n",
       "      <th></th>\n",
       "    </tr>\n",
       "  </thead>\n",
       "  <tbody>\n",
       "    <tr>\n",
       "      <th rowspan=\"3\" valign=\"top\">BANK</th>\n",
       "      <th>1.0</th>\n",
       "      <td>27</td>\n",
       "    </tr>\n",
       "    <tr>\n",
       "      <th>3.0</th>\n",
       "      <td>11</td>\n",
       "    </tr>\n",
       "    <tr>\n",
       "      <th>5.0</th>\n",
       "      <td>4</td>\n",
       "    </tr>\n",
       "    <tr>\n",
       "      <th rowspan=\"2\" valign=\"top\">CINEMA</th>\n",
       "      <th>1.0</th>\n",
       "      <td>8</td>\n",
       "    </tr>\n",
       "    <tr>\n",
       "      <th>5.0</th>\n",
       "      <td>1</td>\n",
       "    </tr>\n",
       "    <tr>\n",
       "      <th rowspan=\"2\" valign=\"top\">COMPANY</th>\n",
       "      <th>1.0</th>\n",
       "      <td>15</td>\n",
       "    </tr>\n",
       "    <tr>\n",
       "      <th>3.0</th>\n",
       "      <td>3</td>\n",
       "    </tr>\n",
       "    <tr>\n",
       "      <th rowspan=\"3\" valign=\"top\">SCHOOL</th>\n",
       "      <th>1.0</th>\n",
       "      <td>21</td>\n",
       "    </tr>\n",
       "    <tr>\n",
       "      <th>3.0</th>\n",
       "      <td>6</td>\n",
       "    </tr>\n",
       "    <tr>\n",
       "      <th>5.0</th>\n",
       "      <td>3</td>\n",
       "    </tr>\n",
       "    <tr>\n",
       "      <th rowspan=\"3\" valign=\"top\">SUPERMAKET</th>\n",
       "      <th>1.0</th>\n",
       "      <td>6</td>\n",
       "    </tr>\n",
       "    <tr>\n",
       "      <th>3.0</th>\n",
       "      <td>2</td>\n",
       "    </tr>\n",
       "    <tr>\n",
       "      <th>5.0</th>\n",
       "      <td>1</td>\n",
       "    </tr>\n",
       "    <tr>\n",
       "      <th rowspan=\"2\" valign=\"top\">UNIVERSITY</th>\n",
       "      <th>1.0</th>\n",
       "      <td>37</td>\n",
       "    </tr>\n",
       "    <tr>\n",
       "      <th>3.0</th>\n",
       "      <td>5</td>\n",
       "    </tr>\n",
       "  </tbody>\n",
       "</table>\n",
       "</div>"
      ],
      "text/plain": [
       "                                                     PRODUCT BACKLOG ITEM\n",
       "PROJECT TYPE LEVEL OF IMPACT ON BRAND OR REPUTATION                      \n",
       "BANK         1.0                                                       27\n",
       "             3.0                                                       11\n",
       "             5.0                                                        4\n",
       "CINEMA       1.0                                                        8\n",
       "             5.0                                                        1\n",
       "COMPANY      1.0                                                       15\n",
       "             3.0                                                        3\n",
       "SCHOOL       1.0                                                       21\n",
       "             3.0                                                        6\n",
       "             5.0                                                        3\n",
       "SUPERMAKET   1.0                                                        6\n",
       "             3.0                                                        2\n",
       "             5.0                                                        1\n",
       "UNIVERSITY   1.0                                                       37\n",
       "             3.0                                                        5"
      ]
     },
     "execution_count": 16,
     "metadata": {},
     "output_type": "execute_result"
    }
   ],
   "source": [
    "score = df[['PROJECT TYPE', 'LEVEL OF IMPACT ON BRAND OR REPUTATION','PRODUCT BACKLOG ITEM']].groupby(\n",
    "    ['PROJECT TYPE','LEVEL OF IMPACT ON BRAND OR REPUTATION']).agg('count')\n",
    "score"
   ]
  },
  {
   "cell_type": "markdown",
   "metadata": {
    "nbpresent": {
     "id": "4cfde469-240f-4273-a5cf-2170356f65e1"
    }
   },
   "source": [
    "If we consider together PBIs with _LEVEL OF IMPACT ON BRAND OR REPUTATION_ equal to $3.0$ and $5.0$ then we get the following ranking:\n",
    "\n",
    "1. BANK with $\\frac{15}{42} \\approx 36\\% $\n",
    "2. SUPERMAKET with $\\frac{3}{9} \\approx 33\\%$\n",
    "3. SCHOOL with $\\frac{9}{30} = 30\\%$\n",
    "4. COMPANY with $\\frac{3}{18} \\approx 17\\%$\n",
    "5. UNIVERSITY with $\\frac{5}{42} \\approx 12\\%$\n",
    "6. CINEMA with $\\frac{1}{9} \\approx 11\\%$\n",
    "\n",
    "So the __BANK__ project is the most innovative project that has improved the image and reputation of the company"
   ]
  },
  {
   "cell_type": "markdown",
   "metadata": {
    "nbpresent": {
     "id": "0481a052-7b70-42bb-b90a-405ce1f30591"
    }
   },
   "source": [
    "##### LEVEL OF COMPETITIVE ADVANTAGE"
   ]
  },
  {
   "cell_type": "code",
   "execution_count": 17,
   "metadata": {
    "nbpresent": {
     "id": "98adf827-507b-4d4c-a725-b2dd5ca75160"
    }
   },
   "outputs": [
    {
     "data": {
      "image/png": "[encoded data removed]",
      "text/plain": [
       "<matplotlib.figure.Figure at 0x18608be4780>"
      ]
     },
     "metadata": {},
     "output_type": "display_data"
    }
   ],
   "source": [
    "fig, (ax1, ax2) = plt.subplots(ncols=2, figsize=(20,5))\n",
    "sns.boxplot(x=df['LEVEL OF COMPETITIVE ADVANTAGE'], ax=ax1)\n",
    "sns.distplot(df['LEVEL OF COMPETITIVE ADVANTAGE'], ax=ax2, color='g')\n",
    "sns.plt.show()"
   ]
  },
  {
   "cell_type": "markdown",
   "metadata": {
    "nbpresent": {
     "id": "d1c6e600-fbe5-487a-83f5-f18e245f1219"
    }
   },
   "source": [
    "Again, the outliers are present in point $3.0$ and $5.0$. Also in this case, the strange form of the box plot can be understood by using the histogram, in fact, we can see that most of the values are $1.0$.\n",
    "The interpretation that we can give to the histogram, is that the number of PBIs, which improve the competitive advantage of the company very low, this is normal because, usually the projects have few incredible functionalities and a lot of common and normal functionalities."
   ]
  },
  {
   "cell_type": "code",
   "execution_count": 18,
   "metadata": {
    "nbpresent": {
     "id": "2867b994-e42b-46e3-ab5e-24694a8cbfd1"
    }
   },
   "outputs": [
    {
     "data": {
      "image/png": "[encoded data removed]",
      "text/plain": [
       "<matplotlib.figure.Figure at 0x18608531ac8>"
      ]
     },
     "metadata": {},
     "output_type": "display_data"
    }
   ],
   "source": [
    "sns.factorplot(x=\"PROJECT TYPE\", data=df[df['LEVEL OF COMPETITIVE ADVANTAGE'] > 1.0], kind=\"count\",\n",
    "              size=6, aspect=1.5)\n",
    "sns.plt.show()"
   ]
  },
  {
   "cell_type": "markdown",
   "metadata": {
    "nbpresent": {
     "id": "bd6542b8-3ce2-490d-a454-28174a4a1c08"
    }
   },
   "source": [
    "As in the previous case, even in this factorplot we can see how PBIs that increase the level of competitiveness are present in all projects, with a greater preponderance in the __BANK__ project.\n",
    "Let's try to understand which project have improved the level of competitiveness"
   ]
  },
  {
   "cell_type": "code",
   "execution_count": 19,
   "metadata": {
    "nbpresent": {
     "id": "f664c71d-c777-4b16-8b63-390fd35081fc"
    }
   },
   "outputs": [
    {
     "data": {
      "text/html": [
       "<div>\n",
       "<style>\n",
       "    .dataframe thead tr:only-child th {\n",
       "        text-align: right;\n",
       "    }\n",
       "\n",
       "    .dataframe thead th {\n",
       "        text-align: left;\n",
       "    }\n",
       "\n",
       "    .dataframe tbody tr th {\n",
       "        vertical-align: top;\n",
       "    }\n",
       "</style>\n",
       "<table border=\"1\" class=\"dataframe\">\n",
       "  <thead>\n",
       "    <tr style=\"text-align: right;\">\n",
       "      <th></th>\n",
       "      <th></th>\n",
       "      <th>PRODUCT BACKLOG ITEM</th>\n",
       "    </tr>\n",
       "    <tr>\n",
       "      <th>PROJECT TYPE</th>\n",
       "      <th>LEVEL OF COMPETITIVE ADVANTAGE</th>\n",
       "      <th></th>\n",
       "    </tr>\n",
       "  </thead>\n",
       "  <tbody>\n",
       "    <tr>\n",
       "      <th rowspan=\"3\" valign=\"top\">BANK</th>\n",
       "      <th>1.0</th>\n",
       "      <td>32</td>\n",
       "    </tr>\n",
       "    <tr>\n",
       "      <th>3.0</th>\n",
       "      <td>7</td>\n",
       "    </tr>\n",
       "    <tr>\n",
       "      <th>5.0</th>\n",
       "      <td>3</td>\n",
       "    </tr>\n",
       "    <tr>\n",
       "      <th rowspan=\"2\" valign=\"top\">CINEMA</th>\n",
       "      <th>1.0</th>\n",
       "      <td>8</td>\n",
       "    </tr>\n",
       "    <tr>\n",
       "      <th>5.0</th>\n",
       "      <td>1</td>\n",
       "    </tr>\n",
       "    <tr>\n",
       "      <th rowspan=\"2\" valign=\"top\">COMPANY</th>\n",
       "      <th>1.0</th>\n",
       "      <td>15</td>\n",
       "    </tr>\n",
       "    <tr>\n",
       "      <th>3.0</th>\n",
       "      <td>3</td>\n",
       "    </tr>\n",
       "    <tr>\n",
       "      <th rowspan=\"3\" valign=\"top\">SCHOOL</th>\n",
       "      <th>1.0</th>\n",
       "      <td>24</td>\n",
       "    </tr>\n",
       "    <tr>\n",
       "      <th>3.0</th>\n",
       "      <td>4</td>\n",
       "    </tr>\n",
       "    <tr>\n",
       "      <th>5.0</th>\n",
       "      <td>2</td>\n",
       "    </tr>\n",
       "    <tr>\n",
       "      <th rowspan=\"2\" valign=\"top\">SUPERMAKET</th>\n",
       "      <th>1.0</th>\n",
       "      <td>8</td>\n",
       "    </tr>\n",
       "    <tr>\n",
       "      <th>3.0</th>\n",
       "      <td>1</td>\n",
       "    </tr>\n",
       "    <tr>\n",
       "      <th rowspan=\"2\" valign=\"top\">UNIVERSITY</th>\n",
       "      <th>1.0</th>\n",
       "      <td>41</td>\n",
       "    </tr>\n",
       "    <tr>\n",
       "      <th>3.0</th>\n",
       "      <td>1</td>\n",
       "    </tr>\n",
       "  </tbody>\n",
       "</table>\n",
       "</div>"
      ],
      "text/plain": [
       "                                             PRODUCT BACKLOG ITEM\n",
       "PROJECT TYPE LEVEL OF COMPETITIVE ADVANTAGE                      \n",
       "BANK         1.0                                               32\n",
       "             3.0                                                7\n",
       "             5.0                                                3\n",
       "CINEMA       1.0                                                8\n",
       "             5.0                                                1\n",
       "COMPANY      1.0                                               15\n",
       "             3.0                                                3\n",
       "SCHOOL       1.0                                               24\n",
       "             3.0                                                4\n",
       "             5.0                                                2\n",
       "SUPERMAKET   1.0                                                8\n",
       "             3.0                                                1\n",
       "UNIVERSITY   1.0                                               41\n",
       "             3.0                                                1"
      ]
     },
     "execution_count": 19,
     "metadata": {},
     "output_type": "execute_result"
    }
   ],
   "source": [
    "score = df[['PROJECT TYPE', 'LEVEL OF COMPETITIVE ADVANTAGE','PRODUCT BACKLOG ITEM']].groupby(\n",
    "    ['PROJECT TYPE','LEVEL OF COMPETITIVE ADVANTAGE']).agg('count')\n",
    "score"
   ]
  },
  {
   "cell_type": "markdown",
   "metadata": {
    "nbpresent": {
     "id": "f179ba25-b159-41ae-8afa-d68c67b77784"
    }
   },
   "source": [
    "If we consider together PBIs with _LEVEL OF COMPETITIVE ADVANTAGE_ equal to $3.0$ and $5.0$ then we get the following ranking:\n",
    "\n",
    "1. BANK with $\\frac{10}{42} \\approx 24\\% $\n",
    "2. SCHOOL with $\\frac{6}{30} = 20\\%$\n",
    "3. COMPANY with $\\frac{3}{18} \\approx 17\\%$\n",
    "4. CINEMA and SUPERMARKET with $\\frac{1}{9} \\approx 11\\%$\n",
    "5. UNIVERSITY with $\\frac{1}{42} \\approx 2\\%$\n",
    "\n",
    "Again, the __BANK__ project is the most innovative project that has improved level of competitivness of the company"
   ]
  },
  {
   "cell_type": "markdown",
   "metadata": {
    "nbpresent": {
     "id": "c3d1c594-d3d0-47d6-85f5-83c14f768787"
    }
   },
   "source": [
    "---"
   ]
  },
  {
   "cell_type": "markdown",
   "metadata": {
    "nbpresent": {
     "id": "c8af41fd-5762-4274-99e2-ff581b297c52"
    }
   },
   "source": [
    "## Correlation <a id='correlation'></a> "
   ]
  },
  {
   "cell_type": "markdown",
   "metadata": {
    "nbpresent": {
     "id": "e48fb36d-14c6-4317-8caf-05d3f553c7b6"
    }
   },
   "source": [
    "After we have identified and explained the presence of the outlier in the dataset, let's try to highlightthe intensity of the linear links between the featuress.\n",
    "Given the large number of features we will use a correlation heatmap that provides us a better visual feedback."
   ]
  },
  {
   "cell_type": "code",
   "execution_count": 20,
   "metadata": {
    "nbpresent": {
     "id": "b27ef0c4-0eec-4d4c-8ad1-badecbbd27d5"
    }
   },
   "outputs": [
    {
     "data": {
      "image/png": "[encoded data removed]",
      "text/plain": [
       "<matplotlib.figure.Figure at 0x186084a3048>"
      ]
     },
     "metadata": {},
     "output_type": "display_data"
    }
   ],
   "source": [
    "fig, ax = plt.subplots(figsize=(12,9))\n",
    "sns.heatmap(df.corr()) #Pearson correlation\n",
    "sns.plt.show()"
   ]
  },
  {
   "cell_type": "markdown",
   "metadata": {
    "nbpresent": {
     "id": "5a36a236-403a-4bf8-9a80-0a2fe5d8905c"
    }
   },
   "source": [
    "The highest non-trivial linear intensity recorded is between __LEVEL OF IMPACT ON BRAND OR REPUTATION__ and __LEVEL OF COMPETITIVE ADVANTAGE__. This kind of link can be interpreted as follows: When you develop a PBIs that increases the company's competitive advantage, at the same time, you are also improving the image and reputation of your company.\n",
    "\n",
    "Other interesting correlations that the heatmap highlights are those between __LEVEL OF IMPACT ON BRAND OR REPUTATION__ and __ LEVEL OF RETURN ON INVESTMENT__, between __LEVEL OF RETURN ON INVESTMENT__ and __TECHNICAL COMPLEXITY__, and between __TECHNICAL COMPLEXITY__ and __WORK TIME__.\n",
    "The first one may indicate that PBIs with higher ROIs are the ones that have improved the image and reputation of the company.\n",
    "\n",
    "The second may indicate that PBIs with higher ROI are also the ones with the highest realization complexity.\n",
    "\n",
    "The third, I belief that it is fairly random because empirically there is no linear relation between technical complexity and working time. Because there may be tasks that are simple to accomplish but require a lot of effort just because they are long and repetitive. On the contrary, there may be short tasks to be accomplished, but they involve a very high technical difficulty (just think of the realization of an algorithm).\n",
    "\n",
    "Finally, it is interesting to analyze which of the features has a greater correlation with the __PRIORITY__.The only significant feature is the __LEVEL OF REUSABILITY__, This may be a sign that the priority follows the performance of the reusability level, and hence this feature can be part of the main components that determine the priority."
   ]
  },
  {
   "cell_type": "markdown",
   "metadata": {
    "nbpresent": {
     "id": "13ce16c4-1779-4991-8a8e-20e43208cb08"
    }
   },
   "source": [
    "# Modelling <a id='modelling'></a>"
   ]
  },
  {
   "cell_type": "markdown",
   "metadata": {
    "nbpresent": {
     "id": "3fabfc8d-4c31-41e9-b46d-5c5144e84167"
    }
   },
   "source": [
    "In this section we are going to start modeling, first we will divide the dataset in the __train__ and __test set__, after that, we will perform a feature selection and implement a __single-layer percceptron__ and a __two-layer perceptron__. Finally, we will show the results obtained and we will compare them to determine the best model and we will understand if this tool can help a product owner and, if so, how."
   ]
  },
  {
   "cell_type": "markdown",
   "metadata": {
    "nbpresent": {
     "id": "abef7778-a10e-473e-99c4-5bd2940d910e"
    }
   },
   "source": [
    "## Train and Test Sets <a id='train_and_test_sets'></a>"
   ]
  },
  {
   "cell_type": "code",
   "execution_count": 21,
   "metadata": {
    "collapsed": true,
    "nbpresent": {
     "id": "1e47d7ed-50ff-45df-b2b1-1643c709e9ec"
    }
   },
   "outputs": [],
   "source": [
    "from sklearn.feature_selection import SelectKBest\n",
    "from sklearn.model_selection import train_test_split"
   ]
  },
  {
   "cell_type": "markdown",
   "metadata": {
    "nbpresent": {
     "id": "b8dddcd4-da62-435f-aee5-dac7192ed952"
    }
   },
   "source": [
    "OK, let's starts with the division of the datest in train and test sets, to do this we will use _train test split_ from _sklearn_  that not only splits the dataset but also makes a random sampling of data. In fact, we will set the numpy random seed so that it can replicate the results obtained. \n",
    "Train dateset will be formed by $\\frac{2}{3}$ of the dataset and, obviously, the test set will be formed by the remaininf $\\frac{1}{3}$ of the data"
   ]
  },
  {
   "cell_type": "code",
   "execution_count": 22,
   "metadata": {
    "collapsed": true,
    "nbpresent": {
     "id": "0d7b3068-5548-4e7d-87c8-96fd3cf6bd98"
    }
   },
   "outputs": [],
   "source": [
    "np.random.seed(0)\n",
    "train, test = train_test_split(df.as_matrix(), test_size=1.0/3.0, train_size = 2.0/3.0)"
   ]
  },
  {
   "cell_type": "code",
   "execution_count": 23,
   "metadata": {
    "collapsed": true,
    "nbpresent": {
     "id": "1e7ed04e-f68b-4d39-987d-59ce2611efe3"
    }
   },
   "outputs": [],
   "source": [
    "train_df = pd.DataFrame(train,columns=df.columns)\n",
    "test_df = pd.DataFrame(test, columns=df.columns)"
   ]
  },
  {
   "cell_type": "markdown",
   "metadata": {
    "nbpresent": {
     "id": "f7f13375-d3fc-4cb3-944d-e0eb1b751262"
    }
   },
   "source": [
    "We erase the __PROJECT TYPE__ column that is not useful for the features selction and model training"
   ]
  },
  {
   "cell_type": "code",
   "execution_count": 24,
   "metadata": {
    "collapsed": true,
    "nbpresent": {
     "id": "aa4f4406-0b26-4a14-bb37-e2046fe55d9d"
    }
   },
   "outputs": [],
   "source": [
    "train = train_df.as_matrix()[:,1:-1] #I delete the columns PRODUCT BACKLOG ITEM e PROJECT TYPE which are descriptive\n",
    "test = test_df.as_matrix()[:,1:-1]\n",
    "train=train.astype('float64') \n",
    "test = test.astype('float64')"
   ]
  },
  {
   "cell_type": "markdown",
   "metadata": {
    "nbpresent": {
     "id": "c2da008d-4874-4d19-8f0c-70480f20c957"
    }
   },
   "source": [
    "## Features Selection <a id='features_selection'></a>"
   ]
  },
  {
   "cell_type": "markdown",
   "metadata": {
    "nbpresent": {
     "id": "8aef299b-e0a5-4082-b032-a37049d6d290"
    }
   },
   "source": [
    "The first attempt at feature selection is a univariate feature analysis to graphically understand if the data are linearly separable. \n",
    "All the features selection are perfomed on the train set."
   ]
  },
  {
   "cell_type": "code",
   "execution_count": 25,
   "metadata": {
    "nbpresent": {
     "id": "e5c3007d-667a-4dd4-90f2-c9ef884cba59"
    }
   },
   "outputs": [
    {
     "data": {
      "image/png": "[encoded data removed]",
      "text/plain": [
       "<matplotlib.figure.Figure at 0x186083fb470>"
      ]
     },
     "metadata": {},
     "output_type": "display_data"
    }
   ],
   "source": [
    "fig, axes = plt.subplots(nrows=7, ncols=2 ,figsize=(20,30))\n",
    "sns.countplot(x=train_df.columns[1], hue=\"PRIORITY\", data=train_df, palette=\"RdBu_r\", ax=axes[0][0]);\n",
    "sns.countplot(x=train_df.columns[2], hue=\"PRIORITY\", data=train_df, palette=\"RdBu_r\", ax=axes[0][1]);\n",
    "sns.countplot(x=train_df.columns[3], hue=\"PRIORITY\", data=train_df, palette=\"RdBu_r\", ax=axes[1][0]);\n",
    "sns.countplot(x=train_df.columns[4], hue=\"PRIORITY\", data=train_df, palette=\"RdBu_r\", ax=axes[1][1]);\n",
    "sns.countplot(x=train_df.columns[5], hue=\"PRIORITY\", data=train_df, palette=\"RdBu_r\", ax=axes[2][0]);\n",
    "sns.countplot(x=train_df.columns[6], hue=\"PRIORITY\", data=train_df, palette=\"RdBu_r\", ax=axes[2][1]);\n",
    "sns.countplot(x=train_df.columns[7], hue=\"PRIORITY\", data=train_df, palette=\"RdBu_r\", ax=axes[3][0]);\n",
    "sns.countplot(x=train_df.columns[8], hue=\"PRIORITY\", data=train_df, palette=\"RdBu_r\", ax=axes[3][1]);\n",
    "sns.countplot(x=train_df.columns[9], hue=\"PRIORITY\", data=train_df, palette=\"RdBu_r\", ax=axes[4][0]);\n",
    "sns.countplot(x=train_df.columns[10], hue=\"PRIORITY\", data=train_df, palette=\"RdBu_r\", ax=axes[4][1]);\n",
    "sns.countplot(x=train_df.columns[11], hue=\"PRIORITY\", data=train_df, palette=\"RdBu_r\", ax=axes[5][0]);\n",
    "sns.countplot(x=train_df.columns[12], hue=\"PRIORITY\", data=train_df, palette=\"RdBu_r\", ax=axes[5][1]);\n",
    "sns.countplot(x=train_df.columns[13], hue=\"PRIORITY\", data=train_df, palette=\"RdBu_r\", ax=axes[6][0]);\n",
    "sns.countplot(x=train_df.columns[14], hue=\"PRIORITY\", data=train_df, palette=\"RdBu_r\", ax=axes[6][1]);\n",
    "for i in range(7):\n",
    "    for j in range(2):\n",
    "        axes[i][j].legend(loc='upper right', fancybox=True, fontsize=10, title='PRIORITY')\n",
    "sns.plt.show()"
   ]
  },
  {
   "cell_type": "markdown",
   "metadata": {
    "nbpresent": {
     "id": "300f22eb-1877-43e9-8910-0324b59b0b5d"
    }
   },
   "source": [
    "As we can see, no one of the features  can divide the dataset well. The next step is to try to use combinations of multiple features. Since the number of plots grows exponentially with the number of features used and since we can not plot over the 3rd dimension, we will use a _sklearn_ tool called __RFE__ that with the use of an estimator (in this we will use SVM but you can use any other) is able of pulling out a features ranking. For simplicity and to reduce the number of experiments, I will only use the first features and a three subset of features: one consisting of 3 features, one with 7 features and the last consisting of 10 features."
   ]
  },
  {
   "cell_type": "code",
   "execution_count": 26,
   "metadata": {
    "collapsed": true,
    "nbpresent": {
     "id": "8332f9bb-8d55-4ccf-bd33-4a2080071aff"
    }
   },
   "outputs": [],
   "source": [
    "from sklearn.feature_selection import RFE\n",
    "from sklearn.svm import SVC #SVC is a SVM for Classification"
   ]
  },
  {
   "cell_type": "code",
   "execution_count": 27,
   "metadata": {
    "collapsed": true,
    "nbpresent": {
     "id": "f1fdfbf6-66df-4b78-af81-160b7a4820d6"
    }
   },
   "outputs": [],
   "source": [
    "patterns_train = train[:,:-1]\n",
    "labels_train = train[:,-1]\n",
    "estimator = SVC(kernel=\"linear\")"
   ]
  },
  {
   "cell_type": "markdown",
   "metadata": {
    "nbpresent": {
     "id": "8de8cc1e-a81a-4216-80e4-185ab2c51fb4"
    }
   },
   "source": [
    "Let's start by extracting the best $3$ features"
   ]
  },
  {
   "cell_type": "code",
   "execution_count": 28,
   "metadata": {
    "nbpresent": {
     "id": "f4aee023-7a83-40d5-a8ac-07be1d1b2790"
    }
   },
   "outputs": [
    {
     "data": {
      "text/plain": [
       "(array([False,  True, False, False, False, False, False, False, False,\n",
       "         True,  True, False, False, False], dtype=bool),\n",
       " array([ 8,  1, 11,  3,  4,  9,  5,  2, 12,  1,  1,  6, 10,  7]))"
      ]
     },
     "execution_count": 28,
     "metadata": {},
     "output_type": "execute_result"
    }
   ],
   "source": [
    "selector3 = RFE(estimator, 3)\n",
    "selector3 = selector3.fit(patterns_train, labels_train)\n",
    "selector3.support_ ,selector3.ranking_"
   ]
  },
  {
   "cell_type": "code",
   "execution_count": 29,
   "metadata": {
    "nbpresent": {
     "id": "c3baac40-66e0-4d41-b8ee-47669848ba8c"
    }
   },
   "outputs": [
    {
     "name": "stdout",
     "output_type": "stream",
     "text": [
      "The best 3 features are:\n",
      "1\tLEVEL OF REUSABILITY\n",
      "2\tLEVEL OF IMPACT ON BRAND OR REPUTATION\n",
      "3\tLEVEL OF COMPETITIVE ADVANTAGE\n"
     ]
    }
   ],
   "source": [
    "best = train_df.drop(['PRIORITY', 'PROJECT TYPE', 'PRODUCT BACKLOG ITEM'], axis=1).columns[selector3.support_]\n",
    "print(\"The best 3 features are:\")\n",
    "i=0\n",
    "for b in best:\n",
    "    i+=1\n",
    "    print(str(i)+\"\\t\"+b)"
   ]
  },
  {
   "cell_type": "markdown",
   "metadata": {
    "collapsed": true,
    "nbpresent": {
     "id": "b526a1dc-bbf7-4240-ba72-bbf2c430f944"
    }
   },
   "source": [
    "Now, we are going to extract the best $7$ features"
   ]
  },
  {
   "cell_type": "code",
   "execution_count": 30,
   "metadata": {
    "nbpresent": {
     "id": "2aa9aade-0beb-47d6-98ad-ec89fc3b3e33"
    }
   },
   "outputs": [
    {
     "data": {
      "text/plain": [
       "(array([False,  True, False,  True,  True, False,  True,  True, False,\n",
       "         True,  True, False, False, False], dtype=bool),\n",
       " array([4, 1, 7, 1, 1, 5, 1, 1, 8, 1, 1, 2, 6, 3]))"
      ]
     },
     "execution_count": 30,
     "metadata": {},
     "output_type": "execute_result"
    }
   ],
   "source": [
    "selector7 = RFE(estimator, 7)\n",
    "selector7 = selector7.fit(patterns_train, labels_train)\n",
    "selector7.support_, selector7.ranking_"
   ]
  },
  {
   "cell_type": "code",
   "execution_count": 31,
   "metadata": {
    "nbpresent": {
     "id": "f273c78a-eab9-4a95-bab7-b2e12bab017c"
    }
   },
   "outputs": [
    {
     "name": "stdout",
     "output_type": "stream",
     "text": [
      "The best 7 features are:\n",
      "1\tLEVEL OF REUSABILITY\n",
      "2\tWORK TIME\n",
      "3\tTECHINICAL COMPLEXITY\n",
      "4\tTIME CONSTRAINT\n",
      "5\tNUMBER OF SIMILAR PBIs ACCOMPLISHED\n",
      "6\tLEVEL OF IMPACT ON BRAND OR REPUTATION\n",
      "7\tLEVEL OF COMPETITIVE ADVANTAGE\n"
     ]
    }
   ],
   "source": [
    "best=train_df.drop(['PRIORITY', 'PROJECT TYPE', 'PRODUCT BACKLOG ITEM'], axis=1).columns[selector7.support_]\n",
    "print(\"The best 7 features are:\")\n",
    "i=0\n",
    "for b in best:\n",
    "    i+=1\n",
    "    print(str(i)+\"\\t\"+b)"
   ]
  },
  {
   "cell_type": "markdown",
   "metadata": {
    "nbpresent": {
     "id": "15f7efb3-3d83-40b1-83fd-f45491d5cc36"
    }
   },
   "source": [
    "At the end, we can extract the best $10$ features"
   ]
  },
  {
   "cell_type": "code",
   "execution_count": 32,
   "metadata": {
    "nbpresent": {
     "id": "b3bab622-939f-4964-afd5-ee442ca92906"
    }
   },
   "outputs": [
    {
     "data": {
      "text/plain": [
       "(array([ True,  True, False,  True,  True, False,  True,  True, False,\n",
       "         True,  True,  True, False,  True], dtype=bool),\n",
       " array([1, 1, 4, 1, 1, 2, 1, 1, 5, 1, 1, 1, 3, 1]))"
      ]
     },
     "execution_count": 32,
     "metadata": {},
     "output_type": "execute_result"
    }
   ],
   "source": [
    "selector10 = RFE(estimator, 10)\n",
    "selector10 = selector10.fit(patterns_train, labels_train)\n",
    "selector10.support_ ,selector10.ranking_"
   ]
  },
  {
   "cell_type": "code",
   "execution_count": 33,
   "metadata": {
    "nbpresent": {
     "id": "a56f21f5-6333-4bde-bca6-a980c3618273"
    }
   },
   "outputs": [
    {
     "name": "stdout",
     "output_type": "stream",
     "text": [
      "The best 10 features are:\n",
      "1\tNUMBER OF REVISION FOR THAT P.B.I.s\n",
      "2\tLEVEL OF REUSABILITY\n",
      "3\tWORK TIME\n",
      "4\tTECHINICAL COMPLEXITY\n",
      "5\tTIME CONSTRAINT\n",
      "6\tNUMBER OF SIMILAR PBIs ACCOMPLISHED\n",
      "7\tLEVEL OF IMPACT ON BRAND OR REPUTATION\n",
      "8\tLEVEL OF COMPETITIVE ADVANTAGE\n",
      "9\tLEVEL OF  IMPORTANCE FOR MARKET (FROM SOCIAL)\n",
      "10\tLEVEL OF IMPORTANCE FOR THE CUSTOMER\n"
     ]
    }
   ],
   "source": [
    "best=train_df.drop(['PRIORITY', 'PROJECT TYPE', 'PRODUCT BACKLOG ITEM'], axis=1).columns[selector10.support_]\n",
    "print(\"The best 10 features are:\")\n",
    "i=0\n",
    "for b in best:\n",
    "    i+=1\n",
    "    print(str(i)+\"\\t\"+b)"
   ]
  },
  {
   "cell_type": "markdown",
   "metadata": {
    "nbpresent": {
     "id": "20a9e1d0-9c7c-4d3e-95f5-afb2922e21fc"
    }
   },
   "source": [
    "## Perceptron <a id='perceptron'></a>"
   ]
  },
  {
   "cell_type": "markdown",
   "metadata": {
    "nbpresent": {
     "id": "3edb8a8f-4a7a-4a2f-8e09-bb395213d949"
    }
   },
   "source": [
    "Now that we have the features to train models we can build them. As we have already said, we will build a single-layer perceptron and two-layer perceptron. Actually, since we have $3$ subset of feature we will build $3$ single-layer perceptron models and $3$ of two-layer perceptron, so one for each features. To do this we will use __Keras__, a high-end library for neural networks building."
   ]
  },
  {
   "cell_type": "code",
   "execution_count": 34,
   "metadata": {
    "nbpresent": {
     "id": "7a79a8cb-cb52-423e-877c-5afc7bd1116a"
    }
   },
   "outputs": [
    {
     "name": "stderr",
     "output_type": "stream",
     "text": [
      "Using TensorFlow backend.\n"
     ]
    }
   ],
   "source": [
    "from keras.models import Sequential\n",
    "from keras.layers import Dense, Activation, Dropout\n",
    "from keras.utils import np_utils"
   ]
  },
  {
   "cell_type": "markdown",
   "metadata": {
    "nbpresent": {
     "id": "964afec3-1a1d-4f25-b33e-fae27b7ecb13"
    }
   },
   "source": [
    "The first thing to do is data-prepocessing. In our case, we create the different sets of trainings and tests containing 3, 7, and 10 caratterstics, after which we transform the labels (i.e. the priorities) using a particular encoding.\n",
    "When modeling multi-class classification problems using neural networks, it is good practice to encode the labels vector, that contains values for each class, using __one-hot__ encodig. To show how one-hot encoding works, let's see it in action on our data. Our labels are the priority assigned to the PBIs, the priority go from 1 to 5, the one-hot encoding maps the priority in this binary vector:\n",
    "\n",
    "+ 1 -> [1,0,0,0,0]\n",
    "+ 2 -> [0,1,0,0,0]\n",
    "+ 3 -> [0,0,1,0,0]\n",
    "+ 4 -> [0,0,0,1,0]\n",
    "+ 5 -> [0,0,0,0,1]\n",
    "\n",
    "So, one-hot encodig create a vector of $n$ dimension, where $n$ is the number of the class and the value of a vector are all $0$ except one value that contains the value $1$ which index indicate the class. To perform one-hot encoding we use np_utlis from Keras framework."
   ]
  },
  {
   "cell_type": "code",
   "execution_count": 35,
   "metadata": {
    "collapsed": true,
    "nbpresent": {
     "id": "5f96f8b3-b511-4b67-82b2-1fb2788be16c"
    }
   },
   "outputs": [],
   "source": [
    "labels_train=labels_train.reshape((100,1))\n",
    "labels_test = test[:,-1]\n",
    "labels_test = labels_test.reshape((50,1))\n",
    "dummy_label_train = np_utils.to_categorical(labels_train-1, num_classes=5)\n",
    "dummy_label_test = np_utils.to_categorical(labels_test-1, num_classes=5)\n",
    "\n",
    "patterns_train3 = selector3.transform(patterns_train)\n",
    "patterns_test3 = test[:,:-1]\n",
    "patterns_test3 = selector3.transform(patterns_test3)\n",
    "\n",
    "patterns_train7 = selector7.transform(patterns_train)\n",
    "patterns_test7 = test[:,:-1]\n",
    "patterns_test7 = selector7.transform(patterns_test7)\n",
    "\n",
    "patterns_train10 = selector10.transform(patterns_train)\n",
    "patterns_test10 = test[:,:-1]\n",
    "patterns_test10 = selector10.transform(patterns_test10)"
   ]
  },
  {
   "cell_type": "markdown",
   "metadata": {
    "nbpresent": {
     "id": "fdf65ce4-ce23-4c60-b606-9f2878454613"
    }
   },
   "source": [
    "Now we can go to the creation of neural networks. Both perceptrons and multi-layer perceptrons use the 'softmax' function as the output function. This is to ensure the output values are in the range of 0 and 1 and may be used as predicted probabilities, as we can see in the figure below"
   ]
  },
  {
   "cell_type": "markdown",
   "metadata": {
    "nbpresent": {
     "id": "4ae301bc-292b-4af2-8674-639fa3ee76bf"
    }
   },
   "source": [
    "![softmax function](img/softmax.png)"
   ]
  },
  {
   "cell_type": "markdown",
   "metadata": {
    "nbpresent": {
     "id": "db0ba820-493a-4a1d-bd3b-87775ac2711a"
    }
   },
   "source": [
    "Other parameters are inspired by the work posted in <a href='http://machinelearningmastery.com/multi-class-classification-tutorial-keras-deep-learning-library/'>this article</a> or are the result of experiments to improve accuracy. Now, let's start with the training of the net."
   ]
  },
  {
   "cell_type": "markdown",
   "metadata": {
    "nbpresent": {
     "id": "66955a49-b5ab-4f65-9e50-1913c73e5e98"
    }
   },
   "source": [
    "##### Single-Layer Perceptron 3 features"
   ]
  },
  {
   "cell_type": "markdown",
   "metadata": {
    "nbpresent": {
     "id": "f9f4efd7-179c-4e8e-9bd6-e840e4a97ae5"
    }
   },
   "source": [
    "The topology of this perceptron is:\n",
    "\n",
    "<center>__3 inputs -> [20 hidden neurons] -> 5 outputs__<center>\n",
    "![3 features perceptron](img/perce3.png)"
   ]
  },
  {
   "cell_type": "code",
   "execution_count": 36,
   "metadata": {
    "collapsed": true,
    "nbpresent": {
     "id": "fb63202e-8c8f-41df-a613-c1702d088e8b"
    }
   },
   "outputs": [
    {
     "name": "stdout",
     "output_type": "stream",
     "text": [
      "Epoch 1/200\n",
      "100/100 [==============================] - 0s - loss: 1.6901 - acc: 0.1700     \n",
      "Epoch 2/200\n",
      "100/100 [==============================] - 0s - loss: 1.6420 - acc: 0.1800     \n",
      "Epoch 3/200\n",
      "100/100 [==============================] - 0s - loss: 1.6046 - acc: 0.1800     \n",
      "Epoch 4/200\n",
      "100/100 [==============================] - 0s - loss: 1.5743 - acc: 0.2200     \n",
      "Epoch 5/200\n",
      "100/100 [==============================] - 0s - loss: 1.5517 - acc: 0.3100     \n",
      "Epoch 6/200\n",
      "100/100 [==============================] - 0s - loss: 1.5335 - acc: 0.3300     \n",
      "Epoch 7/200\n",
      "100/100 [==============================] - 0s - loss: 1.5191 - acc: 0.3300     \n",
      "Epoch 8/200\n",
      "100/100 [==============================] - 0s - loss: 1.5089 - acc: 0.3300     \n",
      "Epoch 9/200\n",
      "100/100 [==============================] - 0s - loss: 1.5007 - acc: 0.3300     \n",
      "Epoch 10/200\n",
      "100/100 [==============================] - 0s - loss: 1.4918 - acc: 0.3400     \n",
      "Epoch 11/200\n",
      "100/100 [==============================] - 0s - loss: 1.4851 - acc: 0.3500     \n",
      "Epoch 12/200\n",
      "100/100 [==============================] - 0s - loss: 1.4798 - acc: 0.3500     \n",
      "Epoch 13/200\n",
      "100/100 [==============================] - 0s - loss: 1.4744 - acc: 0.3500     \n",
      "Epoch 14/200\n",
      "100/100 [==============================] - 0s - loss: 1.4693 - acc: 0.3600     \n",
      "Epoch 15/200\n",
      "100/100 [==============================] - 0s - loss: 1.4652 - acc: 0.3700     \n",
      "Epoch 16/200\n",
      "100/100 [==============================] - 0s - loss: 1.4616 - acc: 0.3700     \n",
      "Epoch 17/200\n",
      "100/100 [==============================] - 0s - loss: 1.4577 - acc: 0.3700     \n",
      "Epoch 18/200\n",
      "100/100 [==============================] - 0s - loss: 1.4547 - acc: 0.3700     \n",
      "Epoch 19/200\n",
      "100/100 [==============================] - 0s - loss: 1.4512 - acc: 0.3800     \n",
      "Epoch 20/200\n",
      "100/100 [==============================] - 0s - loss: 1.4483 - acc: 0.3700     \n",
      "Epoch 21/200\n",
      "100/100 [==============================] - 0s - loss: 1.4451 - acc: 0.3800     \n",
      "Epoch 22/200\n",
      "100/100 [==============================] - 0s - loss: 1.4423 - acc: 0.3800     \n",
      "Epoch 23/200\n",
      "100/100 [==============================] - 0s - loss: 1.4391 - acc: 0.3800     \n",
      "Epoch 24/200\n",
      "100/100 [==============================] - 0s - loss: 1.4375 - acc: 0.3800     \n",
      "Epoch 25/200\n",
      "100/100 [==============================] - 0s - loss: 1.4333 - acc: 0.3800     \n",
      "Epoch 26/200\n",
      "100/100 [==============================] - 0s - loss: 1.4309 - acc: 0.3800     \n",
      "Epoch 27/200\n",
      "100/100 [==============================] - 0s - loss: 1.4285 - acc: 0.3800     \n",
      "Epoch 28/200\n",
      "100/100 [==============================] - 0s - loss: 1.4256 - acc: 0.3800     \n",
      "Epoch 29/200\n",
      "100/100 [==============================] - 0s - loss: 1.4233 - acc: 0.3800     \n",
      "Epoch 30/200\n",
      "100/100 [==============================] - 0s - loss: 1.4219 - acc: 0.3800     \n",
      "Epoch 31/200\n",
      "100/100 [==============================] - 0s - loss: 1.4196 - acc: 0.3800     \n",
      "Epoch 32/200\n",
      "100/100 [==============================] - 0s - loss: 1.4176 - acc: 0.3800     \n",
      "Epoch 33/200\n",
      "100/100 [==============================] - 0s - loss: 1.4149 - acc: 0.3800     \n",
      "Epoch 34/200\n",
      "100/100 [==============================] - 0s - loss: 1.4132 - acc: 0.3800     \n",
      "Epoch 35/200\n",
      "100/100 [==============================] - 0s - loss: 1.4107 - acc: 0.3700     \n",
      "Epoch 36/200\n",
      "100/100 [==============================] - 0s - loss: 1.4086 - acc: 0.3800     \n",
      "Epoch 37/200\n",
      "100/100 [==============================] - 0s - loss: 1.4058 - acc: 0.3800     \n",
      "Epoch 38/200\n",
      "100/100 [==============================] - 0s - loss: 1.4043 - acc: 0.3800     \n",
      "Epoch 39/200\n",
      "100/100 [==============================] - 0s - loss: 1.4019 - acc: 0.3800     \n",
      "Epoch 40/200\n",
      "100/100 [==============================] - 0s - loss: 1.3996 - acc: 0.3900     \n",
      "Epoch 41/200\n",
      "100/100 [==============================] - 0s - loss: 1.3977 - acc: 0.3800     \n",
      "Epoch 42/200\n",
      "100/100 [==============================] - 0s - loss: 1.3960 - acc: 0.3800     \n",
      "Epoch 43/200\n",
      "100/100 [==============================] - 0s - loss: 1.3929 - acc: 0.3800     \n",
      "Epoch 44/200\n",
      "100/100 [==============================] - 0s - loss: 1.3911 - acc: 0.3700     \n",
      "Epoch 45/200\n",
      "100/100 [==============================] - 0s - loss: 1.3886 - acc: 0.3700     \n",
      "Epoch 46/200\n",
      "100/100 [==============================] - 0s - loss: 1.3864 - acc: 0.3700     \n",
      "Epoch 47/200\n",
      "100/100 [==============================] - ETA: 0s - loss: 1.4679 - acc: 0.100 - 0s - loss: 1.3844 - acc: 0.3700     \n",
      "Epoch 48/200\n",
      "100/100 [==============================] - 0s - loss: 1.3826 - acc: 0.3800     \n",
      "Epoch 49/200\n",
      "100/100 [==============================] - 0s - loss: 1.3814 - acc: 0.3800     \n",
      "Epoch 50/200\n",
      "100/100 [==============================] - 0s - loss: 1.3791 - acc: 0.3800     \n",
      "Epoch 51/200\n",
      "100/100 [==============================] - 0s - loss: 1.3774 - acc: 0.3800     \n",
      "Epoch 52/200\n",
      "100/100 [==============================] - 0s - loss: 1.3750 - acc: 0.3800     \n",
      "Epoch 53/200\n",
      "100/100 [==============================] - 0s - loss: 1.3730 - acc: 0.3800     \n",
      "Epoch 54/200\n",
      "100/100 [==============================] - 0s - loss: 1.3717 - acc: 0.3800     \n",
      "Epoch 55/200\n",
      "100/100 [==============================] - 0s - loss: 1.3693 - acc: 0.3800     \n",
      "Epoch 56/200\n",
      "100/100 [==============================] - 0s - loss: 1.3679 - acc: 0.3800     \n",
      "Epoch 57/200\n",
      "100/100 [==============================] - 0s - loss: 1.3666 - acc: 0.3800     \n",
      "Epoch 58/200\n",
      "100/100 [==============================] - 0s - loss: 1.3656 - acc: 0.3800     \n",
      "Epoch 59/200\n",
      "100/100 [==============================] - 0s - loss: 1.3630 - acc: 0.3800     \n",
      "Epoch 60/200\n",
      "100/100 [==============================] - 0s - loss: 1.3607 - acc: 0.3800     \n",
      "Epoch 61/200\n",
      "100/100 [==============================] - 0s - loss: 1.3598 - acc: 0.3800     \n",
      "Epoch 62/200\n",
      "100/100 [==============================] - 0s - loss: 1.3592 - acc: 0.3700     \n",
      "Epoch 63/200\n",
      "100/100 [==============================] - 0s - loss: 1.3562 - acc: 0.3700     \n",
      "Epoch 64/200\n",
      "100/100 [==============================] - 0s - loss: 1.3551 - acc: 0.3700     \n",
      "Epoch 65/200\n",
      "100/100 [==============================] - 0s - loss: 1.3535 - acc: 0.3800     \n",
      "Epoch 66/200\n",
      "100/100 [==============================] - 0s - loss: 1.3525 - acc: 0.3800     \n",
      "Epoch 67/200\n",
      "100/100 [==============================] - 0s - loss: 1.3512 - acc: 0.3800     \n",
      "Epoch 68/200\n",
      "100/100 [==============================] - 0s - loss: 1.3490 - acc: 0.3800     \n",
      "Epoch 69/200\n",
      "100/100 [==============================] - 0s - loss: 1.3476 - acc: 0.3800     \n",
      "Epoch 70/200\n",
      "100/100 [==============================] - 0s - loss: 1.3460 - acc: 0.3800     \n",
      "Epoch 71/200\n",
      "100/100 [==============================] - 0s - loss: 1.3449 - acc: 0.3800     \n",
      "Epoch 72/200\n",
      "100/100 [==============================] - ETA: 0s - loss: 1.4103 - acc: 0.200 - 0s - loss: 1.3436 - acc: 0.3800     \n",
      "Epoch 73/200\n",
      "100/100 [==============================] - 0s - loss: 1.3444 - acc: 0.3800     \n",
      "Epoch 74/200\n",
      "100/100 [==============================] - 0s - loss: 1.3403 - acc: 0.3700     \n",
      "Epoch 75/200\n",
      "100/100 [==============================] - 0s - loss: 1.3401 - acc: 0.3800     \n",
      "Epoch 76/200\n",
      "100/100 [==============================] - 0s - loss: 1.3381 - acc: 0.3800     \n",
      "Epoch 77/200\n",
      "100/100 [==============================] - 0s - loss: 1.3368 - acc: 0.3800     \n",
      "Epoch 78/200\n",
      "100/100 [==============================] - 0s - loss: 1.3356 - acc: 0.3800     \n",
      "Epoch 79/200\n",
      "100/100 [==============================] - 0s - loss: 1.3356 - acc: 0.3700     \n",
      "Epoch 80/200\n",
      "100/100 [==============================] - 0s - loss: 1.3329 - acc: 0.3800     \n",
      "Epoch 81/200\n",
      "100/100 [==============================] - 0s - loss: 1.3320 - acc: 0.3800     \n",
      "Epoch 82/200\n",
      "100/100 [==============================] - 0s - loss: 1.3306 - acc: 0.3800     \n",
      "Epoch 83/200\n",
      "100/100 [==============================] - 0s - loss: 1.3295 - acc: 0.3800     \n",
      "Epoch 84/200\n",
      "100/100 [==============================] - 0s - loss: 1.3290 - acc: 0.3800     \n",
      "Epoch 85/200\n",
      "100/100 [==============================] - 0s - loss: 1.3276 - acc: 0.3800     \n",
      "Epoch 86/200\n",
      "100/100 [==============================] - 0s - loss: 1.3265 - acc: 0.3800     \n",
      "Epoch 87/200\n",
      "100/100 [==============================] - 0s - loss: 1.3252 - acc: 0.3800     \n",
      "Epoch 88/200\n",
      "100/100 [==============================] - 0s - loss: 1.3239 - acc: 0.3800     \n",
      "Epoch 89/200\n",
      "100/100 [==============================] - 0s - loss: 1.3235 - acc: 0.3800     \n",
      "Epoch 90/200\n",
      "100/100 [==============================] - 0s - loss: 1.3227 - acc: 0.3800     \n",
      "Epoch 91/200\n",
      "100/100 [==============================] - 0s - loss: 1.3226 - acc: 0.3800     \n",
      "Epoch 92/200\n",
      "100/100 [==============================] - 0s - loss: 1.3201 - acc: 0.3800     \n",
      "Epoch 93/200\n",
      "100/100 [==============================] - 0s - loss: 1.3199 - acc: 0.3800     \n",
      "Epoch 94/200\n",
      "100/100 [==============================] - 0s - loss: 1.3194 - acc: 0.3800     \n",
      "Epoch 95/200\n",
      "100/100 [==============================] - 0s - loss: 1.3180 - acc: 0.3800     \n",
      "Epoch 96/200\n",
      "100/100 [==============================] - 0s - loss: 1.3169 - acc: 0.3800     \n",
      "Epoch 97/200\n",
      "100/100 [==============================] - 0s - loss: 1.3157 - acc: 0.3800     \n",
      "Epoch 98/200\n",
      "100/100 [==============================] - 0s - loss: 1.3149 - acc: 0.3800     \n",
      "Epoch 99/200\n",
      "100/100 [==============================] - 0s - loss: 1.3145 - acc: 0.3800     \n",
      "Epoch 100/200\n",
      "100/100 [==============================] - 0s - loss: 1.3126 - acc: 0.3800     \n",
      "Epoch 101/200\n",
      "100/100 [==============================] - 0s - loss: 1.3124 - acc: 0.3800     \n",
      "Epoch 102/200\n",
      "100/100 [==============================] - 0s - loss: 1.3114 - acc: 0.3800     \n",
      "Epoch 103/200\n",
      "100/100 [==============================] - ETA: 0s - loss: 1.5855 - acc: 0.100 - 0s - loss: 1.3101 - acc: 0.3800     \n",
      "Epoch 104/200\n",
      "100/100 [==============================] - 0s - loss: 1.3092 - acc: 0.3800     \n",
      "Epoch 105/200\n",
      "100/100 [==============================] - 0s - loss: 1.3101 - acc: 0.3800     \n",
      "Epoch 106/200\n",
      "100/100 [==============================] - 0s - loss: 1.3078 - acc: 0.3800     \n",
      "Epoch 107/200\n",
      "100/100 [==============================] - 0s - loss: 1.3077 - acc: 0.3800     \n",
      "Epoch 108/200\n",
      "100/100 [==============================] - 0s - loss: 1.3075 - acc: 0.3800     \n",
      "Epoch 109/200\n",
      "100/100 [==============================] - 0s - loss: 1.3062 - acc: 0.3800     \n",
      "Epoch 110/200\n",
      "100/100 [==============================] - 0s - loss: 1.3070 - acc: 0.3800     \n",
      "Epoch 111/200\n",
      "100/100 [==============================] - 0s - loss: 1.3051 - acc: 0.3800     \n",
      "Epoch 112/200\n",
      "100/100 [==============================] - 0s - loss: 1.3039 - acc: 0.3800     \n",
      "Epoch 113/200\n",
      "100/100 [==============================] - 0s - loss: 1.3054 - acc: 0.3800     \n",
      "Epoch 114/200\n",
      "100/100 [==============================] - 0s - loss: 1.3059 - acc: 0.3800     \n",
      "Epoch 115/200\n",
      "100/100 [==============================] - 0s - loss: 1.3037 - acc: 0.3800     \n",
      "Epoch 116/200\n",
      "100/100 [==============================] - 0s - loss: 1.3017 - acc: 0.3800     \n",
      "Epoch 117/200\n",
      "100/100 [==============================] - 0s - loss: 1.3021 - acc: 0.3800     \n",
      "Epoch 118/200\n",
      "100/100 [==============================] - 0s - loss: 1.3001 - acc: 0.3800     \n",
      "Epoch 119/200\n",
      "100/100 [==============================] - 0s - loss: 1.3000 - acc: 0.3800     \n",
      "Epoch 120/200\n",
      "100/100 [==============================] - 0s - loss: 1.2997 - acc: 0.3800     \n",
      "Epoch 121/200\n",
      "100/100 [==============================] - 0s - loss: 1.2982 - acc: 0.3800     \n",
      "Epoch 122/200\n",
      "100/100 [==============================] - 0s - loss: 1.2976 - acc: 0.3800     \n",
      "Epoch 123/200\n",
      "100/100 [==============================] - 0s - loss: 1.2976 - acc: 0.3800     \n",
      "Epoch 124/200\n",
      "100/100 [==============================] - 0s - loss: 1.2971 - acc: 0.3800     \n",
      "Epoch 125/200\n",
      "100/100 [==============================] - 0s - loss: 1.2962 - acc: 0.3800     \n",
      "Epoch 126/200\n",
      "100/100 [==============================] - 0s - loss: 1.2949 - acc: 0.3800     \n",
      "Epoch 127/200\n",
      "100/100 [==============================] - 0s - loss: 1.2961 - acc: 0.3800     \n",
      "Epoch 128/200\n",
      "100/100 [==============================] - 0s - loss: 1.2955 - acc: 0.3800     \n",
      "Epoch 129/200\n",
      "100/100 [==============================] - 0s - loss: 1.2944 - acc: 0.3800     \n",
      "Epoch 130/200\n",
      "100/100 [==============================] - 0s - loss: 1.2947 - acc: 0.3400     \n",
      "Epoch 131/200\n",
      "100/100 [==============================] - 0s - loss: 1.2935 - acc: 0.3600     \n",
      "Epoch 132/200\n",
      "100/100 [==============================] - 0s - loss: 1.2936 - acc: 0.3700     \n",
      "Epoch 133/200\n",
      "100/100 [==============================] - 0s - loss: 1.2927 - acc: 0.3800     \n",
      "Epoch 134/200\n",
      "100/100 [==============================] - 0s - loss: 1.2918 - acc: 0.3800     \n",
      "Epoch 135/200\n",
      "100/100 [==============================] - 0s - loss: 1.2916 - acc: 0.3800     \n",
      "Epoch 136/200\n",
      "100/100 [==============================] - 0s - loss: 1.2908 - acc: 0.3800     \n",
      "Epoch 137/200\n",
      "100/100 [==============================] - 0s - loss: 1.2902 - acc: 0.3800     \n",
      "Epoch 138/200\n",
      "100/100 [==============================] - 0s - loss: 1.2899 - acc: 0.3800     \n",
      "Epoch 139/200\n",
      "100/100 [==============================] - 0s - loss: 1.2905 - acc: 0.3800     \n",
      "Epoch 140/200\n",
      "100/100 [==============================] - 0s - loss: 1.2888 - acc: 0.3800     \n",
      "Epoch 141/200\n",
      "100/100 [==============================] - 0s - loss: 1.2890 - acc: 0.3800     \n",
      "Epoch 142/200\n",
      "100/100 [==============================] - 0s - loss: 1.2879 - acc: 0.3900     \n",
      "Epoch 143/200\n",
      "100/100 [==============================] - 0s - loss: 1.2879 - acc: 0.4000     \n",
      "Epoch 144/200\n",
      "100/100 [==============================] - 0s - loss: 1.2878 - acc: 0.3700     \n",
      "Epoch 145/200\n",
      "100/100 [==============================] - 0s - loss: 1.2887 - acc: 0.3500     \n",
      "Epoch 146/200\n",
      "100/100 [==============================] - 0s - loss: 1.2878 - acc: 0.3600     \n",
      "Epoch 147/200\n",
      "100/100 [==============================] - 0s - loss: 1.2869 - acc: 0.3500     \n",
      "Epoch 148/200\n",
      "100/100 [==============================] - 0s - loss: 1.2862 - acc: 0.4000     \n",
      "Epoch 149/200\n",
      "100/100 [==============================] - 0s - loss: 1.2862 - acc: 0.4000     \n",
      "Epoch 150/200\n",
      "100/100 [==============================] - 0s - loss: 1.2857 - acc: 0.4000     \n",
      "Epoch 151/200\n",
      "100/100 [==============================] - 0s - loss: 1.2857 - acc: 0.3700     \n",
      "Epoch 152/200\n",
      "100/100 [==============================] - 0s - loss: 1.2858 - acc: 0.3900     \n",
      "Epoch 153/200\n",
      "100/100 [==============================] - 0s - loss: 1.2852 - acc: 0.4000     \n",
      "Epoch 154/200\n",
      "100/100 [==============================] - 0s - loss: 1.2845 - acc: 0.3700     \n",
      "Epoch 155/200\n",
      "100/100 [==============================] - 0s - loss: 1.2838 - acc: 0.4000     \n",
      "Epoch 156/200\n",
      "100/100 [==============================] - 0s - loss: 1.2840 - acc: 0.4000     \n",
      "Epoch 157/200\n",
      "100/100 [==============================] - 0s - loss: 1.2838 - acc: 0.3700     \n",
      "Epoch 158/200\n",
      "100/100 [==============================] - 0s - loss: 1.2853 - acc: 0.4000     \n",
      "Epoch 159/200\n",
      "100/100 [==============================] - 0s - loss: 1.2827 - acc: 0.4000     \n",
      "Epoch 160/200\n",
      "100/100 [==============================] - 0s - loss: 1.2820 - acc: 0.4000     \n",
      "Epoch 161/200\n",
      "100/100 [==============================] - 0s - loss: 1.2823 - acc: 0.4000     \n",
      "Epoch 162/200\n",
      "100/100 [==============================] - 0s - loss: 1.2819 - acc: 0.4000     \n",
      "Epoch 163/200\n",
      "100/100 [==============================] - 0s - loss: 1.2824 - acc: 0.4000     \n",
      "Epoch 164/200\n",
      "100/100 [==============================] - 0s - loss: 1.2811 - acc: 0.4000     \n",
      "Epoch 165/200\n",
      "100/100 [==============================] - 0s - loss: 1.2816 - acc: 0.4000     \n",
      "Epoch 166/200\n",
      "100/100 [==============================] - 0s - loss: 1.2808 - acc: 0.4000     \n",
      "Epoch 167/200\n",
      "100/100 [==============================] - 0s - loss: 1.2798 - acc: 0.4000     \n",
      "Epoch 168/200\n",
      "100/100 [==============================] - 0s - loss: 1.2809 - acc: 0.4000     \n",
      "Epoch 169/200\n",
      "100/100 [==============================] - 0s - loss: 1.2809 - acc: 0.4000     \n",
      "Epoch 170/200\n",
      "100/100 [==============================] - 0s - loss: 1.2802 - acc: 0.4000     \n",
      "Epoch 171/200\n",
      "100/100 [==============================] - ETA: 0s - loss: 1.4215 - acc: 0.200 - 0s - loss: 1.2794 - acc: 0.4000     \n",
      "Epoch 172/200\n",
      "100/100 [==============================] - 0s - loss: 1.2804 - acc: 0.4000     \n",
      "Epoch 173/200\n",
      "100/100 [==============================] - 0s - loss: 1.2791 - acc: 0.4000     \n",
      "Epoch 174/200\n"
     ]
    },
    {
     "name": "stdout",
     "output_type": "stream",
     "text": [
      "100/100 [==============================] - 0s - loss: 1.2794 - acc: 0.4000     \n",
      "Epoch 175/200\n",
      "100/100 [==============================] - 0s - loss: 1.2800 - acc: 0.4000     \n",
      "Epoch 176/200\n",
      "100/100 [==============================] - 0s - loss: 1.2806 - acc: 0.4000     \n",
      "Epoch 177/200\n",
      "100/100 [==============================] - 0s - loss: 1.2784 - acc: 0.4000     \n",
      "Epoch 178/200\n",
      "100/100 [==============================] - 0s - loss: 1.2781 - acc: 0.4000     \n",
      "Epoch 179/200\n",
      "100/100 [==============================] - 0s - loss: 1.2788 - acc: 0.3700     \n",
      "Epoch 180/200\n",
      "100/100 [==============================] - 0s - loss: 1.2767 - acc: 0.4100     \n",
      "Epoch 181/200\n",
      "100/100 [==============================] - 0s - loss: 1.2769 - acc: 0.4000     \n",
      "Epoch 182/200\n",
      "100/100 [==============================] - 0s - loss: 1.2773 - acc: 0.4000     \n",
      "Epoch 183/200\n",
      "100/100 [==============================] - 0s - loss: 1.2767 - acc: 0.4000     \n",
      "Epoch 184/200\n",
      "100/100 [==============================] - 0s - loss: 1.2756 - acc: 0.4000     \n",
      "Epoch 185/200\n",
      "100/100 [==============================] - 0s - loss: 1.2767 - acc: 0.4000     \n",
      "Epoch 186/200\n",
      "100/100 [==============================] - 0s - loss: 1.2769 - acc: 0.4000     \n",
      "Epoch 187/200\n",
      "100/100 [==============================] - 0s - loss: 1.2761 - acc: 0.4000     \n",
      "Epoch 188/200\n",
      "100/100 [==============================] - 0s - loss: 1.2758 - acc: 0.4000     \n",
      "Epoch 189/200\n",
      "100/100 [==============================] - 0s - loss: 1.2758 - acc: 0.4000     \n",
      "Epoch 190/200\n",
      "100/100 [==============================] - 0s - loss: 1.2753 - acc: 0.4000     \n",
      "Epoch 191/200\n",
      "100/100 [==============================] - 0s - loss: 1.2745 - acc: 0.4000     \n",
      "Epoch 192/200\n",
      "100/100 [==============================] - 0s - loss: 1.2744 - acc: 0.4000     \n",
      "Epoch 193/200\n",
      "100/100 [==============================] - 0s - loss: 1.2746 - acc: 0.4000     \n",
      "Epoch 194/200\n",
      "100/100 [==============================] - 0s - loss: 1.2765 - acc: 0.4000     \n",
      "Epoch 195/200\n",
      "100/100 [==============================] - ETA: 0s - loss: 1.3373 - acc: 0.300 - 0s - loss: 1.2752 - acc: 0.4000     \n",
      "Epoch 196/200\n",
      "100/100 [==============================] - 0s - loss: 1.2754 - acc: 0.4000     \n",
      "Epoch 197/200\n",
      "100/100 [==============================] - 0s - loss: 1.2745 - acc: 0.4000     \n",
      "Epoch 198/200\n",
      "100/100 [==============================] - 0s - loss: 1.2735 - acc: 0.4000     \n",
      "Epoch 199/200\n",
      "100/100 [==============================] - 0s - loss: 1.2734 - acc: 0.4000     \n",
      "Epoch 200/200\n",
      "100/100 [==============================] - 0s - loss: 1.2737 - acc: 0.4000     \n"
     ]
    },
    {
     "data": {
      "text/plain": [
       "<keras.callbacks.History at 0x1860f702780>"
      ]
     },
     "execution_count": 36,
     "metadata": {},
     "output_type": "execute_result"
    }
   ],
   "source": [
    "perce3 = Sequential()\n",
    "perce3.add(Dense(20, input_dim =3, activation='relu'))\n",
    "perce3.add(Dense(5, activation='softmax'))\n",
    "perce3.compile(loss='categorical_crossentropy', optimizer='adam', metrics=['accuracy'])\n",
    "perce3.fit(patterns_train3, dummy_label_train, epochs=200, batch_size=10)"
   ]
  },
  {
   "cell_type": "markdown",
   "metadata": {
    "nbpresent": {
     "id": "82ada0d8-9a00-4f45-89d8-816c38bcc591"
    }
   },
   "source": [
    "##### Single-Layer Perceptron 7 features"
   ]
  },
  {
   "cell_type": "markdown",
   "metadata": {
    "nbpresent": {
     "id": "d481b13c-21a0-4e53-a558-239f1493adc0"
    }
   },
   "source": [
    "The topology of this perceptron is:\n",
    "\n",
    "<center>__7 inputs -> [20 hidden neurons] -> 5 outputs__</center>\n",
    "![7-features perceptron](img/perce7.png)"
   ]
  },
  {
   "cell_type": "code",
   "execution_count": 37,
   "metadata": {
    "nbpresent": {
     "id": "2260a224-0249-4841-91e0-0fc106ae7bd0"
    }
   },
   "outputs": [
    {
     "name": "stdout",
     "output_type": "stream",
     "text": [
      "Epoch 1/200\n",
      "100/100 [==============================] - 0s - loss: 1.9850 - acc: 0.1600     \n",
      "Epoch 2/200\n",
      "100/100 [==============================] - 0s - loss: 1.8828 - acc: 0.1800         \n",
      "Epoch 3/200\n",
      "100/100 [==============================] - 0s - loss: 1.8126 - acc: 0.2100     \n",
      "Epoch 4/200\n",
      "100/100 [==============================] - 0s - loss: 1.7603 - acc: 0.2200     \n",
      "Epoch 5/200\n",
      "100/100 [==============================] - 0s - loss: 1.7283 - acc: 0.2400     \n",
      "Epoch 6/200\n",
      "100/100 [==============================] - 0s - loss: 1.6991 - acc: 0.2500     \n",
      "Epoch 7/200\n",
      "100/100 [==============================] - 0s - loss: 1.6763 - acc: 0.2600     \n",
      "Epoch 8/200\n",
      "100/100 [==============================] - 0s - loss: 1.6584 - acc: 0.2900     \n",
      "Epoch 9/200\n",
      "100/100 [==============================] - 0s - loss: 1.6450 - acc: 0.2800     \n",
      "Epoch 10/200\n",
      "100/100 [==============================] - 0s - loss: 1.6372 - acc: 0.3000     \n",
      "Epoch 11/200\n",
      "100/100 [==============================] - 0s - loss: 1.6248 - acc: 0.3100     \n",
      "Epoch 12/200\n",
      "100/100 [==============================] - 0s - loss: 1.6160 - acc: 0.3100     \n",
      "Epoch 13/200\n",
      "100/100 [==============================] - 0s - loss: 1.6087 - acc: 0.3000     \n",
      "Epoch 14/200\n",
      "100/100 [==============================] - 0s - loss: 1.6027 - acc: 0.3000     \n",
      "Epoch 15/200\n",
      "100/100 [==============================] - 0s - loss: 1.5946 - acc: 0.3200     \n",
      "Epoch 16/200\n",
      "100/100 [==============================] - 0s - loss: 1.5888 - acc: 0.3200     \n",
      "Epoch 17/200\n",
      "100/100 [==============================] - 0s - loss: 1.5834 - acc: 0.3200     \n",
      "Epoch 18/200\n",
      "100/100 [==============================] - 0s - loss: 1.5777 - acc: 0.3200     \n",
      "Epoch 19/200\n",
      "100/100 [==============================] - 0s - loss: 1.5734 - acc: 0.3000     \n",
      "Epoch 20/200\n",
      "100/100 [==============================] - 0s - loss: 1.5674 - acc: 0.3000     \n",
      "Epoch 21/200\n",
      "100/100 [==============================] - 0s - loss: 1.5626 - acc: 0.3100     \n",
      "Epoch 22/200\n",
      "100/100 [==============================] - 0s - loss: 1.5595 - acc: 0.3100     \n",
      "Epoch 23/200\n",
      "100/100 [==============================] - 0s - loss: 1.5544 - acc: 0.2900     \n",
      "Epoch 24/200\n",
      "100/100 [==============================] - 0s - loss: 1.5471 - acc: 0.3100         \n",
      "Epoch 25/200\n",
      "100/100 [==============================] - 0s - loss: 1.5422 - acc: 0.3200     \n",
      "Epoch 26/200\n",
      "100/100 [==============================] - 0s - loss: 1.5388 - acc: 0.3300     \n",
      "Epoch 27/200\n",
      "100/100 [==============================] - 0s - loss: 1.5330 - acc: 0.3500     \n",
      "Epoch 28/200\n",
      "100/100 [==============================] - 0s - loss: 1.5300 - acc: 0.3200     \n",
      "Epoch 29/200\n",
      "100/100 [==============================] - 0s - loss: 1.5254 - acc: 0.3400     \n",
      "Epoch 30/200\n",
      "100/100 [==============================] - 0s - loss: 1.5196 - acc: 0.3400     \n",
      "Epoch 31/200\n",
      "100/100 [==============================] - 0s - loss: 1.5157 - acc: 0.3400     \n",
      "Epoch 32/200\n",
      "100/100 [==============================] - 0s - loss: 1.5135 - acc: 0.3500     \n",
      "Epoch 33/200\n",
      "100/100 [==============================] - 0s - loss: 1.5096 - acc: 0.3600     \n",
      "Epoch 34/200\n",
      "100/100 [==============================] - 0s - loss: 1.5041 - acc: 0.3600     \n",
      "Epoch 35/200\n",
      "100/100 [==============================] - 0s - loss: 1.5016 - acc: 0.3800     \n",
      "Epoch 36/200\n",
      "100/100 [==============================] - 0s - loss: 1.4988 - acc: 0.3800     \n",
      "Epoch 37/200\n",
      "100/100 [==============================] - 0s - loss: 1.4955 - acc: 0.3800     \n",
      "Epoch 38/200\n",
      "100/100 [==============================] - 0s - loss: 1.4913 - acc: 0.3800     \n",
      "Epoch 39/200\n",
      "100/100 [==============================] - 0s - loss: 1.4874 - acc: 0.3800     \n",
      "Epoch 40/200\n",
      "100/100 [==============================] - 0s - loss: 1.4849 - acc: 0.3700     \n",
      "Epoch 41/200\n",
      "100/100 [==============================] - 0s - loss: 1.4826 - acc: 0.3800     \n",
      "Epoch 42/200\n",
      "100/100 [==============================] - 0s - loss: 1.4783 - acc: 0.3800     \n",
      "Epoch 43/200\n",
      "100/100 [==============================] - 0s - loss: 1.4780 - acc: 0.3800     \n",
      "Epoch 44/200\n",
      "100/100 [==============================] - 0s - loss: 1.4749 - acc: 0.3800     \n",
      "Epoch 45/200\n",
      "100/100 [==============================] - 0s - loss: 1.4730 - acc: 0.3800     \n",
      "Epoch 46/200\n",
      "100/100 [==============================] - 0s - loss: 1.4703 - acc: 0.3800     \n",
      "Epoch 47/200\n",
      "100/100 [==============================] - 0s - loss: 1.4675 - acc: 0.3800     \n",
      "Epoch 48/200\n",
      "100/100 [==============================] - 0s - loss: 1.4653 - acc: 0.3800     \n",
      "Epoch 49/200\n",
      "100/100 [==============================] - 0s - loss: 1.4620 - acc: 0.3800     \n",
      "Epoch 50/200\n",
      "100/100 [==============================] - 0s - loss: 1.4603 - acc: 0.3700     \n",
      "Epoch 51/200\n",
      "100/100 [==============================] - 0s - loss: 1.4612 - acc: 0.3700     \n",
      "Epoch 52/200\n",
      "100/100 [==============================] - 0s - loss: 1.4562 - acc: 0.3700     \n",
      "Epoch 53/200\n",
      "100/100 [==============================] - 0s - loss: 1.4541 - acc: 0.3700     \n",
      "Epoch 54/200\n",
      "100/100 [==============================] - 0s - loss: 1.4519 - acc: 0.3700     \n",
      "Epoch 55/200\n",
      "100/100 [==============================] - 0s - loss: 1.4504 - acc: 0.3700     \n",
      "Epoch 56/200\n",
      "100/100 [==============================] - 0s - loss: 1.4492 - acc: 0.3700     \n",
      "Epoch 57/200\n",
      "100/100 [==============================] - 0s - loss: 1.4474 - acc: 0.3800     \n",
      "Epoch 58/200\n",
      "100/100 [==============================] - 0s - loss: 1.4448 - acc: 0.3700     \n",
      "Epoch 59/200\n",
      "100/100 [==============================] - 0s - loss: 1.4430 - acc: 0.3700     \n",
      "Epoch 60/200\n",
      "100/100 [==============================] - 0s - loss: 1.4405 - acc: 0.3700     \n",
      "Epoch 61/200\n",
      "100/100 [==============================] - 0s - loss: 1.4419 - acc: 0.3700     \n",
      "Epoch 62/200\n",
      "100/100 [==============================] - 0s - loss: 1.4381 - acc: 0.3700     \n",
      "Epoch 63/200\n",
      "100/100 [==============================] - 0s - loss: 1.4357 - acc: 0.3800         \n",
      "Epoch 64/200\n",
      "100/100 [==============================] - 0s - loss: 1.4348 - acc: 0.3800     \n",
      "Epoch 65/200\n",
      "100/100 [==============================] - 0s - loss: 1.4315 - acc: 0.3800     \n",
      "Epoch 66/200\n",
      "100/100 [==============================] - 0s - loss: 1.4294 - acc: 0.3800     \n",
      "Epoch 67/200\n",
      "100/100 [==============================] - 0s - loss: 1.4286 - acc: 0.3600     \n",
      "Epoch 68/200\n",
      "100/100 [==============================] - 0s - loss: 1.4265 - acc: 0.3600     \n",
      "Epoch 69/200\n",
      "100/100 [==============================] - 0s - loss: 1.4262 - acc: 0.3600     \n",
      "Epoch 70/200\n",
      "100/100 [==============================] - 0s - loss: 1.4233 - acc: 0.3800     \n",
      "Epoch 71/200\n",
      "100/100 [==============================] - 0s - loss: 1.4227 - acc: 0.3800     \n",
      "Epoch 72/200\n",
      "100/100 [==============================] - 0s - loss: 1.4202 - acc: 0.3700     \n",
      "Epoch 73/200\n",
      "100/100 [==============================] - 0s - loss: 1.4189 - acc: 0.3800     \n",
      "Epoch 74/200\n",
      "100/100 [==============================] - 0s - loss: 1.4162 - acc: 0.3800     \n",
      "Epoch 75/200\n",
      "100/100 [==============================] - 0s - loss: 1.4152 - acc: 0.3700     \n",
      "Epoch 76/200\n",
      "100/100 [==============================] - 0s - loss: 1.4155 - acc: 0.3600     \n",
      "Epoch 77/200\n",
      "100/100 [==============================] - 0s - loss: 1.4112 - acc: 0.3700     \n",
      "Epoch 78/200\n",
      "100/100 [==============================] - 0s - loss: 1.4102 - acc: 0.3800     \n",
      "Epoch 79/200\n",
      "100/100 [==============================] - 0s - loss: 1.4087 - acc: 0.3700     \n",
      "Epoch 80/200\n",
      "100/100 [==============================] - 0s - loss: 1.4070 - acc: 0.3800     \n",
      "Epoch 81/200\n",
      "100/100 [==============================] - 0s - loss: 1.4045 - acc: 0.3800     \n",
      "Epoch 82/200\n",
      "100/100 [==============================] - 0s - loss: 1.4056 - acc: 0.3800     \n",
      "Epoch 83/200\n",
      "100/100 [==============================] - 0s - loss: 1.4016 - acc: 0.3800     \n",
      "Epoch 84/200\n",
      "100/100 [==============================] - 0s - loss: 1.4007 - acc: 0.3900     \n",
      "Epoch 85/200\n",
      "100/100 [==============================] - 0s - loss: 1.3989 - acc: 0.3700     \n",
      "Epoch 86/200\n",
      "100/100 [==============================] - 0s - loss: 1.3994 - acc: 0.3900     \n",
      "Epoch 87/200\n",
      "100/100 [==============================] - 0s - loss: 1.3970 - acc: 0.3800     \n",
      "Epoch 88/200\n",
      "100/100 [==============================] - 0s - loss: 1.3938 - acc: 0.3800     \n",
      "Epoch 89/200\n"
     ]
    },
    {
     "name": "stdout",
     "output_type": "stream",
     "text": [
      "100/100 [==============================] - 0s - loss: 1.3926 - acc: 0.3800         \n",
      "Epoch 90/200\n",
      "100/100 [==============================] - 0s - loss: 1.3913 - acc: 0.3800     \n",
      "Epoch 91/200\n",
      "100/100 [==============================] - 0s - loss: 1.3893 - acc: 0.4000     \n",
      "Epoch 92/200\n",
      "100/100 [==============================] - 0s - loss: 1.3882 - acc: 0.4000     \n",
      "Epoch 93/200\n",
      "100/100 [==============================] - 0s - loss: 1.3856 - acc: 0.4000     \n",
      "Epoch 94/200\n",
      "100/100 [==============================] - 0s - loss: 1.3837 - acc: 0.3800     \n",
      "Epoch 95/200\n",
      "100/100 [==============================] - 0s - loss: 1.3829 - acc: 0.4100     \n",
      "Epoch 96/200\n",
      "100/100 [==============================] - 0s - loss: 1.3817 - acc: 0.4100     \n",
      "Epoch 97/200\n",
      "100/100 [==============================] - 0s - loss: 1.3825 - acc: 0.4000     \n",
      "Epoch 98/200\n",
      "100/100 [==============================] - 0s - loss: 1.3794 - acc: 0.4000     \n",
      "Epoch 99/200\n",
      "100/100 [==============================] - 0s - loss: 1.3772 - acc: 0.3900     \n",
      "Epoch 100/200\n",
      "100/100 [==============================] - 0s - loss: 1.3771 - acc: 0.4000     \n",
      "Epoch 101/200\n",
      "100/100 [==============================] - 0s - loss: 1.3765 - acc: 0.4000     \n",
      "Epoch 102/200\n",
      "100/100 [==============================] - 0s - loss: 1.3734 - acc: 0.4300     \n",
      "Epoch 103/200\n",
      "100/100 [==============================] - 0s - loss: 1.3720 - acc: 0.4300     \n",
      "Epoch 104/200\n",
      "100/100 [==============================] - 0s - loss: 1.3707 - acc: 0.4300     \n",
      "Epoch 105/200\n",
      "100/100 [==============================] - 0s - loss: 1.3705 - acc: 0.4100     \n",
      "Epoch 106/200\n",
      "100/100 [==============================] - 0s - loss: 1.3675 - acc: 0.4100     \n",
      "Epoch 107/200\n",
      "100/100 [==============================] - 0s - loss: 1.3656 - acc: 0.4400     \n",
      "Epoch 108/200\n",
      "100/100 [==============================] - 0s - loss: 1.3644 - acc: 0.4300     \n",
      "Epoch 109/200\n",
      "100/100 [==============================] - 0s - loss: 1.3633 - acc: 0.4400     \n",
      "Epoch 110/200\n",
      "100/100 [==============================] - 0s - loss: 1.3609 - acc: 0.4500     \n",
      "Epoch 111/200\n",
      "100/100 [==============================] - 0s - loss: 1.3598 - acc: 0.4200     \n",
      "Epoch 112/200\n",
      "100/100 [==============================] - ETA: 0s - loss: 1.3127 - acc: 0.511 - 0s - loss: 1.3608 - acc: 0.4600     \n",
      "Epoch 113/200\n",
      "100/100 [==============================] - 0s - loss: 1.3579 - acc: 0.4400     \n",
      "Epoch 114/200\n",
      "100/100 [==============================] - 0s - loss: 1.3563 - acc: 0.4400     \n",
      "Epoch 115/200\n",
      "100/100 [==============================] - 0s - loss: 1.3544 - acc: 0.4500     \n",
      "Epoch 116/200\n",
      "100/100 [==============================] - 0s - loss: 1.3535 - acc: 0.4400     \n",
      "Epoch 117/200\n",
      "100/100 [==============================] - 0s - loss: 1.3519 - acc: 0.4400     \n",
      "Epoch 118/200\n",
      "100/100 [==============================] - 0s - loss: 1.3520 - acc: 0.4300     \n",
      "Epoch 119/200\n",
      "100/100 [==============================] - 0s - loss: 1.3485 - acc: 0.4400     \n",
      "Epoch 120/200\n",
      "100/100 [==============================] - 0s - loss: 1.3496 - acc: 0.4500     \n",
      "Epoch 121/200\n",
      "100/100 [==============================] - 0s - loss: 1.3461 - acc: 0.4300     \n",
      "Epoch 122/200\n",
      "100/100 [==============================] - 0s - loss: 1.3449 - acc: 0.4300     \n",
      "Epoch 123/200\n",
      "100/100 [==============================] - 0s - loss: 1.3439 - acc: 0.4300     \n",
      "Epoch 124/200\n",
      "100/100 [==============================] - 0s - loss: 1.3439 - acc: 0.4400     \n",
      "Epoch 125/200\n",
      "100/100 [==============================] - 0s - loss: 1.3405 - acc: 0.4500     \n",
      "Epoch 126/200\n",
      "100/100 [==============================] - 0s - loss: 1.3390 - acc: 0.4600     \n",
      "Epoch 127/200\n",
      "100/100 [==============================] - 0s - loss: 1.3379 - acc: 0.4400     \n",
      "Epoch 128/200\n",
      "100/100 [==============================] - 0s - loss: 1.3380 - acc: 0.4700     \n",
      "Epoch 129/200\n",
      "100/100 [==============================] - 0s - loss: 1.3358 - acc: 0.4700     \n",
      "Epoch 130/200\n",
      "100/100 [==============================] - 0s - loss: 1.3357 - acc: 0.4400     \n",
      "Epoch 131/200\n",
      "100/100 [==============================] - 0s - loss: 1.3325 - acc: 0.4300     \n",
      "Epoch 132/200\n",
      "100/100 [==============================] - 0s - loss: 1.3313 - acc: 0.4400     \n",
      "Epoch 133/200\n",
      "100/100 [==============================] - 0s - loss: 1.3306 - acc: 0.4400     \n",
      "Epoch 134/200\n",
      "100/100 [==============================] - 0s - loss: 1.3278 - acc: 0.4400     \n",
      "Epoch 135/200\n",
      "100/100 [==============================] - 0s - loss: 1.3293 - acc: 0.4300     \n",
      "Epoch 136/200\n",
      "100/100 [==============================] - 0s - loss: 1.3282 - acc: 0.4600     \n",
      "Epoch 137/200\n",
      "100/100 [==============================] - 0s - loss: 1.3248 - acc: 0.4600     \n",
      "Epoch 138/200\n",
      "100/100 [==============================] - 0s - loss: 1.3230 - acc: 0.4600     \n",
      "Epoch 139/200\n",
      "100/100 [==============================] - 0s - loss: 1.3217 - acc: 0.4500     \n",
      "Epoch 140/200\n",
      "100/100 [==============================] - 0s - loss: 1.3205 - acc: 0.4500     \n",
      "Epoch 141/200\n",
      "100/100 [==============================] - 0s - loss: 1.3206 - acc: 0.4500     \n",
      "Epoch 142/200\n",
      "100/100 [==============================] - 0s - loss: 1.3180 - acc: 0.4500     \n",
      "Epoch 143/200\n",
      "100/100 [==============================] - 0s - loss: 1.3163 - acc: 0.4700     \n",
      "Epoch 144/200\n",
      "100/100 [==============================] - 0s - loss: 1.3149 - acc: 0.4600     \n",
      "Epoch 145/200\n",
      "100/100 [==============================] - 0s - loss: 1.3146 - acc: 0.4600     \n",
      "Epoch 146/200\n",
      "100/100 [==============================] - 0s - loss: 1.3116 - acc: 0.4500     \n",
      "Epoch 147/200\n",
      "100/100 [==============================] - 0s - loss: 1.3103 - acc: 0.4600     \n",
      "Epoch 148/200\n",
      "100/100 [==============================] - 0s - loss: 1.3091 - acc: 0.4500     \n",
      "Epoch 149/200\n",
      "100/100 [==============================] - 0s - loss: 1.3081 - acc: 0.4700     \n",
      "Epoch 150/200\n",
      "100/100 [==============================] - 0s - loss: 1.3071 - acc: 0.4600     \n",
      "Epoch 151/200\n",
      "100/100 [==============================] - 0s - loss: 1.3068 - acc: 0.4700     \n",
      "Epoch 152/200\n",
      "100/100 [==============================] - 0s - loss: 1.3058 - acc: 0.4800     \n",
      "Epoch 153/200\n",
      "100/100 [==============================] - 0s - loss: 1.3023 - acc: 0.4600     \n",
      "Epoch 154/200\n",
      "100/100 [==============================] - 0s - loss: 1.3016 - acc: 0.4800     \n",
      "Epoch 155/200\n",
      "100/100 [==============================] - 0s - loss: 1.3016 - acc: 0.4900     \n",
      "Epoch 156/200\n",
      "100/100 [==============================] - 0s - loss: 1.2989 - acc: 0.4900     \n",
      "Epoch 157/200\n",
      "100/100 [==============================] - 0s - loss: 1.2990 - acc: 0.4800     \n",
      "Epoch 158/200\n",
      "100/100 [==============================] - 0s - loss: 1.2969 - acc: 0.4800     \n",
      "Epoch 159/200\n",
      "100/100 [==============================] - 0s - loss: 1.2954 - acc: 0.4900     \n",
      "Epoch 160/200\n",
      "100/100 [==============================] - 0s - loss: 1.2947 - acc: 0.4900     \n",
      "Epoch 161/200\n",
      "100/100 [==============================] - 0s - loss: 1.2918 - acc: 0.5000     \n",
      "Epoch 162/200\n",
      "100/100 [==============================] - 0s - loss: 1.2920 - acc: 0.5100     \n",
      "Epoch 163/200\n",
      "100/100 [==============================] - 0s - loss: 1.2891 - acc: 0.4900     \n",
      "Epoch 164/200\n",
      "100/100 [==============================] - 0s - loss: 1.2891 - acc: 0.5000     \n",
      "Epoch 165/200\n",
      "100/100 [==============================] - 0s - loss: 1.2862 - acc: 0.5000     \n",
      "Epoch 166/200\n",
      "100/100 [==============================] - 0s - loss: 1.2860 - acc: 0.4900     \n",
      "Epoch 167/200\n",
      "100/100 [==============================] - 0s - loss: 1.2841 - acc: 0.4900     \n",
      "Epoch 168/200\n",
      "100/100 [==============================] - 0s - loss: 1.2841 - acc: 0.5000     \n",
      "Epoch 169/200\n",
      "100/100 [==============================] - 0s - loss: 1.2828 - acc: 0.4900     \n",
      "Epoch 170/200\n",
      "100/100 [==============================] - 0s - loss: 1.2801 - acc: 0.5000     \n",
      "Epoch 171/200\n",
      "100/100 [==============================] - 0s - loss: 1.2785 - acc: 0.5000     \n",
      "Epoch 172/200\n",
      "100/100 [==============================] - 0s - loss: 1.2797 - acc: 0.5100     \n",
      "Epoch 173/200\n",
      "100/100 [==============================] - 0s - loss: 1.2766 - acc: 0.5200     \n",
      "Epoch 174/200\n",
      "100/100 [==============================] - 0s - loss: 1.2753 - acc: 0.5200     \n",
      "Epoch 175/200\n",
      "100/100 [==============================] - 0s - loss: 1.2738 - acc: 0.5100     \n",
      "Epoch 176/200\n",
      "100/100 [==============================] - 0s - loss: 1.2739 - acc: 0.5100     \n",
      "Epoch 177/200\n",
      "100/100 [==============================] - 0s - loss: 1.2712 - acc: 0.5100     \n",
      "Epoch 178/200\n",
      "100/100 [==============================] - 0s - loss: 1.2709 - acc: 0.5200     \n",
      "Epoch 179/200\n",
      "100/100 [==============================] - 0s - loss: 1.2704 - acc: 0.5200     \n",
      "Epoch 180/200\n",
      "100/100 [==============================] - 0s - loss: 1.2701 - acc: 0.5000     \n",
      "Epoch 181/200\n",
      "100/100 [==============================] - 0s - loss: 1.2670 - acc: 0.5200     \n",
      "Epoch 182/200\n",
      "100/100 [==============================] - 0s - loss: 1.2650 - acc: 0.5300     \n",
      "Epoch 183/200\n",
      "100/100 [==============================] - 0s - loss: 1.2637 - acc: 0.5000     \n",
      "Epoch 184/200\n",
      "100/100 [==============================] - 0s - loss: 1.2618 - acc: 0.5000     \n",
      "Epoch 185/200\n",
      "100/100 [==============================] - 0s - loss: 1.2610 - acc: 0.5000     \n",
      "Epoch 186/200\n",
      "100/100 [==============================] - 0s - loss: 1.2597 - acc: 0.5000     \n",
      "Epoch 187/200\n",
      "100/100 [==============================] - 0s - loss: 1.2587 - acc: 0.5100     \n",
      "Epoch 188/200\n",
      "100/100 [==============================] - 0s - loss: 1.2567 - acc: 0.5100     \n",
      "Epoch 189/200\n",
      "100/100 [==============================] - 0s - loss: 1.2571 - acc: 0.5200     \n",
      "Epoch 190/200\n",
      "100/100 [==============================] - 0s - loss: 1.2556 - acc: 0.5300     \n",
      "Epoch 191/200\n",
      "100/100 [==============================] - 0s - loss: 1.2533 - acc: 0.5200     \n",
      "Epoch 192/200\n",
      "100/100 [==============================] - 0s - loss: 1.2524 - acc: 0.5100     \n",
      "Epoch 193/200\n",
      "100/100 [==============================] - 0s - loss: 1.2504 - acc: 0.5000     \n",
      "Epoch 194/200\n",
      "100/100 [==============================] - 0s - loss: 1.2500 - acc: 0.5300     \n",
      "Epoch 195/200\n",
      "100/100 [==============================] - 0s - loss: 1.2492 - acc: 0.5100     \n",
      "Epoch 196/200\n",
      "100/100 [==============================] - 0s - loss: 1.2470 - acc: 0.5300     \n",
      "Epoch 197/200\n",
      "100/100 [==============================] - 0s - loss: 1.2453 - acc: 0.5400     \n",
      "Epoch 198/200\n",
      "100/100 [==============================] - 0s - loss: 1.2449 - acc: 0.5200     \n",
      "Epoch 199/200\n",
      "100/100 [==============================] - 0s - loss: 1.2430 - acc: 0.5300     \n",
      "Epoch 200/200\n",
      "100/100 [==============================] - 0s - loss: 1.2426 - acc: 0.5200     \n"
     ]
    },
    {
     "data": {
      "text/plain": [
       "<keras.callbacks.History at 0x1860fa51668>"
      ]
     },
     "execution_count": 37,
     "metadata": {},
     "output_type": "execute_result"
    }
   ],
   "source": [
    "perce7 = Sequential()\n",
    "perce7.add(Dense(20, input_dim =7, activation='relu'))\n",
    "perce7.add(Dense(5, activation='softmax'))\n",
    "perce7.compile(loss='categorical_crossentropy', optimizer='adam', metrics=['accuracy'])\n",
    "perce7.fit(patterns_train7, dummy_label_train, epochs=200, batch_size=10)"
   ]
  },
  {
   "cell_type": "markdown",
   "metadata": {
    "nbpresent": {
     "id": "41388533-da64-4632-acc2-ddd059fc39d0"
    }
   },
   "source": [
    "##### Single-Layer Perceptron 10 features"
   ]
  },
  {
   "cell_type": "markdown",
   "metadata": {
    "nbpresent": {
     "id": "74ad119f-2a73-4523-b938-bd63e9945d04"
    }
   },
   "source": [
    "The topology of this perceptron is:\n",
    "\n",
    "<center>__10 inputs -> [20 hidden neurons] -> 5 outputs__</center>\n",
    "![10-features perceptron](img/perce10.png)"
   ]
  },
  {
   "cell_type": "code",
   "execution_count": 38,
   "metadata": {
    "nbpresent": {
     "id": "8abc9ee5-cec4-48c5-83c0-d2056035a1de"
    }
   },
   "outputs": [
    {
     "name": "stdout",
     "output_type": "stream",
     "text": [
      "Epoch 1/200\n",
      "100/100 [==============================] - 1s - loss: 2.5268 - acc: 0.2300     \n",
      "Epoch 2/200\n",
      "100/100 [==============================] - 0s - loss: 2.2244 - acc: 0.2200     \n",
      "Epoch 3/200\n",
      "100/100 [==============================] - 0s - loss: 2.0394 - acc: 0.2600     \n",
      "Epoch 4/200\n",
      "100/100 [==============================] - 0s - loss: 1.9232 - acc: 0.2500     \n",
      "Epoch 5/200\n",
      "100/100 [==============================] - 0s - loss: 1.8555 - acc: 0.2300     \n",
      "Epoch 6/200\n",
      "100/100 [==============================] - 0s - loss: 1.8200 - acc: 0.2100     \n",
      "Epoch 7/200\n",
      "100/100 [==============================] - 0s - loss: 1.8006 - acc: 0.2100     \n",
      "Epoch 8/200\n",
      "100/100 [==============================] - 0s - loss: 1.7738 - acc: 0.2200     \n",
      "Epoch 9/200\n",
      "100/100 [==============================] - 0s - loss: 1.7561 - acc: 0.2300     \n",
      "Epoch 10/200\n",
      "100/100 [==============================] - 0s - loss: 1.7387 - acc: 0.2100     \n",
      "Epoch 11/200\n",
      "100/100 [==============================] - 0s - loss: 1.7168 - acc: 0.2200     \n",
      "Epoch 12/200\n",
      "100/100 [==============================] - 0s - loss: 1.6998 - acc: 0.2200     \n",
      "Epoch 13/200\n",
      "100/100 [==============================] - 0s - loss: 1.6828 - acc: 0.2500        \n",
      "Epoch 14/200\n",
      "100/100 [==============================] - 0s - loss: 1.6699 - acc: 0.2700     \n",
      "Epoch 15/200\n",
      "100/100 [==============================] - 0s - loss: 1.6521 - acc: 0.2800     \n",
      "Epoch 16/200\n",
      "100/100 [==============================] - 0s - loss: 1.6392 - acc: 0.2700     \n",
      "Epoch 17/200\n",
      "100/100 [==============================] - 0s - loss: 1.6269 - acc: 0.2800     \n",
      "Epoch 18/200\n",
      "100/100 [==============================] - 0s - loss: 1.6166 - acc: 0.2700     \n",
      "Epoch 19/200\n",
      "100/100 [==============================] - 0s - loss: 1.6071 - acc: 0.2800     \n",
      "Epoch 20/200\n",
      "100/100 [==============================] - 0s - loss: 1.5976 - acc: 0.2800     \n",
      "Epoch 21/200\n",
      "100/100 [==============================] - 0s - loss: 1.5888 - acc: 0.2800     \n",
      "Epoch 22/200\n",
      "100/100 [==============================] - 0s - loss: 1.5795 - acc: 0.2800     \n",
      "Epoch 23/200\n",
      "100/100 [==============================] - 0s - loss: 1.5676 - acc: 0.2800     \n",
      "Epoch 24/200\n",
      "100/100 [==============================] - 0s - loss: 1.5603 - acc: 0.2900     \n",
      "Epoch 25/200\n",
      "100/100 [==============================] - 0s - loss: 1.5469 - acc: 0.3100     \n",
      "Epoch 26/200\n",
      "100/100 [==============================] - 0s - loss: 1.5421 - acc: 0.3100     \n",
      "Epoch 27/200\n",
      "100/100 [==============================] - 0s - loss: 1.5308 - acc: 0.3200     \n",
      "Epoch 28/200\n",
      "100/100 [==============================] - 0s - loss: 1.5234 - acc: 0.3200     \n",
      "Epoch 29/200\n",
      "100/100 [==============================] - 0s - loss: 1.5188 - acc: 0.3300     \n",
      "Epoch 30/200\n",
      "100/100 [==============================] - 0s - loss: 1.5074 - acc: 0.3500     \n",
      "Epoch 31/200\n",
      "100/100 [==============================] - 0s - loss: 1.4962 - acc: 0.3200     \n",
      "Epoch 32/200\n",
      "100/100 [==============================] - 0s - loss: 1.4876 - acc: 0.3600     \n",
      "Epoch 33/200\n",
      "100/100 [==============================] - 0s - loss: 1.4766 - acc: 0.3600     \n",
      "Epoch 34/200\n",
      "100/100 [==============================] - 0s - loss: 1.4671 - acc: 0.3500     \n",
      "Epoch 35/200\n",
      "100/100 [==============================] - 0s - loss: 1.4595 - acc: 0.3600     \n",
      "Epoch 36/200\n",
      "100/100 [==============================] - 0s - loss: 1.4517 - acc: 0.3800     \n",
      "Epoch 37/200\n",
      "100/100 [==============================] - 0s - loss: 1.4416 - acc: 0.3900     \n",
      "Epoch 38/200\n",
      "100/100 [==============================] - 0s - loss: 1.4361 - acc: 0.4100     \n",
      "Epoch 39/200\n",
      "100/100 [==============================] - 0s - loss: 1.4282 - acc: 0.3900     \n",
      "Epoch 40/200\n",
      "100/100 [==============================] - 0s - loss: 1.4197 - acc: 0.4300     \n",
      "Epoch 41/200\n",
      "100/100 [==============================] - 0s - loss: 1.4098 - acc: 0.4200     \n",
      "Epoch 42/200\n",
      "100/100 [==============================] - 0s - loss: 1.4038 - acc: 0.4400     \n",
      "Epoch 43/200\n",
      "100/100 [==============================] - 0s - loss: 1.3988 - acc: 0.4300     \n",
      "Epoch 44/200\n",
      "100/100 [==============================] - 0s - loss: 1.3962 - acc: 0.4200     \n",
      "Epoch 45/200\n",
      "100/100 [==============================] - 0s - loss: 1.3852 - acc: 0.4200     \n",
      "Epoch 46/200\n",
      "100/100 [==============================] - 0s - loss: 1.3739 - acc: 0.4200     \n",
      "Epoch 47/200\n",
      "100/100 [==============================] - 0s - loss: 1.3703 - acc: 0.4100     \n",
      "Epoch 48/200\n",
      "100/100 [==============================] - 0s - loss: 1.3591 - acc: 0.4100     \n",
      "Epoch 49/200\n",
      "100/100 [==============================] - 0s - loss: 1.3528 - acc: 0.4200     \n",
      "Epoch 50/200\n",
      "100/100 [==============================] - 0s - loss: 1.3461 - acc: 0.4300     \n",
      "Epoch 51/200\n",
      "100/100 [==============================] - 0s - loss: 1.3378 - acc: 0.4200     \n",
      "Epoch 52/200\n",
      "100/100 [==============================] - 0s - loss: 1.3339 - acc: 0.4200     \n",
      "Epoch 53/200\n",
      "100/100 [==============================] - 0s - loss: 1.3295 - acc: 0.4300     \n",
      "Epoch 54/200\n",
      "100/100 [==============================] - 0s - loss: 1.3240 - acc: 0.4300     \n",
      "Epoch 55/200\n",
      "100/100 [==============================] - 0s - loss: 1.3173 - acc: 0.4300     \n",
      "Epoch 56/200\n",
      "100/100 [==============================] - 0s - loss: 1.3102 - acc: 0.4500     \n",
      "Epoch 57/200\n",
      "100/100 [==============================] - 0s - loss: 1.3052 - acc: 0.4400     \n",
      "Epoch 58/200\n",
      "100/100 [==============================] - 0s - loss: 1.2999 - acc: 0.4400     \n",
      "Epoch 59/200\n",
      "100/100 [==============================] - 0s - loss: 1.2935 - acc: 0.4400     \n",
      "Epoch 60/200\n",
      "100/100 [==============================] - 0s - loss: 1.2901 - acc: 0.4400     \n",
      "Epoch 61/200\n",
      "100/100 [==============================] - 0s - loss: 1.2864 - acc: 0.4500     \n",
      "Epoch 62/200\n",
      "100/100 [==============================] - 0s - loss: 1.2872 - acc: 0.4400     \n",
      "Epoch 63/200\n",
      "100/100 [==============================] - 0s - loss: 1.2754 - acc: 0.4600     \n",
      "Epoch 64/200\n",
      "100/100 [==============================] - 0s - loss: 1.2713 - acc: 0.4600     \n",
      "Epoch 65/200\n",
      "100/100 [==============================] - 0s - loss: 1.2674 - acc: 0.4600     \n",
      "Epoch 66/200\n",
      "100/100 [==============================] - 0s - loss: 1.2631 - acc: 0.4700     \n",
      "Epoch 67/200\n",
      "100/100 [==============================] - 0s - loss: 1.2601 - acc: 0.4700     \n",
      "Epoch 68/200\n",
      "100/100 [==============================] - 0s - loss: 1.2552 - acc: 0.4500     \n",
      "Epoch 69/200\n",
      "100/100 [==============================] - 0s - loss: 1.2529 - acc: 0.4700     \n",
      "Epoch 70/200\n",
      "100/100 [==============================] - 0s - loss: 1.2475 - acc: 0.4800     \n",
      "Epoch 71/200\n",
      "100/100 [==============================] - 0s - loss: 1.2437 - acc: 0.4700     \n",
      "Epoch 72/200\n",
      "100/100 [==============================] - 0s - loss: 1.2398 - acc: 0.4700     \n",
      "Epoch 73/200\n",
      "100/100 [==============================] - 0s - loss: 1.2374 - acc: 0.4800     \n",
      "Epoch 74/200\n",
      "100/100 [==============================] - 0s - loss: 1.2326 - acc: 0.4900     \n",
      "Epoch 75/200\n",
      "100/100 [==============================] - 0s - loss: 1.2316 - acc: 0.4700     \n",
      "Epoch 76/200\n",
      "100/100 [==============================] - 0s - loss: 1.2277 - acc: 0.4800     \n",
      "Epoch 77/200\n",
      "100/100 [==============================] - 0s - loss: 1.2290 - acc: 0.4600     \n",
      "Epoch 78/200\n",
      "100/100 [==============================] - 0s - loss: 1.2192 - acc: 0.4600     \n",
      "Epoch 79/200\n",
      "100/100 [==============================] - 0s - loss: 1.2161 - acc: 0.4700     \n",
      "Epoch 80/200\n",
      "100/100 [==============================] - 0s - loss: 1.2135 - acc: 0.4600     \n",
      "Epoch 81/200\n",
      "100/100 [==============================] - 0s - loss: 1.2126 - acc: 0.4800     \n",
      "Epoch 82/200\n",
      "100/100 [==============================] - 0s - loss: 1.2078 - acc: 0.4800     \n",
      "Epoch 83/200\n",
      "100/100 [==============================] - 0s - loss: 1.2073 - acc: 0.4800     \n",
      "Epoch 84/200\n",
      "100/100 [==============================] - 0s - loss: 1.2010 - acc: 0.4900     \n",
      "Epoch 85/200\n",
      "100/100 [==============================] - 0s - loss: 1.1975 - acc: 0.4800     \n",
      "Epoch 86/200\n",
      "100/100 [==============================] - 0s - loss: 1.1956 - acc: 0.5100     \n",
      "Epoch 87/200\n",
      "100/100 [==============================] - 0s - loss: 1.1944 - acc: 0.5100     \n",
      "Epoch 88/200\n",
      "100/100 [==============================] - 0s - loss: 1.1901 - acc: 0.4800     \n",
      "Epoch 89/200\n",
      "100/100 [==============================] - 0s - loss: 1.1870 - acc: 0.4900     \n",
      "Epoch 90/200\n",
      "100/100 [==============================] - 0s - loss: 1.1863 - acc: 0.5000     \n",
      "Epoch 91/200\n",
      "100/100 [==============================] - 0s - loss: 1.1826 - acc: 0.5100     \n",
      "Epoch 92/200\n",
      "100/100 [==============================] - 0s - loss: 1.1834 - acc: 0.4900     \n",
      "Epoch 93/200\n",
      "100/100 [==============================] - 0s - loss: 1.1762 - acc: 0.5000     \n",
      "Epoch 94/200\n",
      "100/100 [==============================] - 0s - loss: 1.1751 - acc: 0.5100     \n",
      "Epoch 95/200\n",
      "100/100 [==============================] - 0s - loss: 1.1711 - acc: 0.5100     \n",
      "Epoch 96/200\n",
      "100/100 [==============================] - 0s - loss: 1.1700 - acc: 0.5200     \n",
      "Epoch 97/200\n",
      "100/100 [==============================] - 0s - loss: 1.1670 - acc: 0.5200     \n",
      "Epoch 98/200\n",
      "100/100 [==============================] - 0s - loss: 1.1653 - acc: 0.5200     \n",
      "Epoch 99/200\n",
      "100/100 [==============================] - 0s - loss: 1.1635 - acc: 0.5200     \n",
      "Epoch 100/200\n",
      "100/100 [==============================] - 0s - loss: 1.1614 - acc: 0.5100     \n",
      "Epoch 101/200\n",
      "100/100 [==============================] - 0s - loss: 1.1591 - acc: 0.5300     \n",
      "Epoch 102/200\n",
      "100/100 [==============================] - 0s - loss: 1.1586 - acc: 0.5200     \n",
      "Epoch 103/200\n",
      "100/100 [==============================] - 0s - loss: 1.1575 - acc: 0.5300     \n",
      "Epoch 104/200\n",
      "100/100 [==============================] - 0s - loss: 1.1570 - acc: 0.5100     \n",
      "Epoch 105/200\n",
      "100/100 [==============================] - 0s - loss: 1.1498 - acc: 0.5300     \n",
      "Epoch 106/200\n",
      "100/100 [==============================] - 0s - loss: 1.1490 - acc: 0.5400     \n",
      "Epoch 107/200\n",
      "100/100 [==============================] - 0s - loss: 1.1476 - acc: 0.5100     \n",
      "Epoch 108/200\n",
      "100/100 [==============================] - ETA: 0s - loss: 1.3657 - acc: 0.300 - 0s - loss: 1.1454 - acc: 0.5200     \n",
      "Epoch 109/200\n",
      "100/100 [==============================] - 0s - loss: 1.1423 - acc: 0.5400     \n",
      "Epoch 110/200\n",
      "100/100 [==============================] - 0s - loss: 1.1393 - acc: 0.5200     \n",
      "Epoch 111/200\n",
      "100/100 [==============================] - 0s - loss: 1.1423 - acc: 0.5500     \n",
      "Epoch 112/200\n",
      "100/100 [==============================] - 0s - loss: 1.1375 - acc: 0.5500     \n",
      "Epoch 113/200\n",
      "100/100 [==============================] - 0s - loss: 1.1352 - acc: 0.5200     \n",
      "Epoch 114/200\n",
      "100/100 [==============================] - 0s - loss: 1.1351 - acc: 0.5400     \n",
      "Epoch 115/200\n",
      "100/100 [==============================] - 0s - loss: 1.1326 - acc: 0.5600     \n",
      "Epoch 116/200\n",
      "100/100 [==============================] - 0s - loss: 1.1325 - acc: 0.5300     \n",
      "Epoch 117/200\n",
      "100/100 [==============================] - 0s - loss: 1.1281 - acc: 0.5300     \n",
      "Epoch 118/200\n",
      "100/100 [==============================] - 0s - loss: 1.1267 - acc: 0.5500     \n",
      "Epoch 119/200\n",
      "100/100 [==============================] - 0s - loss: 1.1247 - acc: 0.5400     \n",
      "Epoch 120/200\n",
      "100/100 [==============================] - 0s - loss: 1.1208 - acc: 0.5500     \n",
      "Epoch 121/200\n",
      "100/100 [==============================] - 0s - loss: 1.1200 - acc: 0.5400     \n",
      "Epoch 122/200\n",
      "100/100 [==============================] - 0s - loss: 1.1179 - acc: 0.5400     \n",
      "Epoch 123/200\n",
      "100/100 [==============================] - 0s - loss: 1.1156 - acc: 0.5500     \n",
      "Epoch 124/200\n",
      "100/100 [==============================] - 0s - loss: 1.1219 - acc: 0.5300     \n",
      "Epoch 125/200\n",
      "100/100 [==============================] - 0s - loss: 1.1133 - acc: 0.5300     \n",
      "Epoch 126/200\n",
      "100/100 [==============================] - 0s - loss: 1.1144 - acc: 0.5400     \n",
      "Epoch 127/200\n",
      "100/100 [==============================] - 0s - loss: 1.1099 - acc: 0.5400     \n",
      "Epoch 128/200\n",
      "100/100 [==============================] - 0s - loss: 1.1107 - acc: 0.5300     \n",
      "Epoch 129/200\n",
      "100/100 [==============================] - 0s - loss: 1.1097 - acc: 0.5400     \n",
      "Epoch 130/200\n",
      "100/100 [==============================] - 0s - loss: 1.1056 - acc: 0.5400     \n",
      "Epoch 131/200\n",
      "100/100 [==============================] - 0s - loss: 1.1069 - acc: 0.5600     \n",
      "Epoch 132/200\n",
      "100/100 [==============================] - 0s - loss: 1.1065 - acc: 0.5500     \n",
      "Epoch 133/200\n",
      "100/100 [==============================] - 0s - loss: 1.1026 - acc: 0.5400     \n",
      "Epoch 134/200\n",
      "100/100 [==============================] - 0s - loss: 1.0998 - acc: 0.5400     \n",
      "Epoch 135/200\n",
      "100/100 [==============================] - 0s - loss: 1.1020 - acc: 0.5400     \n",
      "Epoch 136/200\n",
      "100/100 [==============================] - 0s - loss: 1.0974 - acc: 0.5500     \n",
      "Epoch 137/200\n",
      "100/100 [==============================] - 0s - loss: 1.0955 - acc: 0.5500     \n",
      "Epoch 138/200\n",
      "100/100 [==============================] - 0s - loss: 1.0933 - acc: 0.5400     \n",
      "Epoch 139/200\n",
      "100/100 [==============================] - 0s - loss: 1.0931 - acc: 0.5500     \n",
      "Epoch 140/200\n",
      "100/100 [==============================] - 0s - loss: 1.0928 - acc: 0.5400     \n",
      "Epoch 141/200\n",
      "100/100 [==============================] - 0s - loss: 1.0933 - acc: 0.5400     \n",
      "Epoch 142/200\n",
      "100/100 [==============================] - 0s - loss: 1.0892 - acc: 0.5300     \n",
      "Epoch 143/200\n",
      "100/100 [==============================] - 0s - loss: 1.0881 - acc: 0.5500     \n",
      "Epoch 144/200\n",
      "100/100 [==============================] - 0s - loss: 1.0891 - acc: 0.5500     \n",
      "Epoch 145/200\n",
      "100/100 [==============================] - 0s - loss: 1.0865 - acc: 0.5600     \n",
      "Epoch 146/200\n",
      "100/100 [==============================] - 0s - loss: 1.0873 - acc: 0.5500     \n",
      "Epoch 147/200\n",
      "100/100 [==============================] - 0s - loss: 1.0814 - acc: 0.5500     \n",
      "Epoch 148/200\n",
      "100/100 [==============================] - 0s - loss: 1.0811 - acc: 0.5600     \n",
      "Epoch 149/200\n",
      "100/100 [==============================] - 0s - loss: 1.0782 - acc: 0.5500     \n",
      "Epoch 150/200\n",
      "100/100 [==============================] - 0s - loss: 1.0800 - acc: 0.5500     \n",
      "Epoch 151/200\n",
      "100/100 [==============================] - 0s - loss: 1.0761 - acc: 0.5600     \n",
      "Epoch 152/200\n",
      "100/100 [==============================] - 0s - loss: 1.0773 - acc: 0.5600     \n",
      "Epoch 153/200\n",
      "100/100 [==============================] - 0s - loss: 1.0739 - acc: 0.5600     \n",
      "Epoch 154/200\n",
      "100/100 [==============================] - 0s - loss: 1.0722 - acc: 0.5700     \n",
      "Epoch 155/200\n",
      "100/100 [==============================] - 0s - loss: 1.0704 - acc: 0.5800     \n",
      "Epoch 156/200\n",
      "100/100 [==============================] - 0s - loss: 1.0691 - acc: 0.5600     \n",
      "Epoch 157/200\n",
      "100/100 [==============================] - 0s - loss: 1.0682 - acc: 0.5700     \n",
      "Epoch 158/200\n",
      "100/100 [==============================] - 0s - loss: 1.0685 - acc: 0.5700     \n",
      "Epoch 159/200\n",
      "100/100 [==============================] - 0s - loss: 1.0686 - acc: 0.5700     \n",
      "Epoch 160/200\n",
      "100/100 [==============================] - 0s - loss: 1.0651 - acc: 0.5700     \n",
      "Epoch 161/200\n",
      "100/100 [==============================] - 0s - loss: 1.0668 - acc: 0.5600     \n",
      "Epoch 162/200\n",
      "100/100 [==============================] - 0s - loss: 1.0609 - acc: 0.5600     \n",
      "Epoch 163/200\n",
      "100/100 [==============================] - 0s - loss: 1.0637 - acc: 0.5600     \n",
      "Epoch 164/200\n",
      "100/100 [==============================] - 0s - loss: 1.0648 - acc: 0.5500     \n",
      "Epoch 165/200\n",
      "100/100 [==============================] - 0s - loss: 1.0570 - acc: 0.5600     \n",
      "Epoch 166/200\n",
      "100/100 [==============================] - 0s - loss: 1.0577 - acc: 0.5600     \n",
      "Epoch 167/200\n",
      "100/100 [==============================] - 0s - loss: 1.0582 - acc: 0.5800     \n",
      "Epoch 168/200\n",
      "100/100 [==============================] - 0s - loss: 1.0558 - acc: 0.5800     \n",
      "Epoch 169/200\n",
      "100/100 [==============================] - 0s - loss: 1.0550 - acc: 0.5600     \n",
      "Epoch 170/200\n",
      "100/100 [==============================] - 0s - loss: 1.0563 - acc: 0.5700     \n",
      "Epoch 171/200\n",
      "100/100 [==============================] - 0s - loss: 1.0518 - acc: 0.5600     \n",
      "Epoch 172/200\n",
      "100/100 [==============================] - 0s - loss: 1.0564 - acc: 0.5600     \n",
      "Epoch 173/200\n",
      "100/100 [==============================] - 0s - loss: 1.0487 - acc: 0.5600     \n",
      "Epoch 174/200\n",
      "100/100 [==============================] - 0s - loss: 1.0486 - acc: 0.5700     \n",
      "Epoch 175/200\n",
      "100/100 [==============================] - 0s - loss: 1.0496 - acc: 0.5900     \n",
      "Epoch 176/200\n"
     ]
    },
    {
     "name": "stdout",
     "output_type": "stream",
     "text": [
      "100/100 [==============================] - 0s - loss: 1.0465 - acc: 0.5700     \n",
      "Epoch 177/200\n",
      "100/100 [==============================] - 0s - loss: 1.0470 - acc: 0.5600     \n",
      "Epoch 178/200\n",
      "100/100 [==============================] - 0s - loss: 1.0438 - acc: 0.5700     \n",
      "Epoch 179/200\n",
      "100/100 [==============================] - 0s - loss: 1.0404 - acc: 0.5700     \n",
      "Epoch 180/200\n",
      "100/100 [==============================] - 0s - loss: 1.0468 - acc: 0.5800     \n",
      "Epoch 181/200\n",
      "100/100 [==============================] - 0s - loss: 1.0418 - acc: 0.6100     \n",
      "Epoch 182/200\n",
      "100/100 [==============================] - 0s - loss: 1.0385 - acc: 0.5600     \n",
      "Epoch 183/200\n",
      "100/100 [==============================] - 0s - loss: 1.0415 - acc: 0.5600     \n",
      "Epoch 184/200\n",
      "100/100 [==============================] - 0s - loss: 1.0400 - acc: 0.5500     \n",
      "Epoch 185/200\n",
      "100/100 [==============================] - 0s - loss: 1.0415 - acc: 0.5700     \n",
      "Epoch 186/200\n",
      "100/100 [==============================] - 0s - loss: 1.0398 - acc: 0.5600     \n",
      "Epoch 187/200\n",
      "100/100 [==============================] - 0s - loss: 1.0403 - acc: 0.5800     \n",
      "Epoch 188/200\n",
      "100/100 [==============================] - 0s - loss: 1.0358 - acc: 0.5900     \n",
      "Epoch 189/200\n",
      "100/100 [==============================] - 0s - loss: 1.0343 - acc: 0.5800     \n",
      "Epoch 190/200\n",
      "100/100 [==============================] - 0s - loss: 1.0285 - acc: 0.5800     \n",
      "Epoch 191/200\n",
      "100/100 [==============================] - 0s - loss: 1.0330 - acc: 0.5700     \n",
      "Epoch 192/200\n",
      "100/100 [==============================] - 0s - loss: 1.0303 - acc: 0.5700     \n",
      "Epoch 193/200\n",
      "100/100 [==============================] - 0s - loss: 1.0289 - acc: 0.5900     \n",
      "Epoch 194/200\n",
      "100/100 [==============================] - 0s - loss: 1.0266 - acc: 0.5800     \n",
      "Epoch 195/200\n",
      "100/100 [==============================] - 0s - loss: 1.0280 - acc: 0.5600     \n",
      "Epoch 196/200\n",
      "100/100 [==============================] - 0s - loss: 1.0306 - acc: 0.5700     \n",
      "Epoch 197/200\n",
      "100/100 [==============================] - 0s - loss: 1.0236 - acc: 0.5800     \n",
      "Epoch 198/200\n",
      "100/100 [==============================] - 0s - loss: 1.0217 - acc: 0.5700     \n",
      "Epoch 199/200\n",
      "100/100 [==============================] - 0s - loss: 1.0263 - acc: 0.5800     \n",
      "Epoch 200/200\n",
      "100/100 [==============================] - 0s - loss: 1.0202 - acc: 0.5700     \n"
     ]
    },
    {
     "data": {
      "text/plain": [
       "<keras.callbacks.History at 0x18610d3ce48>"
      ]
     },
     "execution_count": 38,
     "metadata": {},
     "output_type": "execute_result"
    }
   ],
   "source": [
    "perce10 = Sequential()\n",
    "perce10.add(Dense(20, input_dim =10, activation='relu'))\n",
    "perce10.add(Dense(5, activation='softmax'))\n",
    "perce10.compile(loss='categorical_crossentropy', optimizer='adam', metrics=['accuracy'])\n",
    "perce10.fit(patterns_train10, dummy_label_train, epochs=200, batch_size=10)"
   ]
  },
  {
   "cell_type": "markdown",
   "metadata": {
    "nbpresent": {
     "id": "633f5380-8a09-4ce4-b59f-6cb9f220ff22"
    }
   },
   "source": [
    "## Multilayer Perceptron <a id='multilayer_perceptron'></a>"
   ]
  },
  {
   "cell_type": "markdown",
   "metadata": {
    "nbpresent": {
     "id": "6b83d0ce-2f08-4142-a1c6-076b93334c61"
    }
   },
   "source": [
    "The parameters of the Multi-Layer Perceptrons (MLP) are inspired by the work posted in <a href='https://keras.io/getting-started/sequential-model-guide/'>this article</a> or are the result of experiments to improve accuracy. "
   ]
  },
  {
   "cell_type": "markdown",
   "metadata": {
    "nbpresent": {
     "id": "a30a96a7-deab-4df5-b1d1-fc8c291889db"
    }
   },
   "source": [
    "##### Multilayer Percetron 3 feature"
   ]
  },
  {
   "cell_type": "markdown",
   "metadata": {
    "nbpresent": {
     "id": "316623a3-f17a-4c6a-99fb-376a0fa5aab0"
    }
   },
   "source": [
    "The topology of this MLP is:\n",
    "\n",
    "<center>__3 inputs -> [20 hidden neurons] -> [8 hidden neurons] -> 5 outputs__</center>\n",
    "![3-features MLP](img/mlp3.png)"
   ]
  },
  {
   "cell_type": "code",
   "execution_count": 39,
   "metadata": {
    "collapsed": true,
    "nbpresent": {
     "id": "5216c5ad-c08d-4850-b682-d13973f06da2"
    }
   },
   "outputs": [
    {
     "name": "stdout",
     "output_type": "stream",
     "text": [
      "Epoch 1/200\n",
      "100/100 [==============================] - 1s - loss: 1.6610 - acc: 0.2100      \n",
      "Epoch 2/200\n",
      "100/100 [==============================] - 0s - loss: 1.7007 - acc: 0.2300     \n",
      "Epoch 3/200\n",
      "100/100 [==============================] - 0s - loss: 1.6164 - acc: 0.2600     \n",
      "Epoch 4/200\n",
      "100/100 [==============================] - 0s - loss: 1.6773 - acc: 0.2100     \n",
      "Epoch 5/200\n",
      "100/100 [==============================] - 0s - loss: 1.6109 - acc: 0.2800     \n",
      "Epoch 6/200\n",
      "100/100 [==============================] - 0s - loss: 1.6200 - acc: 0.2800     \n",
      "Epoch 7/200\n",
      "100/100 [==============================] - 0s - loss: 1.6076 - acc: 0.2900     \n",
      "Epoch 8/200\n",
      "100/100 [==============================] - 0s - loss: 1.6038 - acc: 0.2600         \n",
      "Epoch 9/200\n",
      "100/100 [==============================] - 0s - loss: 1.6150 - acc: 0.2500     \n",
      "Epoch 10/200\n",
      "100/100 [==============================] - 0s - loss: 1.6064 - acc: 0.3300     \n",
      "Epoch 11/200\n",
      "100/100 [==============================] - 0s - loss: 1.5914 - acc: 0.2600     \n",
      "Epoch 12/200\n",
      "100/100 [==============================] - 0s - loss: 1.5970 - acc: 0.2700     \n",
      "Epoch 13/200\n",
      "100/100 [==============================] - 0s - loss: 1.6135 - acc: 0.2600     \n",
      "Epoch 14/200\n",
      "100/100 [==============================] - 0s - loss: 1.5778 - acc: 0.2900     \n",
      "Epoch 15/200\n",
      "100/100 [==============================] - 0s - loss: 1.5844 - acc: 0.3000     \n",
      "Epoch 16/200\n",
      "100/100 [==============================] - 0s - loss: 1.5781 - acc: 0.2400     \n",
      "Epoch 17/200\n",
      "100/100 [==============================] - 0s - loss: 1.5615 - acc: 0.2700     \n",
      "Epoch 18/200\n",
      "100/100 [==============================] - 0s - loss: 1.5924 - acc: 0.2600     \n",
      "Epoch 19/200\n",
      "100/100 [==============================] - 0s - loss: 1.6141 - acc: 0.2900     \n",
      "Epoch 20/200\n",
      "100/100 [==============================] - 0s - loss: 1.5974 - acc: 0.2700     \n",
      "Epoch 21/200\n",
      "100/100 [==============================] - 0s - loss: 1.5725 - acc: 0.2600     \n",
      "Epoch 22/200\n",
      "100/100 [==============================] - 0s - loss: 1.5790 - acc: 0.3200     \n",
      "Epoch 23/200\n",
      "100/100 [==============================] - 0s - loss: 1.5535 - acc: 0.3200     \n",
      "Epoch 24/200\n",
      "100/100 [==============================] - 0s - loss: 1.5988 - acc: 0.3200     \n",
      "Epoch 25/200\n",
      "100/100 [==============================] - 0s - loss: 1.5754 - acc: 0.3500     \n",
      "Epoch 26/200\n",
      "100/100 [==============================] - 0s - loss: 1.5671 - acc: 0.2900     \n",
      "Epoch 27/200\n",
      "100/100 [==============================] - 0s - loss: 1.5816 - acc: 0.2700         \n",
      "Epoch 28/200\n",
      "100/100 [==============================] - 0s - loss: 1.5884 - acc: 0.2800     \n",
      "Epoch 29/200\n",
      "100/100 [==============================] - 0s - loss: 1.5579 - acc: 0.2900     \n",
      "Epoch 30/200\n",
      "100/100 [==============================] - 0s - loss: 1.5667 - acc: 0.3000     \n",
      "Epoch 31/200\n",
      "100/100 [==============================] - 0s - loss: 1.5930 - acc: 0.2100         \n",
      "Epoch 32/200\n",
      "100/100 [==============================] - 0s - loss: 1.5770 - acc: 0.3000     \n",
      "Epoch 33/200\n",
      "100/100 [==============================] - 0s - loss: 1.5803 - acc: 0.2800     \n",
      "Epoch 34/200\n",
      "100/100 [==============================] - 0s - loss: 1.5485 - acc: 0.3100     \n",
      "Epoch 35/200\n",
      "100/100 [==============================] - 0s - loss: 1.5814 - acc: 0.2600     \n",
      "Epoch 36/200\n",
      "100/100 [==============================] - 0s - loss: 1.5450 - acc: 0.3000     \n",
      "Epoch 37/200\n",
      "100/100 [==============================] - 0s - loss: 1.5567 - acc: 0.3100     \n",
      "Epoch 38/200\n",
      "100/100 [==============================] - 0s - loss: 1.5814 - acc: 0.2600     \n",
      "Epoch 39/200\n",
      "100/100 [==============================] - 0s - loss: 1.5447 - acc: 0.3400         \n",
      "Epoch 40/200\n",
      "100/100 [==============================] - 0s - loss: 1.5228 - acc: 0.3000     \n",
      "Epoch 41/200\n",
      "100/100 [==============================] - 0s - loss: 1.5486 - acc: 0.2900     \n",
      "Epoch 42/200\n",
      "100/100 [==============================] - 0s - loss: 1.5780 - acc: 0.2500     \n",
      "Epoch 43/200\n",
      "100/100 [==============================] - 0s - loss: 1.5497 - acc: 0.2900     \n",
      "Epoch 44/200\n",
      "100/100 [==============================] - 0s - loss: 1.5779 - acc: 0.2900     \n",
      "Epoch 45/200\n",
      "100/100 [==============================] - 0s - loss: 1.5612 - acc: 0.3000     \n",
      "Epoch 46/200\n",
      "100/100 [==============================] - 0s - loss: 1.5422 - acc: 0.3100     \n",
      "Epoch 47/200\n",
      "100/100 [==============================] - 0s - loss: 1.5447 - acc: 0.2500     - ETA: 0s - loss: 1.5296 - acc: 0.275\n",
      "Epoch 48/200\n",
      "100/100 [==============================] - 0s - loss: 1.5512 - acc: 0.3300     \n",
      "Epoch 49/200\n",
      "100/100 [==============================] - 0s - loss: 1.5113 - acc: 0.3400     \n",
      "Epoch 50/200\n",
      "100/100 [==============================] - 0s - loss: 1.5517 - acc: 0.3200     \n",
      "Epoch 51/200\n",
      "100/100 [==============================] - 0s - loss: 1.5646 - acc: 0.2700     \n",
      "Epoch 52/200\n",
      "100/100 [==============================] - 0s - loss: 1.5159 - acc: 0.3200     \n",
      "Epoch 53/200\n",
      "100/100 [==============================] - 0s - loss: 1.5514 - acc: 0.2500     \n",
      "Epoch 54/200\n",
      "100/100 [==============================] - 0s - loss: 1.5298 - acc: 0.3000     \n",
      "Epoch 55/200\n",
      "100/100 [==============================] - 0s - loss: 1.5551 - acc: 0.2800     \n",
      "Epoch 56/200\n",
      "100/100 [==============================] - 0s - loss: 1.5584 - acc: 0.3300     \n",
      "Epoch 57/200\n",
      "100/100 [==============================] - 0s - loss: 1.5266 - acc: 0.3100     \n",
      "Epoch 58/200\n",
      "100/100 [==============================] - ETA: 0s - loss: 1.5753 - acc: 0.300 - 0s - loss: 1.5609 - acc: 0.2800     \n",
      "Epoch 59/200\n",
      "100/100 [==============================] - 0s - loss: 1.5607 - acc: 0.3200     \n",
      "Epoch 60/200\n",
      "100/100 [==============================] - 0s - loss: 1.5395 - acc: 0.2900     \n",
      "Epoch 61/200\n",
      "100/100 [==============================] - 0s - loss: 1.5224 - acc: 0.3400     \n",
      "Epoch 62/200\n",
      "100/100 [==============================] - 0s - loss: 1.5447 - acc: 0.2800     \n",
      "Epoch 63/200\n",
      "100/100 [==============================] - 0s - loss: 1.5377 - acc: 0.2800     \n",
      "Epoch 64/200\n",
      "100/100 [==============================] - 0s - loss: 1.5224 - acc: 0.3000     \n",
      "Epoch 65/200\n",
      "100/100 [==============================] - 0s - loss: 1.4866 - acc: 0.3400     \n",
      "Epoch 66/200\n",
      "100/100 [==============================] - 0s - loss: 1.5380 - acc: 0.3200     \n",
      "Epoch 67/200\n",
      "100/100 [==============================] - 0s - loss: 1.5087 - acc: 0.2900     \n",
      "Epoch 68/200\n",
      "100/100 [==============================] - 0s - loss: 1.5156 - acc: 0.3600     \n",
      "Epoch 69/200\n",
      "100/100 [==============================] - 0s - loss: 1.5444 - acc: 0.2700     \n",
      "Epoch 70/200\n",
      "100/100 [==============================] - 0s - loss: 1.5319 - acc: 0.3500     \n",
      "Epoch 71/200\n",
      "100/100 [==============================] - 0s - loss: 1.5272 - acc: 0.3100     \n",
      "Epoch 72/200\n",
      "100/100 [==============================] - 0s - loss: 1.5239 - acc: 0.2700     \n",
      "Epoch 73/200\n",
      "100/100 [==============================] - 0s - loss: 1.5089 - acc: 0.3100     \n",
      "Epoch 74/200\n",
      "100/100 [==============================] - 0s - loss: 1.5007 - acc: 0.3300     \n",
      "Epoch 75/200\n",
      "100/100 [==============================] - 0s - loss: 1.5227 - acc: 0.2800     \n",
      "Epoch 76/200\n",
      "100/100 [==============================] - 0s - loss: 1.5076 - acc: 0.3100     \n",
      "Epoch 77/200\n",
      "100/100 [==============================] - 0s - loss: 1.5428 - acc: 0.3100     \n",
      "Epoch 78/200\n",
      "100/100 [==============================] - 0s - loss: 1.5367 - acc: 0.3100     \n",
      "Epoch 79/200\n",
      "100/100 [==============================] - 0s - loss: 1.5064 - acc: 0.2800     \n",
      "Epoch 80/200\n",
      "100/100 [==============================] - 0s - loss: 1.5111 - acc: 0.3100     \n",
      "Epoch 81/200\n",
      "100/100 [==============================] - 0s - loss: 1.5213 - acc: 0.2700     \n",
      "Epoch 82/200\n",
      "100/100 [==============================] - 0s - loss: 1.5157 - acc: 0.3000     \n",
      "Epoch 83/200\n",
      "100/100 [==============================] - 0s - loss: 1.5092 - acc: 0.3000     \n",
      "Epoch 84/200\n",
      "100/100 [==============================] - 0s - loss: 1.4966 - acc: 0.2800     \n",
      "Epoch 85/200\n",
      "100/100 [==============================] - 0s - loss: 1.4980 - acc: 0.3000     \n",
      "Epoch 86/200\n",
      "100/100 [==============================] - 0s - loss: 1.5143 - acc: 0.2800     \n",
      "Epoch 87/200\n",
      "100/100 [==============================] - 0s - loss: 1.5092 - acc: 0.3300     \n",
      "Epoch 88/200\n",
      "100/100 [==============================] - 0s - loss: 1.5148 - acc: 0.3200     \n",
      "Epoch 89/200\n",
      "100/100 [==============================] - 0s - loss: 1.5137 - acc: 0.3300     \n",
      "Epoch 90/200\n",
      "100/100 [==============================] - 0s - loss: 1.4959 - acc: 0.3300     \n",
      "Epoch 91/200\n",
      "100/100 [==============================] - 0s - loss: 1.5159 - acc: 0.3100     \n",
      "Epoch 92/200\n",
      "100/100 [==============================] - 0s - loss: 1.4644 - acc: 0.3400     \n",
      "Epoch 93/200\n",
      "100/100 [==============================] - 0s - loss: 1.4813 - acc: 0.3400     \n",
      "Epoch 94/200\n",
      "100/100 [==============================] - 0s - loss: 1.5143 - acc: 0.3300     \n",
      "Epoch 95/200\n",
      "100/100 [==============================] - 0s - loss: 1.5045 - acc: 0.3200     \n",
      "Epoch 96/200\n",
      "100/100 [==============================] - 0s - loss: 1.4898 - acc: 0.3300     \n",
      "Epoch 97/200\n",
      "100/100 [==============================] - 0s - loss: 1.5057 - acc: 0.3300     \n",
      "Epoch 98/200\n",
      "100/100 [==============================] - 0s - loss: 1.5179 - acc: 0.3100     \n",
      "Epoch 99/200\n",
      "100/100 [==============================] - 0s - loss: 1.5363 - acc: 0.2700     \n",
      "Epoch 100/200\n",
      "100/100 [==============================] - 0s - loss: 1.5044 - acc: 0.2900     \n",
      "Epoch 101/200\n",
      "100/100 [==============================] - 0s - loss: 1.5010 - acc: 0.3100     \n",
      "Epoch 102/200\n",
      "100/100 [==============================] - 0s - loss: 1.5272 - acc: 0.3300     \n",
      "Epoch 103/200\n",
      "100/100 [==============================] - 0s - loss: 1.4824 - acc: 0.3000     \n",
      "Epoch 104/200\n",
      "100/100 [==============================] - 0s - loss: 1.4854 - acc: 0.3200     \n",
      "Epoch 105/200\n",
      "100/100 [==============================] - 0s - loss: 1.4814 - acc: 0.3300     \n",
      "Epoch 106/200\n",
      "100/100 [==============================] - 0s - loss: 1.4594 - acc: 0.3600     \n",
      "Epoch 107/200\n",
      "100/100 [==============================] - 0s - loss: 1.4644 - acc: 0.3400     \n",
      "Epoch 108/200\n",
      "100/100 [==============================] - 0s - loss: 1.4613 - acc: 0.3200     \n",
      "Epoch 109/200\n",
      "100/100 [==============================] - 0s - loss: 1.5112 - acc: 0.3700     \n",
      "Epoch 110/200\n",
      "100/100 [==============================] - 0s - loss: 1.4716 - acc: 0.3000     \n",
      "Epoch 111/200\n",
      "100/100 [==============================] - 0s - loss: 1.4483 - acc: 0.3400     \n",
      "Epoch 112/200\n",
      "100/100 [==============================] - 0s - loss: 1.4710 - acc: 0.3600     \n",
      "Epoch 113/200\n",
      "100/100 [==============================] - 0s - loss: 1.4379 - acc: 0.4000     \n",
      "Epoch 114/200\n",
      "100/100 [==============================] - 0s - loss: 1.4725 - acc: 0.3500     \n",
      "Epoch 115/200\n",
      "100/100 [==============================] - 0s - loss: 1.4786 - acc: 0.2800     \n",
      "Epoch 116/200\n",
      "100/100 [==============================] - 0s - loss: 1.4947 - acc: 0.3200     \n",
      "Epoch 117/200\n",
      "100/100 [==============================] - 0s - loss: 1.4763 - acc: 0.3400     \n",
      "Epoch 118/200\n",
      "100/100 [==============================] - 0s - loss: 1.4883 - acc: 0.2900     \n",
      "Epoch 119/200\n",
      "100/100 [==============================] - 0s - loss: 1.5010 - acc: 0.3200     \n",
      "Epoch 120/200\n",
      "100/100 [==============================] - 0s - loss: 1.5297 - acc: 0.3400     \n",
      "Epoch 121/200\n",
      "100/100 [==============================] - 0s - loss: 1.4842 - acc: 0.3200     \n",
      "Epoch 122/200\n",
      "100/100 [==============================] - 0s - loss: 1.4958 - acc: 0.2800     \n",
      "Epoch 123/200\n",
      "100/100 [==============================] - 0s - loss: 1.4261 - acc: 0.3800     \n",
      "Epoch 124/200\n",
      "100/100 [==============================] - 0s - loss: 1.4875 - acc: 0.3400     \n",
      "Epoch 125/200\n",
      "100/100 [==============================] - 0s - loss: 1.4631 - acc: 0.3100     \n",
      "Epoch 126/200\n",
      "100/100 [==============================] - 0s - loss: 1.4669 - acc: 0.3200     \n",
      "Epoch 127/200\n",
      "100/100 [==============================] - 0s - loss: 1.4812 - acc: 0.3300     \n",
      "Epoch 128/200\n",
      "100/100 [==============================] - 0s - loss: 1.4804 - acc: 0.3400     \n",
      "Epoch 129/200\n",
      "100/100 [==============================] - 0s - loss: 1.4641 - acc: 0.3400     \n",
      "Epoch 130/200\n",
      "100/100 [==============================] - 0s - loss: 1.4713 - acc: 0.3300     \n",
      "Epoch 131/200\n",
      "100/100 [==============================] - 0s - loss: 1.4646 - acc: 0.3600     \n",
      "Epoch 132/200\n",
      "100/100 [==============================] - 0s - loss: 1.4862 - acc: 0.3500     \n",
      "Epoch 133/200\n",
      "100/100 [==============================] - 0s - loss: 1.4617 - acc: 0.3500     \n",
      "Epoch 134/200\n",
      "100/100 [==============================] - 0s - loss: 1.4403 - acc: 0.3500     \n",
      "Epoch 135/200\n",
      "100/100 [==============================] - 0s - loss: 1.4789 - acc: 0.3400     \n",
      "Epoch 136/200\n",
      "100/100 [==============================] - 0s - loss: 1.4371 - acc: 0.3200     \n",
      "Epoch 137/200\n",
      "100/100 [==============================] - 0s - loss: 1.4587 - acc: 0.3100     \n",
      "Epoch 138/200\n",
      "100/100 [==============================] - 0s - loss: 1.4603 - acc: 0.3500     \n",
      "Epoch 139/200\n",
      "100/100 [==============================] - 0s - loss: 1.4402 - acc: 0.3300     \n",
      "Epoch 140/200\n",
      "100/100 [==============================] - 0s - loss: 1.5342 - acc: 0.3100     \n",
      "Epoch 141/200\n",
      "100/100 [==============================] - 0s - loss: 1.4892 - acc: 0.3200     \n",
      "Epoch 142/200\n",
      "100/100 [==============================] - 0s - loss: 1.4732 - acc: 0.3100     \n",
      "Epoch 143/200\n",
      "100/100 [==============================] - 0s - loss: 1.4405 - acc: 0.3600     \n",
      "Epoch 144/200\n",
      "100/100 [==============================] - 0s - loss: 1.4272 - acc: 0.3500     \n",
      "Epoch 145/200\n",
      "100/100 [==============================] - 0s - loss: 1.4708 - acc: 0.3100     \n",
      "Epoch 146/200\n",
      "100/100 [==============================] - 0s - loss: 1.5102 - acc: 0.3600     \n",
      "Epoch 147/200\n",
      "100/100 [==============================] - 0s - loss: 1.4928 - acc: 0.3300     \n",
      "Epoch 148/200\n",
      "100/100 [==============================] - 0s - loss: 1.4815 - acc: 0.3400     \n",
      "Epoch 149/200\n",
      "100/100 [==============================] - 0s - loss: 1.4265 - acc: 0.3200     \n",
      "Epoch 150/200\n",
      "100/100 [==============================] - 0s - loss: 1.4627 - acc: 0.2900     \n",
      "Epoch 151/200\n",
      "100/100 [==============================] - 0s - loss: 1.4920 - acc: 0.2800     \n",
      "Epoch 152/200\n",
      "100/100 [==============================] - 0s - loss: 1.4675 - acc: 0.3000     \n",
      "Epoch 153/200\n",
      "100/100 [==============================] - 0s - loss: 1.4835 - acc: 0.3200     \n",
      "Epoch 154/200\n",
      "100/100 [==============================] - 0s - loss: 1.5078 - acc: 0.3000     \n",
      "Epoch 155/200\n",
      "100/100 [==============================] - 0s - loss: 1.4622 - acc: 0.3100     \n",
      "Epoch 156/200\n",
      "100/100 [==============================] - 0s - loss: 1.4408 - acc: 0.3500     - ETA: 0s - loss: 1.4502 - acc: 0.355\n",
      "Epoch 157/200\n",
      "100/100 [==============================] - 0s - loss: 1.4576 - acc: 0.3100        \n",
      "Epoch 158/200\n",
      "100/100 [==============================] - 0s - loss: 1.4750 - acc: 0.3500     \n",
      "Epoch 159/200\n",
      "100/100 [==============================] - 0s - loss: 1.4533 - acc: 0.3000     \n",
      "Epoch 160/200\n",
      "100/100 [==============================] - 0s - loss: 1.4677 - acc: 0.3400     \n",
      "Epoch 161/200\n",
      "100/100 [==============================] - 0s - loss: 1.4137 - acc: 0.2900     \n",
      "Epoch 162/200\n",
      "100/100 [==============================] - 0s - loss: 1.4085 - acc: 0.3300     \n",
      "Epoch 163/200\n",
      "100/100 [==============================] - 0s - loss: 1.4651 - acc: 0.3200     \n",
      "Epoch 164/200\n",
      "100/100 [==============================] - 0s - loss: 1.4684 - acc: 0.2900     \n",
      "Epoch 165/200\n",
      "100/100 [==============================] - 0s - loss: 1.4628 - acc: 0.3200     \n",
      "Epoch 166/200\n",
      "100/100 [==============================] - 0s - loss: 1.4900 - acc: 0.3600     \n",
      "Epoch 167/200\n",
      "100/100 [==============================] - 0s - loss: 1.4362 - acc: 0.3400     \n",
      "Epoch 168/200\n",
      "100/100 [==============================] - 0s - loss: 1.4548 - acc: 0.3700     \n",
      "Epoch 169/200\n",
      "100/100 [==============================] - 0s - loss: 1.4592 - acc: 0.3400     \n",
      "Epoch 170/200\n",
      "100/100 [==============================] - 0s - loss: 1.4595 - acc: 0.3400     \n",
      "Epoch 171/200\n",
      "100/100 [==============================] - 0s - loss: 1.4437 - acc: 0.3400     \n",
      "Epoch 172/200\n",
      "100/100 [==============================] - 0s - loss: 1.4605 - acc: 0.3700     \n",
      "Epoch 173/200\n",
      "100/100 [==============================] - 0s - loss: 1.4637 - acc: 0.3300     \n",
      "Epoch 174/200\n",
      "100/100 [==============================] - 0s - loss: 1.4842 - acc: 0.3200     \n",
      "Epoch 175/200\n"
     ]
    },
    {
     "name": "stdout",
     "output_type": "stream",
     "text": [
      "100/100 [==============================] - 0s - loss: 1.4710 - acc: 0.3300     \n",
      "Epoch 176/200\n",
      "100/100 [==============================] - 0s - loss: 1.4408 - acc: 0.3300     \n",
      "Epoch 177/200\n",
      "100/100 [==============================] - 0s - loss: 1.4354 - acc: 0.3500     \n",
      "Epoch 178/200\n",
      "100/100 [==============================] - 0s - loss: 1.4349 - acc: 0.3500     \n",
      "Epoch 179/200\n",
      "100/100 [==============================] - 0s - loss: 1.4763 - acc: 0.2900     \n",
      "Epoch 180/200\n",
      "100/100 [==============================] - 0s - loss: 1.4439 - acc: 0.3000     \n",
      "Epoch 181/200\n",
      "100/100 [==============================] - 0s - loss: 1.4459 - acc: 0.3800     \n",
      "Epoch 182/200\n",
      "100/100 [==============================] - 0s - loss: 1.4781 - acc: 0.3200     \n",
      "Epoch 183/200\n",
      "100/100 [==============================] - 0s - loss: 1.4656 - acc: 0.3000     \n",
      "Epoch 184/200\n",
      "100/100 [==============================] - 0s - loss: 1.4662 - acc: 0.2800     \n",
      "Epoch 185/200\n",
      "100/100 [==============================] - 0s - loss: 1.4742 - acc: 0.3000     \n",
      "Epoch 186/200\n",
      "100/100 [==============================] - 0s - loss: 1.4691 - acc: 0.2700     \n",
      "Epoch 187/200\n",
      "100/100 [==============================] - 0s - loss: 1.4519 - acc: 0.3400     \n",
      "Epoch 188/200\n",
      "100/100 [==============================] - 0s - loss: 1.4408 - acc: 0.3100     \n",
      "Epoch 189/200\n",
      "100/100 [==============================] - 0s - loss: 1.4950 - acc: 0.3300     \n",
      "Epoch 190/200\n",
      "100/100 [==============================] - 0s - loss: 1.4526 - acc: 0.2900     \n",
      "Epoch 191/200\n",
      "100/100 [==============================] - 0s - loss: 1.4616 - acc: 0.3800     \n",
      "Epoch 192/200\n",
      "100/100 [==============================] - 0s - loss: 1.4583 - acc: 0.3200         \n",
      "Epoch 193/200\n",
      "100/100 [==============================] - 0s - loss: 1.4166 - acc: 0.3100     \n",
      "Epoch 194/200\n",
      "100/100 [==============================] - 0s - loss: 1.4315 - acc: 0.3300     \n",
      "Epoch 195/200\n",
      "100/100 [==============================] - 0s - loss: 1.4627 - acc: 0.3100     \n",
      "Epoch 196/200\n",
      "100/100 [==============================] - 0s - loss: 1.5071 - acc: 0.2900     \n",
      "Epoch 197/200\n",
      "100/100 [==============================] - 0s - loss: 1.4319 - acc: 0.3500     \n",
      "Epoch 198/200\n",
      "100/100 [==============================] - 0s - loss: 1.5039 - acc: 0.3100     \n",
      "Epoch 199/200\n",
      "100/100 [==============================] - 0s - loss: 1.4489 - acc: 0.3500     \n",
      "Epoch 200/200\n",
      "100/100 [==============================] - 0s - loss: 1.4411 - acc: 0.3300     \n"
     ]
    },
    {
     "data": {
      "text/plain": [
       "<keras.callbacks.History at 0x186111b9a90>"
      ]
     },
     "execution_count": 39,
     "metadata": {},
     "output_type": "execute_result"
    }
   ],
   "source": [
    "m_perce3 = Sequential()\n",
    "m_perce3.add(Dense(20, input_dim =3, activation='relu'))\n",
    "m_perce3.add(Dropout(0.5))\n",
    "m_perce3.add(Dense(8, activation='relu'))\n",
    "m_perce3.add(Dropout(0.5))\n",
    "m_perce3.add(Dense(5, activation='softmax'))\n",
    "m_perce3.compile(loss='categorical_crossentropy', optimizer='adam', metrics=['accuracy'])\n",
    "m_perce3.fit(patterns_train3, dummy_label_train, epochs=200, batch_size=10)"
   ]
  },
  {
   "cell_type": "markdown",
   "metadata": {
    "nbpresent": {
     "id": "72089316-e82e-47c5-85a9-e469383bca8a"
    }
   },
   "source": [
    "##### Multilayer Perceptron 7 features"
   ]
  },
  {
   "cell_type": "markdown",
   "metadata": {
    "nbpresent": {
     "id": "ffeff364-6e2d-4451-aaad-d316537808a8"
    }
   },
   "source": [
    "The topology of this MLP is:\n",
    "\n",
    "<center>__7 inputs -> [20 hidden neurons] -> [8 hidden neurons] -> 5 outputs__</center>\n",
    "![7-features MLP](img/mlp7.png)"
   ]
  },
  {
   "cell_type": "code",
   "execution_count": 40,
   "metadata": {
    "nbpresent": {
     "id": "9d8d97d3-adfd-474a-b9e1-42b4bba0a9af"
    }
   },
   "outputs": [
    {
     "name": "stdout",
     "output_type": "stream",
     "text": [
      "Epoch 1/200\n",
      "100/100 [==============================] - 1s - loss: 2.7858 - acc: 0.2300      \n",
      "Epoch 2/200\n",
      "100/100 [==============================] - 0s - loss: 2.4466 - acc: 0.2400     \n",
      "Epoch 3/200\n",
      "100/100 [==============================] - 0s - loss: 2.1823 - acc: 0.2300     \n",
      "Epoch 4/200\n",
      "100/100 [==============================] - 0s - loss: 2.0820 - acc: 0.2200     \n",
      "Epoch 5/200\n",
      "100/100 [==============================] - 0s - loss: 1.9532 - acc: 0.2000     \n",
      "Epoch 6/200\n",
      "100/100 [==============================] - 0s - loss: 1.9516 - acc: 0.1900     \n",
      "Epoch 7/200\n",
      "100/100 [==============================] - 0s - loss: 1.9089 - acc: 0.2100     \n",
      "Epoch 8/200\n",
      "100/100 [==============================] - 0s - loss: 1.8668 - acc: 0.2000     \n",
      "Epoch 9/200\n",
      "100/100 [==============================] - 0s - loss: 1.8532 - acc: 0.1900     \n",
      "Epoch 10/200\n",
      "100/100 [==============================] - 0s - loss: 1.7631 - acc: 0.2100     \n",
      "Epoch 11/200\n",
      "100/100 [==============================] - 0s - loss: 1.7379 - acc: 0.2200     \n",
      "Epoch 12/200\n",
      "100/100 [==============================] - 0s - loss: 1.6371 - acc: 0.2800     \n",
      "Epoch 13/200\n",
      "100/100 [==============================] - 0s - loss: 1.7596 - acc: 0.1600     \n",
      "Epoch 14/200\n",
      "100/100 [==============================] - 0s - loss: 1.8652 - acc: 0.1400     \n",
      "Epoch 15/200\n",
      "100/100 [==============================] - 0s - loss: 1.6315 - acc: 0.2600     \n",
      "Epoch 16/200\n",
      "100/100 [==============================] - 0s - loss: 1.6519 - acc: 0.2100     \n",
      "Epoch 17/200\n",
      "100/100 [==============================] - 0s - loss: 1.8204 - acc: 0.2100     \n",
      "Epoch 18/200\n",
      "100/100 [==============================] - 0s - loss: 1.6915 - acc: 0.2400     \n",
      "Epoch 19/200\n",
      "100/100 [==============================] - 0s - loss: 1.6452 - acc: 0.2000     \n",
      "Epoch 20/200\n",
      "100/100 [==============================] - 0s - loss: 1.6857 - acc: 0.1800     \n",
      "Epoch 21/200\n",
      "100/100 [==============================] - 0s - loss: 1.6233 - acc: 0.2400     \n",
      "Epoch 22/200\n",
      "100/100 [==============================] - 0s - loss: 1.6461 - acc: 0.2100     \n",
      "Epoch 23/200\n",
      "100/100 [==============================] - 0s - loss: 1.5650 - acc: 0.2500     \n",
      "Epoch 24/200\n",
      "100/100 [==============================] - 0s - loss: 1.7349 - acc: 0.1900     \n",
      "Epoch 25/200\n",
      "100/100 [==============================] - 0s - loss: 1.6550 - acc: 0.2700     \n",
      "Epoch 26/200\n",
      "100/100 [==============================] - 0s - loss: 1.6414 - acc: 0.2700     \n",
      "Epoch 27/200\n",
      "100/100 [==============================] - 0s - loss: 1.5753 - acc: 0.3000     \n",
      "Epoch 28/200\n",
      "100/100 [==============================] - 0s - loss: 1.6208 - acc: 0.2700     \n",
      "Epoch 29/200\n",
      "100/100 [==============================] - 0s - loss: 1.6306 - acc: 0.2800     \n",
      "Epoch 30/200\n",
      "100/100 [==============================] - 0s - loss: 1.6487 - acc: 0.2500     \n",
      "Epoch 31/200\n",
      "100/100 [==============================] - 0s - loss: 1.5580 - acc: 0.3100     \n",
      "Epoch 32/200\n",
      "100/100 [==============================] - 0s - loss: 1.6619 - acc: 0.2800     \n",
      "Epoch 33/200\n",
      "100/100 [==============================] - 0s - loss: 1.6159 - acc: 0.3300     \n",
      "Epoch 34/200\n",
      "100/100 [==============================] - 0s - loss: 1.6310 - acc: 0.2400     \n",
      "Epoch 35/200\n",
      "100/100 [==============================] - 0s - loss: 1.6638 - acc: 0.2800     \n",
      "Epoch 36/200\n",
      "100/100 [==============================] - 0s - loss: 1.6843 - acc: 0.2800     \n",
      "Epoch 37/200\n",
      "100/100 [==============================] - 0s - loss: 1.6293 - acc: 0.2600     \n",
      "Epoch 38/200\n",
      "100/100 [==============================] - 0s - loss: 1.6387 - acc: 0.2900     \n",
      "Epoch 39/200\n",
      "100/100 [==============================] - 0s - loss: 1.6103 - acc: 0.2900     \n",
      "Epoch 40/200\n",
      "100/100 [==============================] - 0s - loss: 1.5934 - acc: 0.2800     \n",
      "Epoch 41/200\n",
      "100/100 [==============================] - 0s - loss: 1.5793 - acc: 0.2700     \n",
      "Epoch 42/200\n",
      "100/100 [==============================] - 0s - loss: 1.6325 - acc: 0.3200     \n",
      "Epoch 43/200\n",
      "100/100 [==============================] - 0s - loss: 1.5832 - acc: 0.2300     \n",
      "Epoch 44/200\n",
      "100/100 [==============================] - 0s - loss: 1.6296 - acc: 0.2600     \n",
      "Epoch 45/200\n",
      "100/100 [==============================] - 0s - loss: 1.6169 - acc: 0.3100     \n",
      "Epoch 46/200\n",
      "100/100 [==============================] - 0s - loss: 1.5643 - acc: 0.2900     \n",
      "Epoch 47/200\n",
      "100/100 [==============================] - 0s - loss: 1.5339 - acc: 0.3000     \n",
      "Epoch 48/200\n",
      "100/100 [==============================] - 0s - loss: 1.6088 - acc: 0.3300     \n",
      "Epoch 49/200\n",
      "100/100 [==============================] - 0s - loss: 1.5545 - acc: 0.3000     \n",
      "Epoch 50/200\n",
      "100/100 [==============================] - 0s - loss: 1.6141 - acc: 0.2900     \n",
      "Epoch 51/200\n",
      "100/100 [==============================] - 0s - loss: 1.5580 - acc: 0.3000     \n",
      "Epoch 52/200\n",
      "100/100 [==============================] - 0s - loss: 1.5681 - acc: 0.2700     \n",
      "Epoch 53/200\n",
      "100/100 [==============================] - 0s - loss: 1.6035 - acc: 0.3100     \n",
      "Epoch 54/200\n",
      "100/100 [==============================] - 0s - loss: 1.5602 - acc: 0.2800     \n",
      "Epoch 55/200\n",
      "100/100 [==============================] - 0s - loss: 1.5890 - acc: 0.3000     \n",
      "Epoch 56/200\n",
      "100/100 [==============================] - 0s - loss: 1.5999 - acc: 0.2900     \n",
      "Epoch 57/200\n",
      "100/100 [==============================] - 0s - loss: 1.5693 - acc: 0.3100     \n",
      "Epoch 58/200\n",
      "100/100 [==============================] - 0s - loss: 1.5555 - acc: 0.2900     \n",
      "Epoch 59/200\n",
      "100/100 [==============================] - 0s - loss: 1.6140 - acc: 0.2900     \n",
      "Epoch 60/200\n",
      "100/100 [==============================] - 0s - loss: 1.5636 - acc: 0.2600     \n",
      "Epoch 61/200\n",
      "100/100 [==============================] - 0s - loss: 1.5396 - acc: 0.2900     \n",
      "Epoch 62/200\n",
      "100/100 [==============================] - 0s - loss: 1.5692 - acc: 0.2700     \n",
      "Epoch 63/200\n",
      "100/100 [==============================] - 0s - loss: 1.5790 - acc: 0.2900     \n",
      "Epoch 64/200\n",
      "100/100 [==============================] - 0s - loss: 1.5553 - acc: 0.2800     \n",
      "Epoch 65/200\n",
      "100/100 [==============================] - 0s - loss: 1.5696 - acc: 0.2700     \n",
      "Epoch 66/200\n",
      "100/100 [==============================] - 0s - loss: 1.5899 - acc: 0.3000     \n",
      "Epoch 67/200\n",
      "100/100 [==============================] - 0s - loss: 1.5432 - acc: 0.3000     \n",
      "Epoch 68/200\n",
      "100/100 [==============================] - 0s - loss: 1.5738 - acc: 0.3100     \n",
      "Epoch 69/200\n",
      "100/100 [==============================] - 0s - loss: 1.5723 - acc: 0.2900     \n",
      "Epoch 70/200\n",
      "100/100 [==============================] - 0s - loss: 1.5304 - acc: 0.3400     \n",
      "Epoch 71/200\n",
      "100/100 [==============================] - 0s - loss: 1.5475 - acc: 0.3100     \n",
      "Epoch 72/200\n",
      "100/100 [==============================] - 0s - loss: 1.5316 - acc: 0.3200     \n",
      "Epoch 73/200\n",
      "100/100 [==============================] - 0s - loss: 1.5468 - acc: 0.3200     \n",
      "Epoch 74/200\n",
      "100/100 [==============================] - 0s - loss: 1.5646 - acc: 0.3000     \n",
      "Epoch 75/200\n",
      "100/100 [==============================] - ETA: 0s - loss: 1.6232 - acc: 0.200 - 0s - loss: 1.5511 - acc: 0.3000     \n",
      "Epoch 76/200\n",
      "100/100 [==============================] - 0s - loss: 1.5522 - acc: 0.3100     \n",
      "Epoch 77/200\n",
      "100/100 [==============================] - 0s - loss: 1.5668 - acc: 0.3400     \n",
      "Epoch 78/200\n",
      "100/100 [==============================] - 0s - loss: 1.5593 - acc: 0.3100     \n",
      "Epoch 79/200\n",
      "100/100 [==============================] - 0s - loss: 1.5603 - acc: 0.3000     \n",
      "Epoch 80/200\n",
      "100/100 [==============================] - 0s - loss: 1.5764 - acc: 0.2900     \n",
      "Epoch 81/200\n",
      "100/100 [==============================] - 0s - loss: 1.5164 - acc: 0.3400     \n",
      "Epoch 82/200\n",
      "100/100 [==============================] - 0s - loss: 1.5264 - acc: 0.3100     \n",
      "Epoch 83/200\n",
      "100/100 [==============================] - 0s - loss: 1.5753 - acc: 0.3000     \n",
      "Epoch 84/200\n",
      "100/100 [==============================] - 0s - loss: 1.5808 - acc: 0.3100     \n",
      "Epoch 85/200\n",
      "100/100 [==============================] - 0s - loss: 1.5398 - acc: 0.3300     \n",
      "Epoch 86/200\n",
      "100/100 [==============================] - 0s - loss: 1.5650 - acc: 0.2700     \n",
      "Epoch 87/200\n",
      "100/100 [==============================] - 0s - loss: 1.5624 - acc: 0.3300     \n",
      "Epoch 88/200\n",
      "100/100 [==============================] - 0s - loss: 1.5658 - acc: 0.3300     \n",
      "Epoch 89/200\n",
      "100/100 [==============================] - 0s - loss: 1.5563 - acc: 0.3300     \n",
      "Epoch 90/200\n",
      "100/100 [==============================] - 0s - loss: 1.5469 - acc: 0.3200     \n",
      "Epoch 91/200\n",
      "100/100 [==============================] - 0s - loss: 1.5081 - acc: 0.3100     \n",
      "Epoch 92/200\n",
      "100/100 [==============================] - 0s - loss: 1.5738 - acc: 0.3300     \n",
      "Epoch 93/200\n",
      "100/100 [==============================] - 0s - loss: 1.5662 - acc: 0.2900     \n",
      "Epoch 94/200\n",
      "100/100 [==============================] - 0s - loss: 1.6189 - acc: 0.3100     \n",
      "Epoch 95/200\n",
      "100/100 [==============================] - 0s - loss: 1.5195 - acc: 0.3200     \n",
      "Epoch 96/200\n",
      "100/100 [==============================] - 0s - loss: 1.5247 - acc: 0.3900     \n",
      "Epoch 97/200\n",
      "100/100 [==============================] - 0s - loss: 1.5268 - acc: 0.3500     \n",
      "Epoch 98/200\n",
      "100/100 [==============================] - 0s - loss: 1.5909 - acc: 0.3100     \n",
      "Epoch 99/200\n",
      "100/100 [==============================] - 0s - loss: 1.5886 - acc: 0.3100     \n",
      "Epoch 100/200\n",
      "100/100 [==============================] - 0s - loss: 1.5176 - acc: 0.3400     \n",
      "Epoch 101/200\n",
      "100/100 [==============================] - 0s - loss: 1.5444 - acc: 0.3600     \n",
      "Epoch 102/200\n",
      "100/100 [==============================] - 0s - loss: 1.5717 - acc: 0.2600     \n",
      "Epoch 103/200\n",
      "100/100 [==============================] - 0s - loss: 1.5585 - acc: 0.3300     \n",
      "Epoch 104/200\n",
      "100/100 [==============================] - 0s - loss: 1.5512 - acc: 0.3000     \n",
      "Epoch 105/200\n",
      "100/100 [==============================] - 0s - loss: 1.5154 - acc: 0.3700     \n",
      "Epoch 106/200\n",
      "100/100 [==============================] - 0s - loss: 1.5313 - acc: 0.3200     \n",
      "Epoch 107/200\n",
      "100/100 [==============================] - 0s - loss: 1.5326 - acc: 0.3200     \n",
      "Epoch 108/200\n",
      "100/100 [==============================] - 0s - loss: 1.5560 - acc: 0.3000     \n",
      "Epoch 109/200\n",
      "100/100 [==============================] - 0s - loss: 1.5437 - acc: 0.3400     \n",
      "Epoch 110/200\n",
      "100/100 [==============================] - 0s - loss: 1.5460 - acc: 0.3500     \n",
      "Epoch 111/200\n",
      "100/100 [==============================] - 0s - loss: 1.5206 - acc: 0.3100     \n",
      "Epoch 112/200\n",
      "100/100 [==============================] - 0s - loss: 1.5521 - acc: 0.3000     \n",
      "Epoch 113/200\n",
      "100/100 [==============================] - 0s - loss: 1.5679 - acc: 0.3200     \n",
      "Epoch 114/200\n",
      "100/100 [==============================] - 0s - loss: 1.5157 - acc: 0.3400     \n",
      "Epoch 115/200\n",
      "100/100 [==============================] - 0s - loss: 1.5411 - acc: 0.2900     \n",
      "Epoch 116/200\n",
      "100/100 [==============================] - 0s - loss: 1.5860 - acc: 0.2700     \n",
      "Epoch 117/200\n",
      "100/100 [==============================] - 0s - loss: 1.5371 - acc: 0.3200     \n",
      "Epoch 118/200\n",
      "100/100 [==============================] - 0s - loss: 1.5609 - acc: 0.3000     \n",
      "Epoch 119/200\n",
      "100/100 [==============================] - 0s - loss: 1.5280 - acc: 0.3500     \n",
      "Epoch 120/200\n",
      "100/100 [==============================] - 0s - loss: 1.5480 - acc: 0.3300     \n",
      "Epoch 121/200\n",
      "100/100 [==============================] - 0s - loss: 1.5250 - acc: 0.2700     \n",
      "Epoch 122/200\n",
      "100/100 [==============================] - 0s - loss: 1.5186 - acc: 0.3400     \n",
      "Epoch 123/200\n",
      "100/100 [==============================] - 0s - loss: 1.5359 - acc: 0.2800     \n",
      "Epoch 124/200\n",
      "100/100 [==============================] - 0s - loss: 1.5189 - acc: 0.3300     \n",
      "Epoch 125/200\n",
      "100/100 [==============================] - 0s - loss: 1.5306 - acc: 0.3100     \n",
      "Epoch 126/200\n",
      "100/100 [==============================] - 0s - loss: 1.5363 - acc: 0.3100     \n",
      "Epoch 127/200\n",
      "100/100 [==============================] - 0s - loss: 1.5163 - acc: 0.3500     \n",
      "Epoch 128/200\n",
      "100/100 [==============================] - 0s - loss: 1.5160 - acc: 0.3000     \n",
      "Epoch 129/200\n",
      "100/100 [==============================] - 0s - loss: 1.5351 - acc: 0.3400     \n",
      "Epoch 130/200\n",
      "100/100 [==============================] - 0s - loss: 1.5119 - acc: 0.3500     \n",
      "Epoch 131/200\n",
      "100/100 [==============================] - 0s - loss: 1.5256 - acc: 0.3300     \n",
      "Epoch 132/200\n",
      "100/100 [==============================] - 0s - loss: 1.4978 - acc: 0.3500     \n",
      "Epoch 133/200\n",
      "100/100 [==============================] - 0s - loss: 1.5307 - acc: 0.3000     \n",
      "Epoch 134/200\n",
      "100/100 [==============================] - 0s - loss: 1.5094 - acc: 0.3900     \n",
      "Epoch 135/200\n",
      "100/100 [==============================] - 0s - loss: 1.5105 - acc: 0.2800     \n",
      "Epoch 136/200\n",
      "100/100 [==============================] - 0s - loss: 1.5232 - acc: 0.3400     \n",
      "Epoch 137/200\n",
      "100/100 [==============================] - 0s - loss: 1.5069 - acc: 0.3300     \n",
      "Epoch 138/200\n",
      "100/100 [==============================] - 0s - loss: 1.5335 - acc: 0.3400     \n",
      "Epoch 139/200\n",
      "100/100 [==============================] - 0s - loss: 1.5122 - acc: 0.3400     \n",
      "Epoch 140/200\n",
      "100/100 [==============================] - 0s - loss: 1.5195 - acc: 0.2800     \n",
      "Epoch 141/200\n",
      "100/100 [==============================] - 0s - loss: 1.4903 - acc: 0.3000     \n",
      "Epoch 142/200\n",
      "100/100 [==============================] - 0s - loss: 1.5296 - acc: 0.3200     \n",
      "Epoch 143/200\n",
      "100/100 [==============================] - 0s - loss: 1.5101 - acc: 0.4000     \n",
      "Epoch 144/200\n",
      "100/100 [==============================] - 0s - loss: 1.5439 - acc: 0.2500     \n",
      "Epoch 145/200\n",
      "100/100 [==============================] - 0s - loss: 1.5370 - acc: 0.3600     \n",
      "Epoch 146/200\n",
      "100/100 [==============================] - 0s - loss: 1.5277 - acc: 0.3400     \n",
      "Epoch 147/200\n",
      "100/100 [==============================] - 0s - loss: 1.4926 - acc: 0.3200     \n",
      "Epoch 148/200\n",
      "100/100 [==============================] - 0s - loss: 1.5203 - acc: 0.3000     \n",
      "Epoch 149/200\n",
      "100/100 [==============================] - 0s - loss: 1.4956 - acc: 0.3400     \n",
      "Epoch 150/200\n",
      "100/100 [==============================] - 0s - loss: 1.5142 - acc: 0.2900     \n",
      "Epoch 151/200\n",
      "100/100 [==============================] - 0s - loss: 1.5336 - acc: 0.3300     \n",
      "Epoch 152/200\n",
      "100/100 [==============================] - 0s - loss: 1.4857 - acc: 0.3300     \n",
      "Epoch 153/200\n",
      "100/100 [==============================] - 0s - loss: 1.5061 - acc: 0.3300     \n",
      "Epoch 154/200\n",
      "100/100 [==============================] - 0s - loss: 1.4793 - acc: 0.3400     \n",
      "Epoch 155/200\n",
      "100/100 [==============================] - 0s - loss: 1.5185 - acc: 0.3400     \n",
      "Epoch 156/200\n",
      "100/100 [==============================] - 0s - loss: 1.5824 - acc: 0.2700     \n",
      "Epoch 157/200\n",
      "100/100 [==============================] - 0s - loss: 1.5384 - acc: 0.2800     \n",
      "Epoch 158/200\n",
      "100/100 [==============================] - 0s - loss: 1.4866 - acc: 0.3300     \n",
      "Epoch 159/200\n",
      "100/100 [==============================] - 0s - loss: 1.4923 - acc: 0.3800     \n",
      "Epoch 160/200\n",
      "100/100 [==============================] - 0s - loss: 1.5105 - acc: 0.3400     \n",
      "Epoch 161/200\n",
      "100/100 [==============================] - 0s - loss: 1.4897 - acc: 0.3100     \n",
      "Epoch 162/200\n",
      "100/100 [==============================] - 0s - loss: 1.5240 - acc: 0.3400     \n",
      "Epoch 163/200\n",
      "100/100 [==============================] - 0s - loss: 1.5373 - acc: 0.3300     \n",
      "Epoch 164/200\n",
      "100/100 [==============================] - 0s - loss: 1.4816 - acc: 0.3600     \n",
      "Epoch 165/200\n",
      "100/100 [==============================] - 0s - loss: 1.4789 - acc: 0.3300     \n",
      "Epoch 166/200\n",
      "100/100 [==============================] - 0s - loss: 1.5337 - acc: 0.3400     \n",
      "Epoch 167/200\n",
      "100/100 [==============================] - 0s - loss: 1.5019 - acc: 0.3600     \n",
      "Epoch 168/200\n",
      "100/100 [==============================] - 0s - loss: 1.4923 - acc: 0.3800     \n",
      "Epoch 169/200\n",
      "100/100 [==============================] - 0s - loss: 1.5429 - acc: 0.3100     \n",
      "Epoch 170/200\n",
      "100/100 [==============================] - 0s - loss: 1.4966 - acc: 0.3300     \n",
      "Epoch 171/200\n",
      "100/100 [==============================] - 0s - loss: 1.5022 - acc: 0.3300     \n",
      "Epoch 172/200\n",
      "100/100 [==============================] - 0s - loss: 1.4823 - acc: 0.3600     \n",
      "Epoch 173/200\n",
      "100/100 [==============================] - 0s - loss: 1.5063 - acc: 0.3300     \n",
      "Epoch 174/200\n",
      "100/100 [==============================] - 0s - loss: 1.5163 - acc: 0.3100     \n",
      "Epoch 175/200\n"
     ]
    },
    {
     "name": "stdout",
     "output_type": "stream",
     "text": [
      "100/100 [==============================] - 0s - loss: 1.4976 - acc: 0.3200     \n",
      "Epoch 176/200\n",
      "100/100 [==============================] - 0s - loss: 1.4832 - acc: 0.3700     \n",
      "Epoch 177/200\n",
      "100/100 [==============================] - 0s - loss: 1.4800 - acc: 0.3400     \n",
      "Epoch 178/200\n",
      "100/100 [==============================] - 0s - loss: 1.4752 - acc: 0.3200     \n",
      "Epoch 179/200\n",
      "100/100 [==============================] - 0s - loss: 1.5060 - acc: 0.2900     \n",
      "Epoch 180/200\n",
      "100/100 [==============================] - 0s - loss: 1.4454 - acc: 0.3700     \n",
      "Epoch 181/200\n",
      "100/100 [==============================] - 0s - loss: 1.5022 - acc: 0.3300     \n",
      "Epoch 182/200\n",
      "100/100 [==============================] - 0s - loss: 1.4847 - acc: 0.3600     \n",
      "Epoch 183/200\n",
      "100/100 [==============================] - 0s - loss: 1.5272 - acc: 0.3000     \n",
      "Epoch 184/200\n",
      "100/100 [==============================] - 0s - loss: 1.4916 - acc: 0.3200     \n",
      "Epoch 185/200\n",
      "100/100 [==============================] - 0s - loss: 1.4867 - acc: 0.3400     \n",
      "Epoch 186/200\n",
      "100/100 [==============================] - 0s - loss: 1.4852 - acc: 0.3600     \n",
      "Epoch 187/200\n",
      "100/100 [==============================] - 0s - loss: 1.4785 - acc: 0.3700     \n",
      "Epoch 188/200\n",
      "100/100 [==============================] - 0s - loss: 1.5096 - acc: 0.3000     \n",
      "Epoch 189/200\n",
      "100/100 [==============================] - 0s - loss: 1.5231 - acc: 0.3600     \n",
      "Epoch 190/200\n",
      "100/100 [==============================] - 0s - loss: 1.4671 - acc: 0.3100     \n",
      "Epoch 191/200\n",
      "100/100 [==============================] - 0s - loss: 1.4713 - acc: 0.3500     \n",
      "Epoch 192/200\n",
      "100/100 [==============================] - 0s - loss: 1.4973 - acc: 0.3800     \n",
      "Epoch 193/200\n",
      "100/100 [==============================] - 0s - loss: 1.4703 - acc: 0.3500     \n",
      "Epoch 194/200\n",
      "100/100 [==============================] - 0s - loss: 1.4437 - acc: 0.3900     \n",
      "Epoch 195/200\n",
      "100/100 [==============================] - 0s - loss: 1.4756 - acc: 0.3300     \n",
      "Epoch 196/200\n",
      "100/100 [==============================] - 0s - loss: 1.4781 - acc: 0.3300     \n",
      "Epoch 197/200\n",
      "100/100 [==============================] - 0s - loss: 1.4540 - acc: 0.4100     \n",
      "Epoch 198/200\n",
      "100/100 [==============================] - 0s - loss: 1.4412 - acc: 0.3400     \n",
      "Epoch 199/200\n",
      "100/100 [==============================] - 0s - loss: 1.4730 - acc: 0.3300         \n",
      "Epoch 200/200\n",
      "100/100 [==============================] - 0s - loss: 1.4845 - acc: 0.3800     \n"
     ]
    },
    {
     "data": {
      "text/plain": [
       "<keras.callbacks.History at 0x18612673c50>"
      ]
     },
     "execution_count": 40,
     "metadata": {},
     "output_type": "execute_result"
    }
   ],
   "source": [
    "m_perce7 = Sequential()\n",
    "m_perce7.add(Dense(20, input_dim =7, activation='relu'))\n",
    "m_perce7.add(Dropout(0.5))\n",
    "m_perce7.add(Dense(8, activation='relu'))\n",
    "m_perce7.add(Dropout(0.5))\n",
    "m_perce7.add(Dense(5, activation='softmax'))\n",
    "m_perce7.compile(loss='categorical_crossentropy', optimizer='adam', metrics=['accuracy'])\n",
    "m_perce7.fit(patterns_train7, dummy_label_train, epochs=200, batch_size=10)"
   ]
  },
  {
   "cell_type": "markdown",
   "metadata": {
    "nbpresent": {
     "id": "8d64c0b9-ba6a-4841-8087-91a66ab37a42"
    }
   },
   "source": [
    "##### Multilayer Perceptron 10 features"
   ]
  },
  {
   "cell_type": "markdown",
   "metadata": {
    "nbpresent": {
     "id": "a49f0560-b1e7-49e0-ac1d-a3961766d90e"
    }
   },
   "source": [
    "The topology of this MLP is:\n",
    "\n",
    "<center> __10 inputs -> [20 hidden neurons] -> [8 hidden neurons] -> 5 outputs__ </center>\n",
    "![10-features MLP](img/mlp10.png)"
   ]
  },
  {
   "cell_type": "code",
   "execution_count": 41,
   "metadata": {
    "nbpresent": {
     "id": "49d3cbbc-2490-4b70-93b1-00dd4ccfb293"
    }
   },
   "outputs": [
    {
     "name": "stdout",
     "output_type": "stream",
     "text": [
      "Epoch 1/200\n",
      "100/100 [==============================] - 1s - loss: 3.5514 - acc: 0.1800      \n",
      "Epoch 2/200\n",
      "100/100 [==============================] - 0s - loss: 3.6807 - acc: 0.1800     \n",
      "Epoch 3/200\n",
      "100/100 [==============================] - 0s - loss: 2.9860 - acc: 0.2100     \n",
      "Epoch 4/200\n",
      "100/100 [==============================] - 0s - loss: 2.8781 - acc: 0.2200     \n",
      "Epoch 5/200\n",
      "100/100 [==============================] - 0s - loss: 2.7882 - acc: 0.2400     \n",
      "Epoch 6/200\n",
      "100/100 [==============================] - 0s - loss: 2.3544 - acc: 0.2000     \n",
      "Epoch 7/200\n",
      "100/100 [==============================] - 0s - loss: 2.9613 - acc: 0.1800     \n",
      "Epoch 8/200\n",
      "100/100 [==============================] - 0s - loss: 2.1294 - acc: 0.2300     \n",
      "Epoch 9/200\n",
      "100/100 [==============================] - 0s - loss: 2.1126 - acc: 0.1900     \n",
      "Epoch 10/200\n",
      "100/100 [==============================] - 0s - loss: 2.0534 - acc: 0.1800        \n",
      "Epoch 11/200\n",
      "100/100 [==============================] - 0s - loss: 1.8058 - acc: 0.2100     \n",
      "Epoch 12/200\n",
      "100/100 [==============================] - 0s - loss: 1.9667 - acc: 0.2200     \n",
      "Epoch 13/200\n",
      "100/100 [==============================] - 0s - loss: 1.8444 - acc: 0.2800     \n",
      "Epoch 14/200\n",
      "100/100 [==============================] - 0s - loss: 2.0651 - acc: 0.1700     \n",
      "Epoch 15/200\n",
      "100/100 [==============================] - 0s - loss: 1.7422 - acc: 0.2100     \n",
      "Epoch 16/200\n",
      "100/100 [==============================] - 0s - loss: 1.7336 - acc: 0.3200     \n",
      "Epoch 17/200\n",
      "100/100 [==============================] - 0s - loss: 1.6821 - acc: 0.2300     \n",
      "Epoch 18/200\n",
      "100/100 [==============================] - 0s - loss: 1.8525 - acc: 0.1800     \n",
      "Epoch 19/200\n",
      "100/100 [==============================] - 0s - loss: 1.7158 - acc: 0.2000     \n",
      "Epoch 20/200\n",
      "100/100 [==============================] - ETA: 0s - loss: 1.6166 - acc: 0.200 - 0s - loss: 1.7953 - acc: 0.1500     \n",
      "Epoch 21/200\n",
      "100/100 [==============================] - 0s - loss: 1.7692 - acc: 0.2300     \n",
      "Epoch 22/200\n",
      "100/100 [==============================] - 0s - loss: 1.6843 - acc: 0.2300     \n",
      "Epoch 23/200\n",
      "100/100 [==============================] - 0s - loss: 1.6718 - acc: 0.2300     \n",
      "Epoch 24/200\n",
      "100/100 [==============================] - 0s - loss: 1.7485 - acc: 0.2200     \n",
      "Epoch 25/200\n",
      "100/100 [==============================] - 0s - loss: 1.7711 - acc: 0.2200     \n",
      "Epoch 26/200\n",
      "100/100 [==============================] - 0s - loss: 1.7129 - acc: 0.2200     \n",
      "Epoch 27/200\n",
      "100/100 [==============================] - 0s - loss: 1.6504 - acc: 0.2700     \n",
      "Epoch 28/200\n",
      "100/100 [==============================] - 0s - loss: 1.6181 - acc: 0.2100     \n",
      "Epoch 29/200\n",
      "100/100 [==============================] - 0s - loss: 1.6318 - acc: 0.2700     \n",
      "Epoch 30/200\n",
      "100/100 [==============================] - 0s - loss: 1.6341 - acc: 0.2900     \n",
      "Epoch 31/200\n",
      "100/100 [==============================] - 0s - loss: 1.6629 - acc: 0.2800     \n",
      "Epoch 32/200\n",
      "100/100 [==============================] - 0s - loss: 1.6635 - acc: 0.2800     \n",
      "Epoch 33/200\n",
      "100/100 [==============================] - 0s - loss: 1.6356 - acc: 0.3300     \n",
      "Epoch 34/200\n",
      "100/100 [==============================] - 0s - loss: 1.6088 - acc: 0.2800     \n",
      "Epoch 35/200\n",
      "100/100 [==============================] - 0s - loss: 1.6021 - acc: 0.2700     \n",
      "Epoch 36/200\n",
      "100/100 [==============================] - 0s - loss: 1.6002 - acc: 0.2400     \n",
      "Epoch 37/200\n",
      "100/100 [==============================] - 0s - loss: 1.5944 - acc: 0.2700         \n",
      "Epoch 38/200\n",
      "100/100 [==============================] - 0s - loss: 1.6359 - acc: 0.2600     \n",
      "Epoch 39/200\n",
      "100/100 [==============================] - 0s - loss: 1.5710 - acc: 0.3200     \n",
      "Epoch 40/200\n",
      "100/100 [==============================] - 0s - loss: 1.6679 - acc: 0.3200     \n",
      "Epoch 41/200\n",
      "100/100 [==============================] - 0s - loss: 1.5802 - acc: 0.2600     \n",
      "Epoch 42/200\n",
      "100/100 [==============================] - 0s - loss: 1.6037 - acc: 0.2900     \n",
      "Epoch 43/200\n",
      "100/100 [==============================] - 0s - loss: 1.6252 - acc: 0.2000     \n",
      "Epoch 44/200\n",
      "100/100 [==============================] - 0s - loss: 1.5571 - acc: 0.3600     \n",
      "Epoch 45/200\n",
      "100/100 [==============================] - 0s - loss: 1.6148 - acc: 0.2700         \n",
      "Epoch 46/200\n",
      "100/100 [==============================] - 0s - loss: 1.5836 - acc: 0.2900     \n",
      "Epoch 47/200\n",
      "100/100 [==============================] - 0s - loss: 1.5836 - acc: 0.2000     \n",
      "Epoch 48/200\n",
      "100/100 [==============================] - 0s - loss: 1.6225 - acc: 0.2600     \n",
      "Epoch 49/200\n",
      "100/100 [==============================] - 0s - loss: 1.5731 - acc: 0.3100     \n",
      "Epoch 50/200\n",
      "100/100 [==============================] - 0s - loss: 1.6238 - acc: 0.2000     \n",
      "Epoch 51/200\n",
      "100/100 [==============================] - 0s - loss: 1.5929 - acc: 0.3000     \n",
      "Epoch 52/200\n",
      "100/100 [==============================] - 0s - loss: 1.5452 - acc: 0.3100     \n",
      "Epoch 53/200\n",
      "100/100 [==============================] - 0s - loss: 1.5867 - acc: 0.2500     \n",
      "Epoch 54/200\n",
      "100/100 [==============================] - 0s - loss: 1.5499 - acc: 0.3200     \n",
      "Epoch 55/200\n",
      "100/100 [==============================] - 0s - loss: 1.6349 - acc: 0.3100     \n",
      "Epoch 56/200\n",
      "100/100 [==============================] - 0s - loss: 1.5780 - acc: 0.2800     \n",
      "Epoch 57/200\n",
      "100/100 [==============================] - 0s - loss: 1.5752 - acc: 0.3100     \n",
      "Epoch 58/200\n",
      "100/100 [==============================] - 0s - loss: 1.6034 - acc: 0.3100     \n",
      "Epoch 59/200\n",
      "100/100 [==============================] - 0s - loss: 1.5254 - acc: 0.3300     \n",
      "Epoch 60/200\n",
      "100/100 [==============================] - 0s - loss: 1.5617 - acc: 0.2900     \n",
      "Epoch 61/200\n",
      "100/100 [==============================] - 0s - loss: 1.5485 - acc: 0.3300     \n",
      "Epoch 62/200\n",
      "100/100 [==============================] - 0s - loss: 1.5141 - acc: 0.3300     \n",
      "Epoch 63/200\n",
      "100/100 [==============================] - 0s - loss: 1.5589 - acc: 0.3100     \n",
      "Epoch 64/200\n",
      "100/100 [==============================] - 0s - loss: 1.5973 - acc: 0.2400     \n",
      "Epoch 65/200\n",
      "100/100 [==============================] - 0s - loss: 1.6166 - acc: 0.3000     \n",
      "Epoch 66/200\n",
      "100/100 [==============================] - 0s - loss: 1.5612 - acc: 0.3000     \n",
      "Epoch 67/200\n",
      "100/100 [==============================] - 0s - loss: 1.5931 - acc: 0.2500     \n",
      "Epoch 68/200\n",
      "100/100 [==============================] - 0s - loss: 1.5810 - acc: 0.3200     \n",
      "Epoch 69/200\n",
      "100/100 [==============================] - 0s - loss: 1.5899 - acc: 0.3200     \n",
      "Epoch 70/200\n",
      "100/100 [==============================] - 0s - loss: 1.5534 - acc: 0.3300     \n",
      "Epoch 71/200\n",
      "100/100 [==============================] - 0s - loss: 1.5657 - acc: 0.2800     \n",
      "Epoch 72/200\n",
      "100/100 [==============================] - 0s - loss: 1.5919 - acc: 0.2800     \n",
      "Epoch 73/200\n",
      "100/100 [==============================] - 0s - loss: 1.5244 - acc: 0.3300     \n",
      "Epoch 74/200\n",
      "100/100 [==============================] - 0s - loss: 1.5556 - acc: 0.3200     \n",
      "Epoch 75/200\n",
      "100/100 [==============================] - 0s - loss: 1.5829 - acc: 0.2400     \n",
      "Epoch 76/200\n",
      "100/100 [==============================] - 0s - loss: 1.6179 - acc: 0.2700     \n",
      "Epoch 77/200\n",
      "100/100 [==============================] - 0s - loss: 1.5730 - acc: 0.3100     \n",
      "Epoch 78/200\n",
      "100/100 [==============================] - 0s - loss: 1.5510 - acc: 0.3300     \n",
      "Epoch 79/200\n",
      "100/100 [==============================] - 0s - loss: 1.5400 - acc: 0.2800     \n",
      "Epoch 80/200\n",
      "100/100 [==============================] - 0s - loss: 1.5055 - acc: 0.3500     \n",
      "Epoch 81/200\n",
      "100/100 [==============================] - 0s - loss: 1.5123 - acc: 0.3300     \n",
      "Epoch 82/200\n",
      "100/100 [==============================] - 0s - loss: 1.5367 - acc: 0.3100     \n",
      "Epoch 83/200\n",
      "100/100 [==============================] - 0s - loss: 1.6087 - acc: 0.2700     \n",
      "Epoch 84/200\n",
      "100/100 [==============================] - 0s - loss: 1.5693 - acc: 0.2700     \n",
      "Epoch 85/200\n",
      "100/100 [==============================] - 0s - loss: 1.5454 - acc: 0.3400     \n",
      "Epoch 86/200\n",
      "100/100 [==============================] - 0s - loss: 1.6035 - acc: 0.3200     \n",
      "Epoch 87/200\n",
      "100/100 [==============================] - 0s - loss: 1.5462 - acc: 0.3100     \n",
      "Epoch 88/200\n",
      "100/100 [==============================] - 0s - loss: 1.5699 - acc: 0.3400     \n",
      "Epoch 89/200\n",
      "100/100 [==============================] - 0s - loss: 1.5197 - acc: 0.3400     \n",
      "Epoch 90/200\n",
      "100/100 [==============================] - 0s - loss: 1.5549 - acc: 0.2900     \n",
      "Epoch 91/200\n",
      "100/100 [==============================] - 0s - loss: 1.5164 - acc: 0.3400     \n",
      "Epoch 92/200\n",
      "100/100 [==============================] - 0s - loss: 1.5337 - acc: 0.3100     \n",
      "Epoch 93/200\n",
      "100/100 [==============================] - 0s - loss: 1.5439 - acc: 0.3600     \n",
      "Epoch 94/200\n",
      "100/100 [==============================] - 0s - loss: 1.5408 - acc: 0.3000     \n",
      "Epoch 95/200\n",
      "100/100 [==============================] - 0s - loss: 1.5277 - acc: 0.2900     \n",
      "Epoch 96/200\n",
      "100/100 [==============================] - 0s - loss: 1.5027 - acc: 0.3300     \n",
      "Epoch 97/200\n",
      "100/100 [==============================] - 0s - loss: 1.5516 - acc: 0.3500     \n",
      "Epoch 98/200\n",
      "100/100 [==============================] - 0s - loss: 1.5851 - acc: 0.2600     \n",
      "Epoch 99/200\n",
      "100/100 [==============================] - 0s - loss: 1.5704 - acc: 0.3200     \n",
      "Epoch 100/200\n",
      "100/100 [==============================] - 0s - loss: 1.5221 - acc: 0.3400     \n",
      "Epoch 101/200\n",
      "100/100 [==============================] - 0s - loss: 1.5484 - acc: 0.2900     \n",
      "Epoch 102/200\n",
      "100/100 [==============================] - 0s - loss: 1.5296 - acc: 0.3200     \n",
      "Epoch 103/200\n",
      "100/100 [==============================] - 0s - loss: 1.5499 - acc: 0.3400     \n",
      "Epoch 104/200\n",
      "100/100 [==============================] - 0s - loss: 1.5503 - acc: 0.3100     \n",
      "Epoch 105/200\n",
      "100/100 [==============================] - 0s - loss: 1.5846 - acc: 0.3400     \n",
      "Epoch 106/200\n",
      "100/100 [==============================] - 0s - loss: 1.5172 - acc: 0.3500     \n",
      "Epoch 107/200\n",
      "100/100 [==============================] - 0s - loss: 1.5002 - acc: 0.3700     \n",
      "Epoch 108/200\n",
      "100/100 [==============================] - 0s - loss: 1.5704 - acc: 0.3300     \n",
      "Epoch 109/200\n",
      "100/100 [==============================] - 0s - loss: 1.5209 - acc: 0.3500     \n",
      "Epoch 110/200\n",
      "100/100 [==============================] - 0s - loss: 1.5315 - acc: 0.3000     \n",
      "Epoch 111/200\n",
      "100/100 [==============================] - 0s - loss: 1.5383 - acc: 0.2900         \n",
      "Epoch 112/200\n",
      "100/100 [==============================] - 0s - loss: 1.5652 - acc: 0.3200     \n",
      "Epoch 113/200\n",
      "100/100 [==============================] - 0s - loss: 1.5390 - acc: 0.3800     \n",
      "Epoch 114/200\n",
      "100/100 [==============================] - 0s - loss: 1.5415 - acc: 0.3300     \n",
      "Epoch 115/200\n",
      "100/100 [==============================] - 0s - loss: 1.5412 - acc: 0.3600     \n",
      "Epoch 116/200\n",
      "100/100 [==============================] - 0s - loss: 1.5680 - acc: 0.3400     \n",
      "Epoch 117/200\n",
      "100/100 [==============================] - 0s - loss: 1.5695 - acc: 0.2800     \n",
      "Epoch 118/200\n",
      "100/100 [==============================] - 0s - loss: 1.5471 - acc: 0.3200     \n",
      "Epoch 119/200\n",
      "100/100 [==============================] - 0s - loss: 1.5572 - acc: 0.3200     \n",
      "Epoch 120/200\n",
      "100/100 [==============================] - 0s - loss: 1.5400 - acc: 0.2600     \n",
      "Epoch 121/200\n",
      "100/100 [==============================] - 0s - loss: 1.5295 - acc: 0.2800     \n",
      "Epoch 122/200\n",
      "100/100 [==============================] - 0s - loss: 1.5470 - acc: 0.3200     \n",
      "Epoch 123/200\n",
      "100/100 [==============================] - 0s - loss: 1.5347 - acc: 0.2900     \n",
      "Epoch 124/200\n",
      "100/100 [==============================] - 0s - loss: 1.5338 - acc: 0.3400     \n",
      "Epoch 125/200\n",
      "100/100 [==============================] - 0s - loss: 1.5345 - acc: 0.3200     \n",
      "Epoch 126/200\n",
      "100/100 [==============================] - 0s - loss: 1.5335 - acc: 0.3100     \n",
      "Epoch 127/200\n",
      "100/100 [==============================] - 0s - loss: 1.5022 - acc: 0.3000     \n",
      "Epoch 128/200\n",
      "100/100 [==============================] - 0s - loss: 1.5171 - acc: 0.3500     \n",
      "Epoch 129/200\n",
      "100/100 [==============================] - 0s - loss: 1.5413 - acc: 0.2900     \n",
      "Epoch 130/200\n",
      "100/100 [==============================] - 0s - loss: 1.5497 - acc: 0.3100     \n",
      "Epoch 131/200\n",
      "100/100 [==============================] - 0s - loss: 1.5380 - acc: 0.3400     \n",
      "Epoch 132/200\n",
      "100/100 [==============================] - 0s - loss: 1.5319 - acc: 0.3100     \n",
      "Epoch 133/200\n",
      "100/100 [==============================] - 0s - loss: 1.5233 - acc: 0.3100     \n",
      "Epoch 134/200\n",
      "100/100 [==============================] - 0s - loss: 1.5156 - acc: 0.3400     \n",
      "Epoch 135/200\n",
      "100/100 [==============================] - 0s - loss: 1.5052 - acc: 0.3600     \n",
      "Epoch 136/200\n",
      "100/100 [==============================] - 0s - loss: 1.5448 - acc: 0.2900     \n",
      "Epoch 137/200\n",
      "100/100 [==============================] - 0s - loss: 1.5472 - acc: 0.3200     \n",
      "Epoch 138/200\n",
      "100/100 [==============================] - 0s - loss: 1.5169 - acc: 0.3200     \n",
      "Epoch 139/200\n",
      "100/100 [==============================] - 0s - loss: 1.5488 - acc: 0.2900     \n",
      "Epoch 140/200\n",
      "100/100 [==============================] - 0s - loss: 1.5389 - acc: 0.3100     \n",
      "Epoch 141/200\n",
      "100/100 [==============================] - 0s - loss: 1.5392 - acc: 0.3400     \n",
      "Epoch 142/200\n",
      "100/100 [==============================] - 0s - loss: 1.5436 - acc: 0.3200     \n",
      "Epoch 143/200\n",
      "100/100 [==============================] - 0s - loss: 1.5359 - acc: 0.3100     \n",
      "Epoch 144/200\n",
      "100/100 [==============================] - 0s - loss: 1.5512 - acc: 0.2700     \n",
      "Epoch 145/200\n",
      "100/100 [==============================] - 0s - loss: 1.5171 - acc: 0.3000     \n",
      "Epoch 146/200\n",
      "100/100 [==============================] - 0s - loss: 1.5131 - acc: 0.3400     \n",
      "Epoch 147/200\n",
      "100/100 [==============================] - 0s - loss: 1.5393 - acc: 0.3000     \n",
      "Epoch 148/200\n",
      "100/100 [==============================] - 0s - loss: 1.4950 - acc: 0.3200     \n",
      "Epoch 149/200\n",
      "100/100 [==============================] - 0s - loss: 1.5427 - acc: 0.2800     \n",
      "Epoch 150/200\n",
      "100/100 [==============================] - 0s - loss: 1.5386 - acc: 0.3100     \n",
      "Epoch 151/200\n",
      "100/100 [==============================] - 0s - loss: 1.5100 - acc: 0.3200     \n",
      "Epoch 152/200\n",
      "100/100 [==============================] - 0s - loss: 1.5300 - acc: 0.3200     \n",
      "Epoch 153/200\n",
      "100/100 [==============================] - 0s - loss: 1.5073 - acc: 0.2900     \n",
      "Epoch 154/200\n",
      "100/100 [==============================] - 0s - loss: 1.5180 - acc: 0.2800     \n",
      "Epoch 155/200\n",
      "100/100 [==============================] - 0s - loss: 1.5055 - acc: 0.3200     \n",
      "Epoch 156/200\n",
      "100/100 [==============================] - 0s - loss: 1.5045 - acc: 0.3200     \n",
      "Epoch 157/200\n",
      "100/100 [==============================] - 0s - loss: 1.5014 - acc: 0.2700     \n",
      "Epoch 158/200\n",
      "100/100 [==============================] - 0s - loss: 1.5110 - acc: 0.3300     \n",
      "Epoch 159/200\n",
      "100/100 [==============================] - 0s - loss: 1.4729 - acc: 0.3100     \n",
      "Epoch 160/200\n",
      "100/100 [==============================] - 0s - loss: 1.4647 - acc: 0.3900     \n",
      "Epoch 161/200\n",
      "100/100 [==============================] - 0s - loss: 1.4992 - acc: 0.3400     \n",
      "Epoch 162/200\n",
      "100/100 [==============================] - 0s - loss: 1.4901 - acc: 0.3700     \n",
      "Epoch 163/200\n",
      "100/100 [==============================] - 0s - loss: 1.4916 - acc: 0.3500     \n",
      "Epoch 164/200\n",
      "100/100 [==============================] - 0s - loss: 1.4806 - acc: 0.2900     \n",
      "Epoch 165/200\n",
      "100/100 [==============================] - 0s - loss: 1.5115 - acc: 0.2900     \n",
      "Epoch 166/200\n",
      "100/100 [==============================] - 0s - loss: 1.4769 - acc: 0.3500     \n",
      "Epoch 167/200\n",
      "100/100 [==============================] - 0s - loss: 1.4935 - acc: 0.3200     \n",
      "Epoch 168/200\n",
      "100/100 [==============================] - 0s - loss: 1.5561 - acc: 0.3300     \n",
      "Epoch 169/200\n",
      "100/100 [==============================] - 0s - loss: 1.5346 - acc: 0.2700     \n",
      "Epoch 170/200\n",
      "100/100 [==============================] - 0s - loss: 1.5458 - acc: 0.2900     \n",
      "Epoch 171/200\n",
      "100/100 [==============================] - 0s - loss: 1.5232 - acc: 0.3000     \n",
      "Epoch 172/200\n",
      "100/100 [==============================] - 0s - loss: 1.4766 - acc: 0.3700     \n",
      "Epoch 173/200\n",
      "100/100 [==============================] - 0s - loss: 1.4804 - acc: 0.3200     \n",
      "Epoch 174/200\n",
      "100/100 [==============================] - 0s - loss: 1.5101 - acc: 0.2800     \n",
      "Epoch 175/200\n"
     ]
    },
    {
     "name": "stdout",
     "output_type": "stream",
     "text": [
      "100/100 [==============================] - 0s - loss: 1.4595 - acc: 0.3000     \n",
      "Epoch 176/200\n",
      "100/100 [==============================] - 0s - loss: 1.4876 - acc: 0.3200     \n",
      "Epoch 177/200\n",
      "100/100 [==============================] - 0s - loss: 1.5081 - acc: 0.3300     \n",
      "Epoch 178/200\n",
      "100/100 [==============================] - 0s - loss: 1.4908 - acc: 0.3300     \n",
      "Epoch 179/200\n",
      "100/100 [==============================] - 0s - loss: 1.5198 - acc: 0.2800     \n",
      "Epoch 180/200\n",
      "100/100 [==============================] - 0s - loss: 1.4951 - acc: 0.2800     \n",
      "Epoch 181/200\n",
      "100/100 [==============================] - 0s - loss: 1.5106 - acc: 0.3100     \n",
      "Epoch 182/200\n",
      "100/100 [==============================] - 0s - loss: 1.4731 - acc: 0.3300     \n",
      "Epoch 183/200\n",
      "100/100 [==============================] - 0s - loss: 1.4901 - acc: 0.3300     \n",
      "Epoch 184/200\n",
      "100/100 [==============================] - 0s - loss: 1.4659 - acc: 0.3300     \n",
      "Epoch 185/200\n",
      "100/100 [==============================] - 0s - loss: 1.4757 - acc: 0.3200     \n",
      "Epoch 186/200\n",
      "100/100 [==============================] - 0s - loss: 1.4764 - acc: 0.3500     \n",
      "Epoch 187/200\n",
      "100/100 [==============================] - 0s - loss: 1.5484 - acc: 0.3000     \n",
      "Epoch 188/200\n",
      "100/100 [==============================] - 0s - loss: 1.4801 - acc: 0.3300     \n",
      "Epoch 189/200\n",
      "100/100 [==============================] - 0s - loss: 1.4697 - acc: 0.3600     \n",
      "Epoch 190/200\n",
      "100/100 [==============================] - 0s - loss: 1.5285 - acc: 0.2800     \n",
      "Epoch 191/200\n",
      "100/100 [==============================] - 0s - loss: 1.5139 - acc: 0.3000     \n",
      "Epoch 192/200\n",
      "100/100 [==============================] - 0s - loss: 1.4619 - acc: 0.3300     \n",
      "Epoch 193/200\n",
      "100/100 [==============================] - 0s - loss: 1.4402 - acc: 0.2800     \n",
      "Epoch 194/200\n",
      "100/100 [==============================] - 0s - loss: 1.4184 - acc: 0.3000         \n",
      "Epoch 195/200\n",
      "100/100 [==============================] - 0s - loss: 1.4798 - acc: 0.3600     \n",
      "Epoch 196/200\n",
      "100/100 [==============================] - 0s - loss: 1.5236 - acc: 0.3000     \n",
      "Epoch 197/200\n",
      "100/100 [==============================] - 0s - loss: 1.4427 - acc: 0.3500     \n",
      "Epoch 198/200\n",
      "100/100 [==============================] - 0s - loss: 1.4606 - acc: 0.3400     \n",
      "Epoch 199/200\n",
      "100/100 [==============================] - 0s - loss: 1.5159 - acc: 0.3000     \n",
      "Epoch 200/200\n",
      "100/100 [==============================] - 0s - loss: 1.4653 - acc: 0.3100     \n"
     ]
    },
    {
     "data": {
      "text/plain": [
       "<keras.callbacks.History at 0x18612b7b780>"
      ]
     },
     "execution_count": 41,
     "metadata": {},
     "output_type": "execute_result"
    }
   ],
   "source": [
    "m_perce10 = Sequential() \n",
    "m_perce10.add(Dense(20, input_dim =10, activation='relu'))\n",
    "m_perce10.add(Dropout(0.5))\n",
    "m_perce10.add(Dense(8, activation='relu'))\n",
    "m_perce10.add(Dropout(0.5))\n",
    "m_perce10.add(Dense(5, activation='softmax'))\n",
    "m_perce10.compile(loss='categorical_crossentropy', optimizer='adam', metrics=['accuracy'])\n",
    "m_perce10.fit(patterns_train10, dummy_label_train, epochs=200, batch_size=10)"
   ]
  },
  {
   "cell_type": "markdown",
   "metadata": {
    "collapsed": true,
    "nbpresent": {
     "id": "9cd9c5a2-e045-42ed-98ea-25fee6b8f016"
    }
   },
   "source": [
    "## Models Evaluation <a id='models_evaluation'></a>\n"
   ]
  },
  {
   "cell_type": "markdown",
   "metadata": {
    "nbpresent": {
     "id": "2422bd1e-0cf5-4da5-9a4d-2d8ac046b4ac"
    }
   },
   "source": [
    "We now evaluate the performance of the various models with the various features, and to do so, we create an __evaluate__ function that performs a prediction on the test set and provides the percentage of the exact answers"
   ]
  },
  {
   "cell_type": "code",
   "execution_count": 179,
   "metadata": {
    "collapsed": true,
    "nbpresent": {
     "id": "e15c1162-1fda-49c0-ac68-ad6e1c66f88c"
    }
   },
   "outputs": [],
   "source": [
    "def evaluate(model, X, y, name='Model'):\n",
    "    classes = model.predict(X, batch_size=50)\n",
    "    neg=0\n",
    "    for i in range(50):\n",
    "        if((np.argmax(classes[i])+1) - (y[i]) != 0):\n",
    "            neg+=1\n",
    "    perc = (50 - neg)*100/50\n",
    "    print(name+\", percentage of correct classification:\\t\"+str(perc)+\"%\")"
   ]
  },
  {
   "cell_type": "code",
   "execution_count": 182,
   "metadata": {
    "nbpresent": {
     "id": "22731c62-1004-460a-a2a2-1a0049441406"
    }
   },
   "outputs": [
    {
     "name": "stdout",
     "output_type": "stream",
     "text": [
      "3-features Perceptron, percentage of correct classification:\t36.0%\n"
     ]
    }
   ],
   "source": [
    "evaluate(perce3, patterns_test3, labels_test, '3-features Perceptron')"
   ]
  },
  {
   "cell_type": "code",
   "execution_count": 183,
   "metadata": {
    "nbpresent": {
     "id": "876c3f8f-927c-453e-b580-5ee5a42adf12"
    }
   },
   "outputs": [
    {
     "name": "stdout",
     "output_type": "stream",
     "text": [
      "7-features Perceptron, percentage of correct classification:\t46.0%\n"
     ]
    }
   ],
   "source": [
    "evaluate(perce7, patterns_test7, labels_test, '7-features Perceptron')"
   ]
  },
  {
   "cell_type": "code",
   "execution_count": 184,
   "metadata": {
    "nbpresent": {
     "id": "2b39f1bf-b823-4aa1-98fb-3f8631145859"
    }
   },
   "outputs": [
    {
     "name": "stdout",
     "output_type": "stream",
     "text": [
      "10-features Perceptron, percentage of correct classification:\t38.0%\n"
     ]
    }
   ],
   "source": [
    "evaluate(perce10, patterns_test10, labels_test, '10-features Perceptron')"
   ]
  },
  {
   "cell_type": "code",
   "execution_count": 185,
   "metadata": {
    "nbpresent": {
     "id": "f370a750-abef-4ef2-a9ba-aeeeeca193c2"
    }
   },
   "outputs": [
    {
     "name": "stdout",
     "output_type": "stream",
     "text": [
      "3-features MLP, percentage of correct classification:\t30.0%\n"
     ]
    }
   ],
   "source": [
    "evaluate(m_perce3, patterns_test3, labels_test, '3-features MLP')"
   ]
  },
  {
   "cell_type": "code",
   "execution_count": 186,
   "metadata": {
    "nbpresent": {
     "id": "88de643a-0b0e-4dbd-96a3-751a43fa9f04"
    }
   },
   "outputs": [
    {
     "name": "stdout",
     "output_type": "stream",
     "text": [
      "7-features MLP, percentage of correct classification:\t34.0%\n"
     ]
    }
   ],
   "source": [
    "evaluate(m_perce7, patterns_test7, labels_test, '7-features MLP')"
   ]
  },
  {
   "cell_type": "code",
   "execution_count": 187,
   "metadata": {
    "nbpresent": {
     "id": "c20acc78-2576-4be5-b1ea-59f4a7b854bb"
    }
   },
   "outputs": [
    {
     "name": "stdout",
     "output_type": "stream",
     "text": [
      "10-features MLP, percentage of correct classification:\t32.0%\n"
     ]
    }
   ],
   "source": [
    "evaluate(m_perce10, patterns_test10, labels_test, '10-features MLP')"
   ]
  },
  {
   "cell_type": "markdown",
   "metadata": {
    "nbpresent": {
     "id": "242f36ad-97bd-498f-8579-4a310c04e393"
    }
   },
   "source": [
    "## Models Comparison <a id='models_comparison'></a>\n"
   ]
  },
  {
   "cell_type": "markdown",
   "metadata": {
    "nbpresent": {
     "id": "52db61b3-5434-429e-8386-e423cb564009"
    }
   },
   "source": [
    "As we can see, the best model is the single-layer percetron that uses 7 features __(7-features Perceptron)__ with accuracy of $42\\%$. In general, single-layer perceptron has slightly better than MLPs since the number of features used is relatively low, as well as the number of patterns, and therefore the addition of new layers (in our case only 1) only worsens the results. One thing that we must be have in mind about the single-layer perceptron is that, classical perceptron is a binary classifier, so it is not able to solve classification problems with $n$ classes. In our example, we used a variation that forces the perceptron to classify $n$ classes but this, as we can see from the results, is not enough to get a good model. So in the future you can use other   Machine Learning's multivariate model such as Random Forest or Support Vector Machine that could improve its accuracy. In addition, the accuracy of the models  is affected by the fact that many of the features used have outliers, so they are not good candidates for classification. This problem can be solved by eliminating the features that have outliers, but it would make sense if the data had not been created from scratch to try to emulate the reality. This effort can be made in the presence of a real dataset."
   ]
  },
  {
   "cell_type": "markdown",
   "metadata": {
    "nbpresent": {
     "id": "74e93387-05f1-4a03-8935-8d65309225d0"
    }
   },
   "source": [
    "### Conclusions <a id='conclusions'></a>"
   ]
  },
  {
   "cell_type": "markdown",
   "metadata": {
    "nbpresent": {
     "id": "8f0eba0a-d8e4-4b95-8c75-c06d8b1156c5"
    }
   },
   "source": [
    "At the end, we can draw conclusions of everything we said. Given a set of PBIs to be prioritized, the Product Owner can use the 7-features perceptron model to have a priority base with 46% of these well-assigned. The problem is that you do not know which of the PBIs is well prioritized, so it will be the experience of the Product Owner to have the last word. This process eliminates the first prioritization iteration, which is usually the longest because it involves a series of multi-dimensional considerations and judgments, leaving to the product owner  only the burden of revising the PBIs. In the end, the purpose of this approach wasn't to make the prioritization process automated, but to provide support to the product owner, this help is realized by the creation of a prioritization basis that will be exactly for $46\\%$."
   ]
  },
  {
   "cell_type": "markdown",
   "metadata": {
    "nbpresent": {
     "id": "119c09bc-f1ac-424e-ac29-44c8e7aa5134"
    }
   },
   "source": [
    "# References <a id='references'></a>\n"
   ]
  },
  {
   "cell_type": "markdown",
   "metadata": {
    "nbpresent": {
     "id": "fb7e08d1-bec0-4f4a-8834-3b9e77a08a7e"
    }
   },
   "source": [
    "1. Essential Scrum - A Practical Guide to the Most Popular Agile Process\" by Kenneth S. Rubin \n",
    "2. https://michaellant.com/2010/05/21/how-to-easily-prioritize-your-agile-stories/\n",
    "3. https://www.scrumalliance.org/community/articles/2012/january/key-dimensions-of-user-stories\n",
    "4. https://keras.io/getting-started/sequential-model-guide/\n",
    "5. http://machinelearningmastery.com/multi-class-classification-tutorial-keras-deep-learning-library/"
   ]
  },
  {
   "cell_type": "markdown",
   "metadata": {
    "nbpresent": {
     "id": "aa435a5f-849b-483d-8509-f468362d76e3"
    }
   },
   "source": [
    "# Appendix - A general approach to explore the dataset and acquiring knowledge <a id='appendix'></a>"
   ]
  },
  {
   "cell_type": "markdown",
   "metadata": {
    "nbpresent": {
     "id": "07541956-f6bc-4029-8cbb-33c5e66974d4"
    }
   },
   "source": [
    "In this section, I would like to propose a generalized version of the approach that I used to explore the dataset and to acquire the knowledge needed to understand the domain. The format with which I will set out my suggestions will be in the form of a to-do list, and where I can, I will refer to the examples discussed in the notebook. OK, let's start:\n",
    "\n",
    "+ The first thing to do is, of course, to have a question to answer, whether it's provided by a buyer or  it's just for curiosity;\n",
    "+ Then you have to  collect data:\n",
    "  + Usually the data is provided by the organization for which it is being processed;\n",
    "  + Could also be collected by sensors or documents;\n",
    "  + Or, as in my case, for simple experiments can be emulated or written from scratch;\n",
    "+ You have to understand the meaning of the data, so you have to describe each features in detail. Knowledge can be derived from different sources:\n",
    "    + Doing interviews with domain experts;\n",
    "    + Reading books or documents describing the domain. In my case, for example, I have deepened my knowledge of Scrum, the role of product owner, and prioritization of PBIs, by reading  \"Essential Scrum - A Practical Guide to the Most Popular Agile Process\" by Kenneth S. Rubin and not only. Indeed, in the paragraph [Soluion Overview](#solution_overview) there are also references to some posts found on the internet that speak about the prioritization of PBIs.\n",
    "    + From some courses followed online or at university, I am fortunate because I attended a university course on project management where Scrum topics were discussed. This notebook is the result of the final project assigned during this course.\n",
    "+ Now is the time to get your hands dirty with the data:\n",
    "    + Look at the data to find out if there are missing or wrong data, if yes yo uhave to correct or delete them, the choice depends on which of the two changes alters less the result of the analysis;\n",
    "    + Use the boxplot to find the outlier and try to understand if these should be removed or not;\n",
    "    + Use boxplot and histograms to find outliers and try to understand whether these should be removed or not;\n",
    "    + The covariance and correlation matrices can be useful for highlighting linear links between features. In case the features are so many, the heatmap of the above matrices can be a great way to visualize the linear links;\n",
    "    + There are so many other visualization techniques that can be useful but it is impossible to analyze them all in this context. Seaborn documentation is the best place to find the best visualization techniques for any event.\n",
    "    \n",
    "In case you have to apply a machine learning model you need to know them otherwise you have to study them, there are no other ways. When creating neural networks, the keyword in my case was \"experimentation.\" But let's go ahead in order.\n",
    "\n",
    "+ In general, to apply a machine learning model, you first have to do a features selection, to find out which one of them are the best to separate the data;\n",
    "+ You have to divide the dataset into the train and test set by randomly sampling the data from the complete dataset;\n",
    "+ Next, you have to choose a model to apply, this choice depends a lot on the type of problem that may be of classification or regression. Below you can find a map provided by __scikit-learn__ that helps you to choose the right model.\n",
    "\n",
    "![ML map](img/ml-map.png)\n",
    "\n",
    "+ Then, it is necessary to evaluate the model to see if it solves the problem at the beginning;\n",
    "+ The last thing to do, but probably the most important thing, is to arrange all the information in a document or presentation which will be shared with the customers. The fundamental thing is that this document (or presentation) must be written in such a way that it can communicate effectively the results obtained. For this type of document, the Jupyter Notebook can be really effective tools as it allows you to have both code and graphics in the same workspace as well as all the documentation needed to explain them.\n",
    "\n",
    "That's all. This section contains all the experience gathered during the realization of this project. I hope these guidelines can be a reference for those who approach the data analysis."
   ]
  },
  {
   "cell_type": "markdown",
   "metadata": {
    "nbpresent": {
     "id": "630098e4-92d5-482b-9544-cbe8c3c403a3"
    }
   },
   "source": [
    "---"
   ]
  },
  {
   "cell_type": "markdown",
   "metadata": {
    "nbpresent": {
     "id": "511fee92-b79f-4c94-b656-0f6765e931ff"
    }
   },
   "source": [
    "![Davide Mastricci photo](img/profile3.jpg)\n",
    "# Davide Mastricci\n",
    "Master's student of Business Innovation and Informatics with specialization in Computational Intelligence and Data Analytics at the University of Salerno.\n",
    "Contacts\n",
    "+ Email: davide.mastricci7@gmail.com\n",
    "+ Linkedin: https://www.linkedin.com/in/davide-mastricci-685179109\n",
    "+ Twitter: https://twitter.com/DevilSeven7\n",
    "+ Github: https://github.com/DevilSeven7"
   ]
  },
  {
   "cell_type": "code",
   "execution_count": null,
   "metadata": {
    "collapsed": true
   },
   "outputs": [],
   "source": []
  }
 ],
 "metadata": {
  "kernelspec": {
   "display_name": "Python [conda env:tensorflow]",
   "language": "python",
   "name": "conda-env-tensorflow-py"
  },
  "language_info": {
   "codemirror_mode": {
    "name": "ipython",
    "version": 3
   },
   "file_extension": ".py",
   "mimetype": "text/x-python",
   "name": "python",
   "nbconvert_exporter": "python",
   "pygments_lexer": "ipython3",
   "version": "3.5.3"
  },
  "livereveal": {
   "scroll": "True"
  },
  "nbpresent": {
   "slides": {
    "1fbbe633-171e-4453-98e1-25505613df82": {
     "id": "1fbbe633-171e-4453-98e1-25505613df82",
     "prev": null,
     "regions": {
      "b1907647-f7e8-4e6f-91d5-aafeb05676af": {
       "attrs": {
        "height": 1,
        "width": 1,
        "x": 0,
        "y": 0
       },
       "content": {
        "cell": "2af4f669-c205-42d8-944f-58558410660f",
        "part": "whole"
       },
       "id": "b1907647-f7e8-4e6f-91d5-aafeb05676af"
      }
     }
    },
    "f0e6985d-b2b7-49f6-aebd-d9d24c0bff0f": {
     "id": "f0e6985d-b2b7-49f6-aebd-d9d24c0bff0f",
     "prev": "1fbbe633-171e-4453-98e1-25505613df82",
     "regions": {
      "16fe786f-4cea-4b57-8377-63d2698efad1": {
       "attrs": {
        "height": 1,
        "width": 1,
        "x": 0,
        "y": 0
       },
       "content": {
        "cell": "18dcca94-9e05-4f55-b9b1-8362fbeb0925",
        "part": "whole"
       },
       "id": "16fe786f-4cea-4b57-8377-63d2698efad1"
      }
     }
    }
   },
   "themes": {}
  }
 },
 "nbformat": 4,
 "nbformat_minor": 2
}
